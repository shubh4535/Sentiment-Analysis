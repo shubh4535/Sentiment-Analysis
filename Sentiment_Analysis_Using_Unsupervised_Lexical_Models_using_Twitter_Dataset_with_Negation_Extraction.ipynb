{
  "cells": [
    {
      "cell_type": "markdown",
      "metadata": {
        "id": "view-in-github",
        "colab_type": "text"
      },
      "source": [
        "<a href=\"https://colab.research.google.com/github/shubh4535/Sentiment-Analysis/blob/main/Sentiment_Analysis_Using_Unsupervised_Lexical_Models_using_Twitter_Dataset_with_Negation_Extraction.ipynb\" target=\"_parent\"><img src=\"https://colab.research.google.com/assets/colab-badge.svg\" alt=\"Open In Colab\"/></a>"
      ]
    },
    {
      "cell_type": "markdown",
      "metadata": {
        "id": "BPqAmmMhIsSJ"
      },
      "source": [
        "***Sentiment Analysis*** also konwn as opinion mining or emotion AI is perhaps one of the most popular applications of natural language processing and text analytics with a vast number of websites, books and tutorials on this subject. Typically sentiment analysis seems to work best on subjective text, where people express opinions, feelings, and their mood. From a real-world industry standpoint, sentiment analysis is widely used to analyze corporate surveys, feedback surveys, social media data, and reviews for movies, places, commodities, and many more. The idea is to analyze and understand the reactions of people toward a specific entity and take insightful actions based on their sentiment."
      ]
    },
    {
      "cell_type": "markdown",
      "metadata": {
        "id": "hyuOQloldLMh"
      },
      "source": [
        "# Extracting The Dataset\n"
      ]
    },
    {
      "cell_type": "code",
      "execution_count": null,
      "metadata": {
        "colab": {
          "base_uri": "https://localhost:8080/"
        },
        "id": "81wguOoZdQ3S",
        "outputId": "252dee80-cc53-4c5e-ac77-9ee9ddd3c1d3"
      },
      "outputs": [
        {
          "output_type": "stream",
          "name": "stdout",
          "text": [
            "Requirement already satisfied: kaggle in /usr/local/lib/python3.10/dist-packages (1.6.14)\n",
            "Requirement already satisfied: six>=1.10 in /usr/local/lib/python3.10/dist-packages (from kaggle) (1.16.0)\n",
            "Requirement already satisfied: certifi>=2023.7.22 in /usr/local/lib/python3.10/dist-packages (from kaggle) (2024.2.2)\n",
            "Requirement already satisfied: python-dateutil in /usr/local/lib/python3.10/dist-packages (from kaggle) (2.8.2)\n",
            "Requirement already satisfied: requests in /usr/local/lib/python3.10/dist-packages (from kaggle) (2.31.0)\n",
            "Requirement already satisfied: tqdm in /usr/local/lib/python3.10/dist-packages (from kaggle) (4.66.4)\n",
            "Requirement already satisfied: python-slugify in /usr/local/lib/python3.10/dist-packages (from kaggle) (8.0.4)\n",
            "Requirement already satisfied: urllib3 in /usr/local/lib/python3.10/dist-packages (from kaggle) (2.0.7)\n",
            "Requirement already satisfied: bleach in /usr/local/lib/python3.10/dist-packages (from kaggle) (6.1.0)\n",
            "Requirement already satisfied: webencodings in /usr/local/lib/python3.10/dist-packages (from bleach->kaggle) (0.5.1)\n",
            "Requirement already satisfied: text-unidecode>=1.3 in /usr/local/lib/python3.10/dist-packages (from python-slugify->kaggle) (1.3)\n",
            "Requirement already satisfied: charset-normalizer<4,>=2 in /usr/local/lib/python3.10/dist-packages (from requests->kaggle) (3.3.2)\n",
            "Requirement already satisfied: idna<4,>=2.5 in /usr/local/lib/python3.10/dist-packages (from requests->kaggle) (3.7)\n"
          ]
        }
      ],
      "source": [
        "!pip install kaggle"
      ]
    },
    {
      "cell_type": "markdown",
      "metadata": {
        "id": "sLC3j59Of1zo"
      },
      "source": [
        "To set the path for fetching dataset from kaggle using kaggle.json file which is downloaded upon creating new API token in your kaggle account."
      ]
    },
    {
      "cell_type": "code",
      "execution_count": null,
      "metadata": {
        "colab": {
          "base_uri": "https://localhost:8080/"
        },
        "id": "mOn7bKIEfjxT",
        "outputId": "b5ae47a4-0845-4778-9506-640828ee0f57"
      },
      "outputs": [
        {
          "output_type": "stream",
          "name": "stdout",
          "text": [
            "cp: cannot stat 'kaggle.json': No such file or directory\n",
            "chmod: cannot access '/root/.kaggle/kaggle.json': No such file or directory\n"
          ]
        }
      ],
      "source": [
        "!mkdir -p ~/.kaggle\n",
        "!cp kaggle.json ~/.kaggle/\n",
        "!chmod 600 ~/.kaggle/kaggle.json"
      ]
    },
    {
      "cell_type": "markdown",
      "metadata": {
        "id": "JjGvjs3FfvSj"
      },
      "source": [
        "API Command to fetch Dataset from Kaggle"
      ]
    },
    {
      "cell_type": "code",
      "execution_count": null,
      "metadata": {
        "colab": {
          "base_uri": "https://localhost:8080/"
        },
        "id": "XG82CTYigHNg",
        "outputId": "ca2ed1ed-a987-4fb4-b773-c1ba7f5f06b9"
      },
      "outputs": [
        {
          "output_type": "stream",
          "name": "stdout",
          "text": [
            "Dataset URL: https://www.kaggle.com/datasets/kazanova/sentiment140\n",
            "License(s): other\n",
            "Downloading sentiment140.zip to /content\n",
            " 85% 69.0M/80.9M [00:00<00:00, 160MB/s] \n",
            "100% 80.9M/80.9M [00:00<00:00, 150MB/s]\n"
          ]
        }
      ],
      "source": [
        "!kaggle datasets download -d kazanova/sentiment140"
      ]
    },
    {
      "cell_type": "markdown",
      "metadata": {
        "id": "frSyLjzXkf1c"
      },
      "source": [
        "Extracting the content"
      ]
    },
    {
      "cell_type": "code",
      "execution_count": null,
      "metadata": {
        "colab": {
          "base_uri": "https://localhost:8080/"
        },
        "id": "iG-q1NKJijFN",
        "outputId": "c7f29319-4b05-4601-871b-12e63c85d6ab"
      },
      "outputs": [
        {
          "output_type": "stream",
          "name": "stdout",
          "text": [
            "Extracted\n"
          ]
        }
      ],
      "source": [
        "from zipfile import ZipFile\n",
        "twitt_dataset = '/content/sentiment140.zip'\n",
        "\n",
        "with ZipFile(twitt_dataset, 'r') as zip_ref:\n",
        "  zip_ref.extractall()\n",
        "  print('Extracted')"
      ]
    },
    {
      "cell_type": "code",
      "execution_count": null,
      "metadata": {
        "id": "K-hWKNBjl1Ru"
      },
      "outputs": [],
      "source": [
        "import pandas as pd"
      ]
    },
    {
      "cell_type": "code",
      "execution_count": null,
      "metadata": {
        "id": "MUCLQXP5ke9v"
      },
      "outputs": [],
      "source": [
        "twitter_data = pd.read_csv('/content/training.1600000.processed.noemoticon.csv', encoding='ISO-8859-1')"
      ]
    },
    {
      "cell_type": "code",
      "execution_count": null,
      "metadata": {
        "colab": {
          "base_uri": "https://localhost:8080/"
        },
        "id": "L_bKtiLpmYQs",
        "outputId": "d4184655-7dda-4e10-abbf-ded4e8146b5c"
      },
      "outputs": [
        {
          "output_type": "execute_result",
          "data": {
            "text/plain": [
              "(1599999, 6)"
            ]
          },
          "metadata": {},
          "execution_count": 7
        }
      ],
      "source": [
        "twitter_data.shape"
      ]
    },
    {
      "cell_type": "markdown",
      "metadata": {
        "id": "YOcE3Mypm9PU"
      },
      "source": [
        "Naming the coloumns"
      ]
    },
    {
      "cell_type": "code",
      "execution_count": null,
      "metadata": {
        "id": "Gpo0Cu84mQ6G"
      },
      "outputs": [],
      "source": [
        "coloumn_names = ['sentiment', 'id', 'date', 'flag', 'user', 'comment']\n",
        "twitter_data = pd.read_csv('/content/training.1600000.processed.noemoticon.csv', names=coloumn_names, encoding='ISO-8859-1')"
      ]
    },
    {
      "cell_type": "code",
      "execution_count": null,
      "metadata": {
        "colab": {
          "base_uri": "https://localhost:8080/"
        },
        "id": "heCNRa6pmjUT",
        "outputId": "167f292e-087c-450e-9070-5f9b7eb736c2"
      },
      "outputs": [
        {
          "output_type": "execute_result",
          "data": {
            "text/plain": [
              "(1600000, 6)"
            ]
          },
          "metadata": {},
          "execution_count": 9
        }
      ],
      "source": [
        "twitter_data.shape"
      ]
    },
    {
      "cell_type": "code",
      "execution_count": null,
      "metadata": {
        "colab": {
          "base_uri": "https://localhost:8080/"
        },
        "id": "Catob-TVmk10",
        "outputId": "2f02ccd9-3b9e-41b9-dd1d-7942fdaf5e65"
      },
      "outputs": [
        {
          "output_type": "stream",
          "name": "stdout",
          "text": [
            "<class 'pandas.core.frame.DataFrame'>\n",
            "RangeIndex: 1600000 entries, 0 to 1599999\n",
            "Data columns (total 6 columns):\n",
            " #   Column     Non-Null Count    Dtype \n",
            "---  ------     --------------    ----- \n",
            " 0   sentiment  1600000 non-null  int64 \n",
            " 1   id         1600000 non-null  int64 \n",
            " 2   date       1600000 non-null  object\n",
            " 3   flag       1600000 non-null  object\n",
            " 4   user       1600000 non-null  object\n",
            " 5   comment    1600000 non-null  object\n",
            "dtypes: int64(2), object(4)\n",
            "memory usage: 73.2+ MB\n"
          ]
        }
      ],
      "source": [
        "twitter_data.info()"
      ]
    },
    {
      "cell_type": "code",
      "execution_count": null,
      "metadata": {
        "colab": {
          "base_uri": "https://localhost:8080/",
          "height": 206
        },
        "id": "YWI7jSDOnTEx",
        "outputId": "29115373-4555-43bc-da76-4df2ef8dbbbc"
      },
      "outputs": [
        {
          "output_type": "execute_result",
          "data": {
            "text/plain": [
              "   sentiment          id                          date      flag  \\\n",
              "0          0  1467810369  Mon Apr 06 22:19:45 PDT 2009  NO_QUERY   \n",
              "1          0  1467810672  Mon Apr 06 22:19:49 PDT 2009  NO_QUERY   \n",
              "2          0  1467810917  Mon Apr 06 22:19:53 PDT 2009  NO_QUERY   \n",
              "3          0  1467811184  Mon Apr 06 22:19:57 PDT 2009  NO_QUERY   \n",
              "4          0  1467811193  Mon Apr 06 22:19:57 PDT 2009  NO_QUERY   \n",
              "\n",
              "              user                                            comment  \n",
              "0  _TheSpecialOne_  @switchfoot http://twitpic.com/2y1zl - Awww, t...  \n",
              "1    scotthamilton  is upset that he can't update his Facebook by ...  \n",
              "2         mattycus  @Kenichan I dived many times for the ball. Man...  \n",
              "3          ElleCTF    my whole body feels itchy and like its on fire   \n",
              "4           Karoli  @nationwideclass no, it's not behaving at all....  "
            ],
            "text/html": [
              "\n",
              "  <div id=\"df-9840308e-6acd-471e-9314-7a537b9616cf\" class=\"colab-df-container\">\n",
              "    <div>\n",
              "<style scoped>\n",
              "    .dataframe tbody tr th:only-of-type {\n",
              "        vertical-align: middle;\n",
              "    }\n",
              "\n",
              "    .dataframe tbody tr th {\n",
              "        vertical-align: top;\n",
              "    }\n",
              "\n",
              "    .dataframe thead th {\n",
              "        text-align: right;\n",
              "    }\n",
              "</style>\n",
              "<table border=\"1\" class=\"dataframe\">\n",
              "  <thead>\n",
              "    <tr style=\"text-align: right;\">\n",
              "      <th></th>\n",
              "      <th>sentiment</th>\n",
              "      <th>id</th>\n",
              "      <th>date</th>\n",
              "      <th>flag</th>\n",
              "      <th>user</th>\n",
              "      <th>comment</th>\n",
              "    </tr>\n",
              "  </thead>\n",
              "  <tbody>\n",
              "    <tr>\n",
              "      <th>0</th>\n",
              "      <td>0</td>\n",
              "      <td>1467810369</td>\n",
              "      <td>Mon Apr 06 22:19:45 PDT 2009</td>\n",
              "      <td>NO_QUERY</td>\n",
              "      <td>_TheSpecialOne_</td>\n",
              "      <td>@switchfoot http://twitpic.com/2y1zl - Awww, t...</td>\n",
              "    </tr>\n",
              "    <tr>\n",
              "      <th>1</th>\n",
              "      <td>0</td>\n",
              "      <td>1467810672</td>\n",
              "      <td>Mon Apr 06 22:19:49 PDT 2009</td>\n",
              "      <td>NO_QUERY</td>\n",
              "      <td>scotthamilton</td>\n",
              "      <td>is upset that he can't update his Facebook by ...</td>\n",
              "    </tr>\n",
              "    <tr>\n",
              "      <th>2</th>\n",
              "      <td>0</td>\n",
              "      <td>1467810917</td>\n",
              "      <td>Mon Apr 06 22:19:53 PDT 2009</td>\n",
              "      <td>NO_QUERY</td>\n",
              "      <td>mattycus</td>\n",
              "      <td>@Kenichan I dived many times for the ball. Man...</td>\n",
              "    </tr>\n",
              "    <tr>\n",
              "      <th>3</th>\n",
              "      <td>0</td>\n",
              "      <td>1467811184</td>\n",
              "      <td>Mon Apr 06 22:19:57 PDT 2009</td>\n",
              "      <td>NO_QUERY</td>\n",
              "      <td>ElleCTF</td>\n",
              "      <td>my whole body feels itchy and like its on fire</td>\n",
              "    </tr>\n",
              "    <tr>\n",
              "      <th>4</th>\n",
              "      <td>0</td>\n",
              "      <td>1467811193</td>\n",
              "      <td>Mon Apr 06 22:19:57 PDT 2009</td>\n",
              "      <td>NO_QUERY</td>\n",
              "      <td>Karoli</td>\n",
              "      <td>@nationwideclass no, it's not behaving at all....</td>\n",
              "    </tr>\n",
              "  </tbody>\n",
              "</table>\n",
              "</div>\n",
              "    <div class=\"colab-df-buttons\">\n",
              "\n",
              "  <div class=\"colab-df-container\">\n",
              "    <button class=\"colab-df-convert\" onclick=\"convertToInteractive('df-9840308e-6acd-471e-9314-7a537b9616cf')\"\n",
              "            title=\"Convert this dataframe to an interactive table.\"\n",
              "            style=\"display:none;\">\n",
              "\n",
              "  <svg xmlns=\"http://www.w3.org/2000/svg\" height=\"24px\" viewBox=\"0 -960 960 960\">\n",
              "    <path d=\"M120-120v-720h720v720H120Zm60-500h600v-160H180v160Zm220 220h160v-160H400v160Zm0 220h160v-160H400v160ZM180-400h160v-160H180v160Zm440 0h160v-160H620v160ZM180-180h160v-160H180v160Zm440 0h160v-160H620v160Z\"/>\n",
              "  </svg>\n",
              "    </button>\n",
              "\n",
              "  <style>\n",
              "    .colab-df-container {\n",
              "      display:flex;\n",
              "      gap: 12px;\n",
              "    }\n",
              "\n",
              "    .colab-df-convert {\n",
              "      background-color: #E8F0FE;\n",
              "      border: none;\n",
              "      border-radius: 50%;\n",
              "      cursor: pointer;\n",
              "      display: none;\n",
              "      fill: #1967D2;\n",
              "      height: 32px;\n",
              "      padding: 0 0 0 0;\n",
              "      width: 32px;\n",
              "    }\n",
              "\n",
              "    .colab-df-convert:hover {\n",
              "      background-color: #E2EBFA;\n",
              "      box-shadow: 0px 1px 2px rgba(60, 64, 67, 0.3), 0px 1px 3px 1px rgba(60, 64, 67, 0.15);\n",
              "      fill: #174EA6;\n",
              "    }\n",
              "\n",
              "    .colab-df-buttons div {\n",
              "      margin-bottom: 4px;\n",
              "    }\n",
              "\n",
              "    [theme=dark] .colab-df-convert {\n",
              "      background-color: #3B4455;\n",
              "      fill: #D2E3FC;\n",
              "    }\n",
              "\n",
              "    [theme=dark] .colab-df-convert:hover {\n",
              "      background-color: #434B5C;\n",
              "      box-shadow: 0px 1px 3px 1px rgba(0, 0, 0, 0.15);\n",
              "      filter: drop-shadow(0px 1px 2px rgba(0, 0, 0, 0.3));\n",
              "      fill: #FFFFFF;\n",
              "    }\n",
              "  </style>\n",
              "\n",
              "    <script>\n",
              "      const buttonEl =\n",
              "        document.querySelector('#df-9840308e-6acd-471e-9314-7a537b9616cf button.colab-df-convert');\n",
              "      buttonEl.style.display =\n",
              "        google.colab.kernel.accessAllowed ? 'block' : 'none';\n",
              "\n",
              "      async function convertToInteractive(key) {\n",
              "        const element = document.querySelector('#df-9840308e-6acd-471e-9314-7a537b9616cf');\n",
              "        const dataTable =\n",
              "          await google.colab.kernel.invokeFunction('convertToInteractive',\n",
              "                                                    [key], {});\n",
              "        if (!dataTable) return;\n",
              "\n",
              "        const docLinkHtml = 'Like what you see? Visit the ' +\n",
              "          '<a target=\"_blank\" href=https://colab.research.google.com/notebooks/data_table.ipynb>data table notebook</a>'\n",
              "          + ' to learn more about interactive tables.';\n",
              "        element.innerHTML = '';\n",
              "        dataTable['output_type'] = 'display_data';\n",
              "        await google.colab.output.renderOutput(dataTable, element);\n",
              "        const docLink = document.createElement('div');\n",
              "        docLink.innerHTML = docLinkHtml;\n",
              "        element.appendChild(docLink);\n",
              "      }\n",
              "    </script>\n",
              "  </div>\n",
              "\n",
              "\n",
              "<div id=\"df-cdef5e9f-0eac-4529-abcb-c01679a6ec4f\">\n",
              "  <button class=\"colab-df-quickchart\" onclick=\"quickchart('df-cdef5e9f-0eac-4529-abcb-c01679a6ec4f')\"\n",
              "            title=\"Suggest charts\"\n",
              "            style=\"display:none;\">\n",
              "\n",
              "<svg xmlns=\"http://www.w3.org/2000/svg\" height=\"24px\"viewBox=\"0 0 24 24\"\n",
              "     width=\"24px\">\n",
              "    <g>\n",
              "        <path d=\"M19 3H5c-1.1 0-2 .9-2 2v14c0 1.1.9 2 2 2h14c1.1 0 2-.9 2-2V5c0-1.1-.9-2-2-2zM9 17H7v-7h2v7zm4 0h-2V7h2v10zm4 0h-2v-4h2v4z\"/>\n",
              "    </g>\n",
              "</svg>\n",
              "  </button>\n",
              "\n",
              "<style>\n",
              "  .colab-df-quickchart {\n",
              "      --bg-color: #E8F0FE;\n",
              "      --fill-color: #1967D2;\n",
              "      --hover-bg-color: #E2EBFA;\n",
              "      --hover-fill-color: #174EA6;\n",
              "      --disabled-fill-color: #AAA;\n",
              "      --disabled-bg-color: #DDD;\n",
              "  }\n",
              "\n",
              "  [theme=dark] .colab-df-quickchart {\n",
              "      --bg-color: #3B4455;\n",
              "      --fill-color: #D2E3FC;\n",
              "      --hover-bg-color: #434B5C;\n",
              "      --hover-fill-color: #FFFFFF;\n",
              "      --disabled-bg-color: #3B4455;\n",
              "      --disabled-fill-color: #666;\n",
              "  }\n",
              "\n",
              "  .colab-df-quickchart {\n",
              "    background-color: var(--bg-color);\n",
              "    border: none;\n",
              "    border-radius: 50%;\n",
              "    cursor: pointer;\n",
              "    display: none;\n",
              "    fill: var(--fill-color);\n",
              "    height: 32px;\n",
              "    padding: 0;\n",
              "    width: 32px;\n",
              "  }\n",
              "\n",
              "  .colab-df-quickchart:hover {\n",
              "    background-color: var(--hover-bg-color);\n",
              "    box-shadow: 0 1px 2px rgba(60, 64, 67, 0.3), 0 1px 3px 1px rgba(60, 64, 67, 0.15);\n",
              "    fill: var(--button-hover-fill-color);\n",
              "  }\n",
              "\n",
              "  .colab-df-quickchart-complete:disabled,\n",
              "  .colab-df-quickchart-complete:disabled:hover {\n",
              "    background-color: var(--disabled-bg-color);\n",
              "    fill: var(--disabled-fill-color);\n",
              "    box-shadow: none;\n",
              "  }\n",
              "\n",
              "  .colab-df-spinner {\n",
              "    border: 2px solid var(--fill-color);\n",
              "    border-color: transparent;\n",
              "    border-bottom-color: var(--fill-color);\n",
              "    animation:\n",
              "      spin 1s steps(1) infinite;\n",
              "  }\n",
              "\n",
              "  @keyframes spin {\n",
              "    0% {\n",
              "      border-color: transparent;\n",
              "      border-bottom-color: var(--fill-color);\n",
              "      border-left-color: var(--fill-color);\n",
              "    }\n",
              "    20% {\n",
              "      border-color: transparent;\n",
              "      border-left-color: var(--fill-color);\n",
              "      border-top-color: var(--fill-color);\n",
              "    }\n",
              "    30% {\n",
              "      border-color: transparent;\n",
              "      border-left-color: var(--fill-color);\n",
              "      border-top-color: var(--fill-color);\n",
              "      border-right-color: var(--fill-color);\n",
              "    }\n",
              "    40% {\n",
              "      border-color: transparent;\n",
              "      border-right-color: var(--fill-color);\n",
              "      border-top-color: var(--fill-color);\n",
              "    }\n",
              "    60% {\n",
              "      border-color: transparent;\n",
              "      border-right-color: var(--fill-color);\n",
              "    }\n",
              "    80% {\n",
              "      border-color: transparent;\n",
              "      border-right-color: var(--fill-color);\n",
              "      border-bottom-color: var(--fill-color);\n",
              "    }\n",
              "    90% {\n",
              "      border-color: transparent;\n",
              "      border-bottom-color: var(--fill-color);\n",
              "    }\n",
              "  }\n",
              "</style>\n",
              "\n",
              "  <script>\n",
              "    async function quickchart(key) {\n",
              "      const quickchartButtonEl =\n",
              "        document.querySelector('#' + key + ' button');\n",
              "      quickchartButtonEl.disabled = true;  // To prevent multiple clicks.\n",
              "      quickchartButtonEl.classList.add('colab-df-spinner');\n",
              "      try {\n",
              "        const charts = await google.colab.kernel.invokeFunction(\n",
              "            'suggestCharts', [key], {});\n",
              "      } catch (error) {\n",
              "        console.error('Error during call to suggestCharts:', error);\n",
              "      }\n",
              "      quickchartButtonEl.classList.remove('colab-df-spinner');\n",
              "      quickchartButtonEl.classList.add('colab-df-quickchart-complete');\n",
              "    }\n",
              "    (() => {\n",
              "      let quickchartButtonEl =\n",
              "        document.querySelector('#df-cdef5e9f-0eac-4529-abcb-c01679a6ec4f button');\n",
              "      quickchartButtonEl.style.display =\n",
              "        google.colab.kernel.accessAllowed ? 'block' : 'none';\n",
              "    })();\n",
              "  </script>\n",
              "</div>\n",
              "\n",
              "    </div>\n",
              "  </div>\n"
            ],
            "application/vnd.google.colaboratory.intrinsic+json": {
              "type": "dataframe",
              "variable_name": "twitter_data"
            }
          },
          "metadata": {},
          "execution_count": 11
        }
      ],
      "source": [
        "twitter_data.head()"
      ]
    },
    {
      "cell_type": "markdown",
      "metadata": {
        "id": "afl7j16JeIfO"
      },
      "source": [
        "Taking 12.5% of the total dataset to shorten the duration of text preprocessing"
      ]
    },
    {
      "cell_type": "code",
      "execution_count": null,
      "metadata": {
        "id": "DniI64TxdI9A"
      },
      "outputs": [],
      "source": [
        "twitt_data = twitter_data[700000:900000]"
      ]
    },
    {
      "cell_type": "markdown",
      "metadata": {
        "id": "w5tzRtIznDnK"
      },
      "source": [
        "As you can see there are unnecessary coloumns except the column 'sentiment' and 'text'. So next we remove the unnnecessary coloumns and swaped those necessary cols"
      ]
    },
    {
      "cell_type": "code",
      "execution_count": null,
      "metadata": {
        "id": "Ajajs1hQm6T9"
      },
      "outputs": [],
      "source": [
        "dataset = twitt_data.drop(columns=['id','date','flag','user'])"
      ]
    },
    {
      "cell_type": "code",
      "execution_count": null,
      "metadata": {
        "id": "cUuO6zbQqH7s"
      },
      "outputs": [],
      "source": [
        "def swap_columns(df, col1, col2):\n",
        "    col_list = list(df.columns)\n",
        "    x, y = col_list.index(col1), col_list.index(col2)\n",
        "    col_list[y], col_list[x] = col_list[x], col_list[y]\n",
        "    df = df[col_list]\n",
        "    return df\n",
        "dataset = swap_columns(dataset, 'sentiment', 'comment')"
      ]
    },
    {
      "cell_type": "markdown",
      "metadata": {
        "id": "ylewd9L7sema"
      },
      "source": [
        "Changed the '0' and '4' values of sentiment column to 'negative' and 'positive' respectively"
      ]
    },
    {
      "cell_type": "code",
      "execution_count": null,
      "metadata": {
        "id": "KDBQafKHqp7w"
      },
      "outputs": [],
      "source": [
        "dataset.replace({'sentiment': {0: 'negative', 4: 'positive'}}, inplace=True)"
      ]
    },
    {
      "cell_type": "code",
      "execution_count": null,
      "metadata": {
        "colab": {
          "base_uri": "https://localhost:8080/",
          "height": 206
        },
        "id": "aytFgko2sTWP",
        "outputId": "3dbadefa-6c75-4dc3-d784-22a6a933aa1f"
      },
      "outputs": [
        {
          "output_type": "execute_result",
          "data": {
            "text/plain": [
              "                                                  comment sentiment\n",
              "700000  People are tweeting advice on how to combat te...  negative\n",
              "700001  can't go 2 the anberlin show 2nite, tickets so...  negative\n",
              "700002  Woke up with lots of wisdom teeth drama..Gotta...  negative\n",
              "700003  @tom_teel Not yet dude... Gonna have to buy a ...  negative\n",
              "700004     everytime i fall asleep my dreams are haunted   negative"
            ],
            "text/html": [
              "\n",
              "  <div id=\"df-55aec5a4-975c-4da1-a827-472bca90d123\" class=\"colab-df-container\">\n",
              "    <div>\n",
              "<style scoped>\n",
              "    .dataframe tbody tr th:only-of-type {\n",
              "        vertical-align: middle;\n",
              "    }\n",
              "\n",
              "    .dataframe tbody tr th {\n",
              "        vertical-align: top;\n",
              "    }\n",
              "\n",
              "    .dataframe thead th {\n",
              "        text-align: right;\n",
              "    }\n",
              "</style>\n",
              "<table border=\"1\" class=\"dataframe\">\n",
              "  <thead>\n",
              "    <tr style=\"text-align: right;\">\n",
              "      <th></th>\n",
              "      <th>comment</th>\n",
              "      <th>sentiment</th>\n",
              "    </tr>\n",
              "  </thead>\n",
              "  <tbody>\n",
              "    <tr>\n",
              "      <th>700000</th>\n",
              "      <td>People are tweeting advice on how to combat te...</td>\n",
              "      <td>negative</td>\n",
              "    </tr>\n",
              "    <tr>\n",
              "      <th>700001</th>\n",
              "      <td>can't go 2 the anberlin show 2nite, tickets so...</td>\n",
              "      <td>negative</td>\n",
              "    </tr>\n",
              "    <tr>\n",
              "      <th>700002</th>\n",
              "      <td>Woke up with lots of wisdom teeth drama..Gotta...</td>\n",
              "      <td>negative</td>\n",
              "    </tr>\n",
              "    <tr>\n",
              "      <th>700003</th>\n",
              "      <td>@tom_teel Not yet dude... Gonna have to buy a ...</td>\n",
              "      <td>negative</td>\n",
              "    </tr>\n",
              "    <tr>\n",
              "      <th>700004</th>\n",
              "      <td>everytime i fall asleep my dreams are haunted</td>\n",
              "      <td>negative</td>\n",
              "    </tr>\n",
              "  </tbody>\n",
              "</table>\n",
              "</div>\n",
              "    <div class=\"colab-df-buttons\">\n",
              "\n",
              "  <div class=\"colab-df-container\">\n",
              "    <button class=\"colab-df-convert\" onclick=\"convertToInteractive('df-55aec5a4-975c-4da1-a827-472bca90d123')\"\n",
              "            title=\"Convert this dataframe to an interactive table.\"\n",
              "            style=\"display:none;\">\n",
              "\n",
              "  <svg xmlns=\"http://www.w3.org/2000/svg\" height=\"24px\" viewBox=\"0 -960 960 960\">\n",
              "    <path d=\"M120-120v-720h720v720H120Zm60-500h600v-160H180v160Zm220 220h160v-160H400v160Zm0 220h160v-160H400v160ZM180-400h160v-160H180v160Zm440 0h160v-160H620v160ZM180-180h160v-160H180v160Zm440 0h160v-160H620v160Z\"/>\n",
              "  </svg>\n",
              "    </button>\n",
              "\n",
              "  <style>\n",
              "    .colab-df-container {\n",
              "      display:flex;\n",
              "      gap: 12px;\n",
              "    }\n",
              "\n",
              "    .colab-df-convert {\n",
              "      background-color: #E8F0FE;\n",
              "      border: none;\n",
              "      border-radius: 50%;\n",
              "      cursor: pointer;\n",
              "      display: none;\n",
              "      fill: #1967D2;\n",
              "      height: 32px;\n",
              "      padding: 0 0 0 0;\n",
              "      width: 32px;\n",
              "    }\n",
              "\n",
              "    .colab-df-convert:hover {\n",
              "      background-color: #E2EBFA;\n",
              "      box-shadow: 0px 1px 2px rgba(60, 64, 67, 0.3), 0px 1px 3px 1px rgba(60, 64, 67, 0.15);\n",
              "      fill: #174EA6;\n",
              "    }\n",
              "\n",
              "    .colab-df-buttons div {\n",
              "      margin-bottom: 4px;\n",
              "    }\n",
              "\n",
              "    [theme=dark] .colab-df-convert {\n",
              "      background-color: #3B4455;\n",
              "      fill: #D2E3FC;\n",
              "    }\n",
              "\n",
              "    [theme=dark] .colab-df-convert:hover {\n",
              "      background-color: #434B5C;\n",
              "      box-shadow: 0px 1px 3px 1px rgba(0, 0, 0, 0.15);\n",
              "      filter: drop-shadow(0px 1px 2px rgba(0, 0, 0, 0.3));\n",
              "      fill: #FFFFFF;\n",
              "    }\n",
              "  </style>\n",
              "\n",
              "    <script>\n",
              "      const buttonEl =\n",
              "        document.querySelector('#df-55aec5a4-975c-4da1-a827-472bca90d123 button.colab-df-convert');\n",
              "      buttonEl.style.display =\n",
              "        google.colab.kernel.accessAllowed ? 'block' : 'none';\n",
              "\n",
              "      async function convertToInteractive(key) {\n",
              "        const element = document.querySelector('#df-55aec5a4-975c-4da1-a827-472bca90d123');\n",
              "        const dataTable =\n",
              "          await google.colab.kernel.invokeFunction('convertToInteractive',\n",
              "                                                    [key], {});\n",
              "        if (!dataTable) return;\n",
              "\n",
              "        const docLinkHtml = 'Like what you see? Visit the ' +\n",
              "          '<a target=\"_blank\" href=https://colab.research.google.com/notebooks/data_table.ipynb>data table notebook</a>'\n",
              "          + ' to learn more about interactive tables.';\n",
              "        element.innerHTML = '';\n",
              "        dataTable['output_type'] = 'display_data';\n",
              "        await google.colab.output.renderOutput(dataTable, element);\n",
              "        const docLink = document.createElement('div');\n",
              "        docLink.innerHTML = docLinkHtml;\n",
              "        element.appendChild(docLink);\n",
              "      }\n",
              "    </script>\n",
              "  </div>\n",
              "\n",
              "\n",
              "<div id=\"df-f67023a0-7756-4ff7-9d3a-b793c376559e\">\n",
              "  <button class=\"colab-df-quickchart\" onclick=\"quickchart('df-f67023a0-7756-4ff7-9d3a-b793c376559e')\"\n",
              "            title=\"Suggest charts\"\n",
              "            style=\"display:none;\">\n",
              "\n",
              "<svg xmlns=\"http://www.w3.org/2000/svg\" height=\"24px\"viewBox=\"0 0 24 24\"\n",
              "     width=\"24px\">\n",
              "    <g>\n",
              "        <path d=\"M19 3H5c-1.1 0-2 .9-2 2v14c0 1.1.9 2 2 2h14c1.1 0 2-.9 2-2V5c0-1.1-.9-2-2-2zM9 17H7v-7h2v7zm4 0h-2V7h2v10zm4 0h-2v-4h2v4z\"/>\n",
              "    </g>\n",
              "</svg>\n",
              "  </button>\n",
              "\n",
              "<style>\n",
              "  .colab-df-quickchart {\n",
              "      --bg-color: #E8F0FE;\n",
              "      --fill-color: #1967D2;\n",
              "      --hover-bg-color: #E2EBFA;\n",
              "      --hover-fill-color: #174EA6;\n",
              "      --disabled-fill-color: #AAA;\n",
              "      --disabled-bg-color: #DDD;\n",
              "  }\n",
              "\n",
              "  [theme=dark] .colab-df-quickchart {\n",
              "      --bg-color: #3B4455;\n",
              "      --fill-color: #D2E3FC;\n",
              "      --hover-bg-color: #434B5C;\n",
              "      --hover-fill-color: #FFFFFF;\n",
              "      --disabled-bg-color: #3B4455;\n",
              "      --disabled-fill-color: #666;\n",
              "  }\n",
              "\n",
              "  .colab-df-quickchart {\n",
              "    background-color: var(--bg-color);\n",
              "    border: none;\n",
              "    border-radius: 50%;\n",
              "    cursor: pointer;\n",
              "    display: none;\n",
              "    fill: var(--fill-color);\n",
              "    height: 32px;\n",
              "    padding: 0;\n",
              "    width: 32px;\n",
              "  }\n",
              "\n",
              "  .colab-df-quickchart:hover {\n",
              "    background-color: var(--hover-bg-color);\n",
              "    box-shadow: 0 1px 2px rgba(60, 64, 67, 0.3), 0 1px 3px 1px rgba(60, 64, 67, 0.15);\n",
              "    fill: var(--button-hover-fill-color);\n",
              "  }\n",
              "\n",
              "  .colab-df-quickchart-complete:disabled,\n",
              "  .colab-df-quickchart-complete:disabled:hover {\n",
              "    background-color: var(--disabled-bg-color);\n",
              "    fill: var(--disabled-fill-color);\n",
              "    box-shadow: none;\n",
              "  }\n",
              "\n",
              "  .colab-df-spinner {\n",
              "    border: 2px solid var(--fill-color);\n",
              "    border-color: transparent;\n",
              "    border-bottom-color: var(--fill-color);\n",
              "    animation:\n",
              "      spin 1s steps(1) infinite;\n",
              "  }\n",
              "\n",
              "  @keyframes spin {\n",
              "    0% {\n",
              "      border-color: transparent;\n",
              "      border-bottom-color: var(--fill-color);\n",
              "      border-left-color: var(--fill-color);\n",
              "    }\n",
              "    20% {\n",
              "      border-color: transparent;\n",
              "      border-left-color: var(--fill-color);\n",
              "      border-top-color: var(--fill-color);\n",
              "    }\n",
              "    30% {\n",
              "      border-color: transparent;\n",
              "      border-left-color: var(--fill-color);\n",
              "      border-top-color: var(--fill-color);\n",
              "      border-right-color: var(--fill-color);\n",
              "    }\n",
              "    40% {\n",
              "      border-color: transparent;\n",
              "      border-right-color: var(--fill-color);\n",
              "      border-top-color: var(--fill-color);\n",
              "    }\n",
              "    60% {\n",
              "      border-color: transparent;\n",
              "      border-right-color: var(--fill-color);\n",
              "    }\n",
              "    80% {\n",
              "      border-color: transparent;\n",
              "      border-right-color: var(--fill-color);\n",
              "      border-bottom-color: var(--fill-color);\n",
              "    }\n",
              "    90% {\n",
              "      border-color: transparent;\n",
              "      border-bottom-color: var(--fill-color);\n",
              "    }\n",
              "  }\n",
              "</style>\n",
              "\n",
              "  <script>\n",
              "    async function quickchart(key) {\n",
              "      const quickchartButtonEl =\n",
              "        document.querySelector('#' + key + ' button');\n",
              "      quickchartButtonEl.disabled = true;  // To prevent multiple clicks.\n",
              "      quickchartButtonEl.classList.add('colab-df-spinner');\n",
              "      try {\n",
              "        const charts = await google.colab.kernel.invokeFunction(\n",
              "            'suggestCharts', [key], {});\n",
              "      } catch (error) {\n",
              "        console.error('Error during call to suggestCharts:', error);\n",
              "      }\n",
              "      quickchartButtonEl.classList.remove('colab-df-spinner');\n",
              "      quickchartButtonEl.classList.add('colab-df-quickchart-complete');\n",
              "    }\n",
              "    (() => {\n",
              "      let quickchartButtonEl =\n",
              "        document.querySelector('#df-f67023a0-7756-4ff7-9d3a-b793c376559e button');\n",
              "      quickchartButtonEl.style.display =\n",
              "        google.colab.kernel.accessAllowed ? 'block' : 'none';\n",
              "    })();\n",
              "  </script>\n",
              "</div>\n",
              "\n",
              "    </div>\n",
              "  </div>\n"
            ],
            "application/vnd.google.colaboratory.intrinsic+json": {
              "type": "dataframe",
              "variable_name": "dataset"
            }
          },
          "metadata": {},
          "execution_count": 16
        }
      ],
      "source": [
        "dataset.head()"
      ]
    },
    {
      "cell_type": "code",
      "execution_count": null,
      "metadata": {
        "colab": {
          "base_uri": "https://localhost:8080/",
          "height": 206
        },
        "id": "kHS7ANx9zs-J",
        "outputId": "5df81776-5c97-4e04-a5b1-113c2277f6ab"
      },
      "outputs": [
        {
          "output_type": "execute_result",
          "data": {
            "text/plain": [
              "                                                  comment sentiment\n",
              "899995  @jvdouglas  haha, no, the remark on maternity ...  positive\n",
              "899996                              @altitis and to you!   positive\n",
              "899997  Okie doke!! Time for me to escape for the Nort...  positive\n",
              "899998                     finished the lessons, hooray!   positive\n",
              "899999  Some ppl are just fucking KP0. Cb ! Stop askin...  positive"
            ],
            "text/html": [
              "\n",
              "  <div id=\"df-c08c347d-fff6-497c-be03-fe1829e256df\" class=\"colab-df-container\">\n",
              "    <div>\n",
              "<style scoped>\n",
              "    .dataframe tbody tr th:only-of-type {\n",
              "        vertical-align: middle;\n",
              "    }\n",
              "\n",
              "    .dataframe tbody tr th {\n",
              "        vertical-align: top;\n",
              "    }\n",
              "\n",
              "    .dataframe thead th {\n",
              "        text-align: right;\n",
              "    }\n",
              "</style>\n",
              "<table border=\"1\" class=\"dataframe\">\n",
              "  <thead>\n",
              "    <tr style=\"text-align: right;\">\n",
              "      <th></th>\n",
              "      <th>comment</th>\n",
              "      <th>sentiment</th>\n",
              "    </tr>\n",
              "  </thead>\n",
              "  <tbody>\n",
              "    <tr>\n",
              "      <th>899995</th>\n",
              "      <td>@jvdouglas  haha, no, the remark on maternity ...</td>\n",
              "      <td>positive</td>\n",
              "    </tr>\n",
              "    <tr>\n",
              "      <th>899996</th>\n",
              "      <td>@altitis and to you!</td>\n",
              "      <td>positive</td>\n",
              "    </tr>\n",
              "    <tr>\n",
              "      <th>899997</th>\n",
              "      <td>Okie doke!! Time for me to escape for the Nort...</td>\n",
              "      <td>positive</td>\n",
              "    </tr>\n",
              "    <tr>\n",
              "      <th>899998</th>\n",
              "      <td>finished the lessons, hooray!</td>\n",
              "      <td>positive</td>\n",
              "    </tr>\n",
              "    <tr>\n",
              "      <th>899999</th>\n",
              "      <td>Some ppl are just fucking KP0. Cb ! Stop askin...</td>\n",
              "      <td>positive</td>\n",
              "    </tr>\n",
              "  </tbody>\n",
              "</table>\n",
              "</div>\n",
              "    <div class=\"colab-df-buttons\">\n",
              "\n",
              "  <div class=\"colab-df-container\">\n",
              "    <button class=\"colab-df-convert\" onclick=\"convertToInteractive('df-c08c347d-fff6-497c-be03-fe1829e256df')\"\n",
              "            title=\"Convert this dataframe to an interactive table.\"\n",
              "            style=\"display:none;\">\n",
              "\n",
              "  <svg xmlns=\"http://www.w3.org/2000/svg\" height=\"24px\" viewBox=\"0 -960 960 960\">\n",
              "    <path d=\"M120-120v-720h720v720H120Zm60-500h600v-160H180v160Zm220 220h160v-160H400v160Zm0 220h160v-160H400v160ZM180-400h160v-160H180v160Zm440 0h160v-160H620v160ZM180-180h160v-160H180v160Zm440 0h160v-160H620v160Z\"/>\n",
              "  </svg>\n",
              "    </button>\n",
              "\n",
              "  <style>\n",
              "    .colab-df-container {\n",
              "      display:flex;\n",
              "      gap: 12px;\n",
              "    }\n",
              "\n",
              "    .colab-df-convert {\n",
              "      background-color: #E8F0FE;\n",
              "      border: none;\n",
              "      border-radius: 50%;\n",
              "      cursor: pointer;\n",
              "      display: none;\n",
              "      fill: #1967D2;\n",
              "      height: 32px;\n",
              "      padding: 0 0 0 0;\n",
              "      width: 32px;\n",
              "    }\n",
              "\n",
              "    .colab-df-convert:hover {\n",
              "      background-color: #E2EBFA;\n",
              "      box-shadow: 0px 1px 2px rgba(60, 64, 67, 0.3), 0px 1px 3px 1px rgba(60, 64, 67, 0.15);\n",
              "      fill: #174EA6;\n",
              "    }\n",
              "\n",
              "    .colab-df-buttons div {\n",
              "      margin-bottom: 4px;\n",
              "    }\n",
              "\n",
              "    [theme=dark] .colab-df-convert {\n",
              "      background-color: #3B4455;\n",
              "      fill: #D2E3FC;\n",
              "    }\n",
              "\n",
              "    [theme=dark] .colab-df-convert:hover {\n",
              "      background-color: #434B5C;\n",
              "      box-shadow: 0px 1px 3px 1px rgba(0, 0, 0, 0.15);\n",
              "      filter: drop-shadow(0px 1px 2px rgba(0, 0, 0, 0.3));\n",
              "      fill: #FFFFFF;\n",
              "    }\n",
              "  </style>\n",
              "\n",
              "    <script>\n",
              "      const buttonEl =\n",
              "        document.querySelector('#df-c08c347d-fff6-497c-be03-fe1829e256df button.colab-df-convert');\n",
              "      buttonEl.style.display =\n",
              "        google.colab.kernel.accessAllowed ? 'block' : 'none';\n",
              "\n",
              "      async function convertToInteractive(key) {\n",
              "        const element = document.querySelector('#df-c08c347d-fff6-497c-be03-fe1829e256df');\n",
              "        const dataTable =\n",
              "          await google.colab.kernel.invokeFunction('convertToInteractive',\n",
              "                                                    [key], {});\n",
              "        if (!dataTable) return;\n",
              "\n",
              "        const docLinkHtml = 'Like what you see? Visit the ' +\n",
              "          '<a target=\"_blank\" href=https://colab.research.google.com/notebooks/data_table.ipynb>data table notebook</a>'\n",
              "          + ' to learn more about interactive tables.';\n",
              "        element.innerHTML = '';\n",
              "        dataTable['output_type'] = 'display_data';\n",
              "        await google.colab.output.renderOutput(dataTable, element);\n",
              "        const docLink = document.createElement('div');\n",
              "        docLink.innerHTML = docLinkHtml;\n",
              "        element.appendChild(docLink);\n",
              "      }\n",
              "    </script>\n",
              "  </div>\n",
              "\n",
              "\n",
              "<div id=\"df-7d1b44d9-902e-4cd5-bbac-ecc01192832a\">\n",
              "  <button class=\"colab-df-quickchart\" onclick=\"quickchart('df-7d1b44d9-902e-4cd5-bbac-ecc01192832a')\"\n",
              "            title=\"Suggest charts\"\n",
              "            style=\"display:none;\">\n",
              "\n",
              "<svg xmlns=\"http://www.w3.org/2000/svg\" height=\"24px\"viewBox=\"0 0 24 24\"\n",
              "     width=\"24px\">\n",
              "    <g>\n",
              "        <path d=\"M19 3H5c-1.1 0-2 .9-2 2v14c0 1.1.9 2 2 2h14c1.1 0 2-.9 2-2V5c0-1.1-.9-2-2-2zM9 17H7v-7h2v7zm4 0h-2V7h2v10zm4 0h-2v-4h2v4z\"/>\n",
              "    </g>\n",
              "</svg>\n",
              "  </button>\n",
              "\n",
              "<style>\n",
              "  .colab-df-quickchart {\n",
              "      --bg-color: #E8F0FE;\n",
              "      --fill-color: #1967D2;\n",
              "      --hover-bg-color: #E2EBFA;\n",
              "      --hover-fill-color: #174EA6;\n",
              "      --disabled-fill-color: #AAA;\n",
              "      --disabled-bg-color: #DDD;\n",
              "  }\n",
              "\n",
              "  [theme=dark] .colab-df-quickchart {\n",
              "      --bg-color: #3B4455;\n",
              "      --fill-color: #D2E3FC;\n",
              "      --hover-bg-color: #434B5C;\n",
              "      --hover-fill-color: #FFFFFF;\n",
              "      --disabled-bg-color: #3B4455;\n",
              "      --disabled-fill-color: #666;\n",
              "  }\n",
              "\n",
              "  .colab-df-quickchart {\n",
              "    background-color: var(--bg-color);\n",
              "    border: none;\n",
              "    border-radius: 50%;\n",
              "    cursor: pointer;\n",
              "    display: none;\n",
              "    fill: var(--fill-color);\n",
              "    height: 32px;\n",
              "    padding: 0;\n",
              "    width: 32px;\n",
              "  }\n",
              "\n",
              "  .colab-df-quickchart:hover {\n",
              "    background-color: var(--hover-bg-color);\n",
              "    box-shadow: 0 1px 2px rgba(60, 64, 67, 0.3), 0 1px 3px 1px rgba(60, 64, 67, 0.15);\n",
              "    fill: var(--button-hover-fill-color);\n",
              "  }\n",
              "\n",
              "  .colab-df-quickchart-complete:disabled,\n",
              "  .colab-df-quickchart-complete:disabled:hover {\n",
              "    background-color: var(--disabled-bg-color);\n",
              "    fill: var(--disabled-fill-color);\n",
              "    box-shadow: none;\n",
              "  }\n",
              "\n",
              "  .colab-df-spinner {\n",
              "    border: 2px solid var(--fill-color);\n",
              "    border-color: transparent;\n",
              "    border-bottom-color: var(--fill-color);\n",
              "    animation:\n",
              "      spin 1s steps(1) infinite;\n",
              "  }\n",
              "\n",
              "  @keyframes spin {\n",
              "    0% {\n",
              "      border-color: transparent;\n",
              "      border-bottom-color: var(--fill-color);\n",
              "      border-left-color: var(--fill-color);\n",
              "    }\n",
              "    20% {\n",
              "      border-color: transparent;\n",
              "      border-left-color: var(--fill-color);\n",
              "      border-top-color: var(--fill-color);\n",
              "    }\n",
              "    30% {\n",
              "      border-color: transparent;\n",
              "      border-left-color: var(--fill-color);\n",
              "      border-top-color: var(--fill-color);\n",
              "      border-right-color: var(--fill-color);\n",
              "    }\n",
              "    40% {\n",
              "      border-color: transparent;\n",
              "      border-right-color: var(--fill-color);\n",
              "      border-top-color: var(--fill-color);\n",
              "    }\n",
              "    60% {\n",
              "      border-color: transparent;\n",
              "      border-right-color: var(--fill-color);\n",
              "    }\n",
              "    80% {\n",
              "      border-color: transparent;\n",
              "      border-right-color: var(--fill-color);\n",
              "      border-bottom-color: var(--fill-color);\n",
              "    }\n",
              "    90% {\n",
              "      border-color: transparent;\n",
              "      border-bottom-color: var(--fill-color);\n",
              "    }\n",
              "  }\n",
              "</style>\n",
              "\n",
              "  <script>\n",
              "    async function quickchart(key) {\n",
              "      const quickchartButtonEl =\n",
              "        document.querySelector('#' + key + ' button');\n",
              "      quickchartButtonEl.disabled = true;  // To prevent multiple clicks.\n",
              "      quickchartButtonEl.classList.add('colab-df-spinner');\n",
              "      try {\n",
              "        const charts = await google.colab.kernel.invokeFunction(\n",
              "            'suggestCharts', [key], {});\n",
              "      } catch (error) {\n",
              "        console.error('Error during call to suggestCharts:', error);\n",
              "      }\n",
              "      quickchartButtonEl.classList.remove('colab-df-spinner');\n",
              "      quickchartButtonEl.classList.add('colab-df-quickchart-complete');\n",
              "    }\n",
              "    (() => {\n",
              "      let quickchartButtonEl =\n",
              "        document.querySelector('#df-7d1b44d9-902e-4cd5-bbac-ecc01192832a button');\n",
              "      quickchartButtonEl.style.display =\n",
              "        google.colab.kernel.accessAllowed ? 'block' : 'none';\n",
              "    })();\n",
              "  </script>\n",
              "</div>\n",
              "\n",
              "    </div>\n",
              "  </div>\n"
            ],
            "application/vnd.google.colaboratory.intrinsic+json": {
              "type": "dataframe",
              "summary": "{\n  \"name\": \"dataset\",\n  \"rows\": 5,\n  \"fields\": [\n    {\n      \"column\": \"comment\",\n      \"properties\": {\n        \"dtype\": \"string\",\n        \"num_unique_values\": 5,\n        \"samples\": [\n          \"@altitis and to you! \",\n          \"Some ppl are just fucking KP0. Cb ! Stop asking me laa.. I love my boyfriend and thats it. \",\n          \"Okie doke!! Time for me to escape for the North while Massa's back is turned. Be on when I get home folks \"\n        ],\n        \"semantic_type\": \"\",\n        \"description\": \"\"\n      }\n    },\n    {\n      \"column\": \"sentiment\",\n      \"properties\": {\n        \"dtype\": \"category\",\n        \"num_unique_values\": 1,\n        \"samples\": [\n          \"positive\"\n        ],\n        \"semantic_type\": \"\",\n        \"description\": \"\"\n      }\n    }\n  ]\n}"
            }
          },
          "metadata": {},
          "execution_count": 17
        }
      ],
      "source": [
        "dataset.tail()"
      ]
    },
    {
      "cell_type": "code",
      "execution_count": null,
      "metadata": {
        "colab": {
          "base_uri": "https://localhost:8080/"
        },
        "id": "6Uhl-HbmzxWC",
        "outputId": "bcc5d20d-d4a2-42b8-dec9-e30992404aa1"
      },
      "outputs": [
        {
          "output_type": "execute_result",
          "data": {
            "text/plain": [
              "(200000, 2)"
            ]
          },
          "metadata": {},
          "execution_count": 18
        }
      ],
      "source": [
        "dataset.shape"
      ]
    },
    {
      "cell_type": "markdown",
      "metadata": {
        "id": "043XW5A2QgiA"
      },
      "source": [
        "# Text Normalizer\n",
        "\n",
        "\n"
      ]
    },
    {
      "cell_type": "markdown",
      "metadata": {
        "id": "iHl1HUqMQxEB"
      },
      "source": [
        "\n",
        "\n",
        "The content below is a dictionary containing the contracted words as key and expanded meanings as values\n",
        "\n",
        "\n",
        "\n"
      ]
    },
    {
      "cell_type": "code",
      "execution_count": null,
      "metadata": {
        "id": "iJYDCI1fSeP3"
      },
      "outputs": [],
      "source": [
        "# -*- coding: utf-8 -*-\n",
        "\"\"\"\n",
        "Created on Mon Aug 01 01:11:02 2016\n",
        "\n",
        "@author: DIP\n",
        "\"\"\"\n",
        "\n",
        "CONTRACTION_MAP = {\n",
        "\"ain't\": \"is not\",\n",
        "\"aren't\": \"are not\",\n",
        "\"can't\": \"cannot\",\n",
        "\"can't've\": \"cannot have\",\n",
        "\"'cause\": \"because\",\n",
        "\"could've\": \"could have\",\n",
        "\"couldn't\": \"could not\",\n",
        "\"couldn't've\": \"could not have\",\n",
        "\"didn't\": \"did not\",\n",
        "\"doesn't\": \"does not\",\n",
        "\"don't\": \"do not\",\n",
        "\"hadn't\": \"had not\",\n",
        "\"hadn't've\": \"had not have\",\n",
        "\"hasn't\": \"has not\",\n",
        "\"haven't\": \"have not\",\n",
        "\"he'd\": \"he would\",\n",
        "\"he'd've\": \"he would have\",\n",
        "\"he'll\": \"he will\",\n",
        "\"he'll've\": \"he will have\",\n",
        "\"he's\": \"he is\",\n",
        "\"how'd\": \"how did\",\n",
        "\"how'd'y\": \"how do you\",\n",
        "\"how'll\": \"how will\",\n",
        "\"how's\": \"how is\",\n",
        "\"I'd\": \"I would\",\n",
        "\"I'd've\": \"I would have\",\n",
        "\"I'll\": \"I will\",\n",
        "\"I'll've\": \"I will have\",\n",
        "\"I'm\": \"I am\",\n",
        "\"I've\": \"I have\",\n",
        "\"i'd\": \"i would\",\n",
        "\"i'd've\": \"i would have\",\n",
        "\"i'll\": \"i will\",\n",
        "\"i'll've\": \"i will have\",\n",
        "\"i'm\": \"i am\",\n",
        "\"i've\": \"i have\",\n",
        "\"isn't\": \"is not\",\n",
        "\"it'd\": \"it would\",\n",
        "\"it'd've\": \"it would have\",\n",
        "\"it'll\": \"it will\",\n",
        "\"it'll've\": \"it will have\",\n",
        "\"it's\": \"it is\",\n",
        "\"let's\": \"let us\",\n",
        "\"ma'am\": \"madam\",\n",
        "\"mayn't\": \"may not\",\n",
        "\"might've\": \"might have\",\n",
        "\"mightn't\": \"might not\",\n",
        "\"mightn't've\": \"might not have\",\n",
        "\"must've\": \"must have\",\n",
        "\"mustn't\": \"must not\",\n",
        "\"mustn't've\": \"must not have\",\n",
        "\"needn't\": \"need not\",\n",
        "\"needn't've\": \"need not have\",\n",
        "\"o'clock\": \"of the clock\",\n",
        "\"oughtn't\": \"ought not\",\n",
        "\"oughtn't've\": \"ought not have\",\n",
        "\"shan't\": \"shall not\",\n",
        "\"sha'n't\": \"shall not\",\n",
        "\"shan't've\": \"shall not have\",\n",
        "\"she'd\": \"she would\",\n",
        "\"she'd've\": \"she would have\",\n",
        "\"she'll\": \"she will\",\n",
        "\"she'll've\": \"she will have\",\n",
        "\"she's\": \"she is\",\n",
        "\"should've\": \"should have\",\n",
        "\"shouldn't\": \"should not\",\n",
        "\"shouldn't've\": \"should not have\",\n",
        "\"so've\": \"so have\",\n",
        "\"so's\": \"so as\",\n",
        "\"that'd\": \"that would\",\n",
        "\"that'd've\": \"that would have\",\n",
        "\"that's\": \"that is\",\n",
        "\"there'd\": \"there would\",\n",
        "\"there'd've\": \"there would have\",\n",
        "\"there's\": \"there is\",\n",
        "\"they'd\": \"they would\",\n",
        "\"they'd've\": \"they would have\",\n",
        "\"they'll\": \"they will\",\n",
        "\"they'll've\": \"they will have\",\n",
        "\"they're\": \"they are\",\n",
        "\"they've\": \"they have\",\n",
        "\"to've\": \"to have\",\n",
        "\"wasn't\": \"was not\",\n",
        "\"we'd\": \"we would\",\n",
        "\"we'd've\": \"we would have\",\n",
        "\"we'll\": \"we will\",\n",
        "\"we'll've\": \"we will have\",\n",
        "\"we're\": \"we are\",\n",
        "\"we've\": \"we have\",\n",
        "\"weren't\": \"were not\",\n",
        "\"what'll\": \"what will\",\n",
        "\"what'll've\": \"what will have\",\n",
        "\"what're\": \"what are\",\n",
        "\"what's\": \"what is\",\n",
        "\"what've\": \"what have\",\n",
        "\"when's\": \"when is\",\n",
        "\"when've\": \"when have\",\n",
        "\"where'd\": \"where did\",\n",
        "\"where's\": \"where is\",\n",
        "\"where've\": \"where have\",\n",
        "\"who'll\": \"who will\",\n",
        "\"who'll've\": \"who will have\",\n",
        "\"who's\": \"who is\",\n",
        "\"who've\": \"who have\",\n",
        "\"why's\": \"why is\",\n",
        "\"why've\": \"why have\",\n",
        "\"will've\": \"will have\",\n",
        "\"won't\": \"will not\",\n",
        "\"won't've\": \"will not have\",\n",
        "\"would've\": \"would have\",\n",
        "\"wouldn't\": \"would not\",\n",
        "\"wouldn't've\": \"would not have\",\n",
        "\"y'all\": \"you all\",\n",
        "\"y'all'd\": \"you all would\",\n",
        "\"y'all'd've\": \"you all would have\",\n",
        "\"y'all're\": \"you all are\",\n",
        "\"y'all've\": \"you all have\",\n",
        "\"you'd\": \"you would\",\n",
        "\"you'd've\": \"you would have\",\n",
        "\"you'll\": \"you will\",\n",
        "\"you'll've\": \"you will have\",\n",
        "\"you're\": \"you are\",\n",
        "\"you've\": \"you have\"\n",
        "}"
      ]
    },
    {
      "cell_type": "markdown",
      "metadata": {
        "id": "nUEw6yNbXlYe"
      },
      "source": [
        "Text preparation and cleaning which includes :-\n",
        "\n",
        "\n",
        "*   Getting striped text\n",
        "*   Remove accented charachters\n",
        "*   Expanding Contractions\n",
        "*   Removing special charachters\n",
        "*   Stemming text\n",
        "*   Lemmatizing text\n",
        "*   Removing Stopwords\n",
        "*   Removing extra newlines and white spaces\n",
        "*   Insert spaces between special characters to isolate them"
      ]
    },
    {
      "cell_type": "code",
      "execution_count": null,
      "metadata": {
        "colab": {
          "base_uri": "https://localhost:8080/"
        },
        "id": "NzF_mv5yRCe8",
        "outputId": "3aa2152e-17cd-43ef-cec6-c068a5569c08"
      },
      "outputs": [
        {
          "output_type": "stream",
          "name": "stderr",
          "text": [
            "[nltk_data] Downloading package stopwords to /root/nltk_data...\n",
            "[nltk_data]   Unzipping corpora/stopwords.zip.\n"
          ]
        }
      ],
      "source": [
        "\n",
        "# coding: utf-8\n",
        "\"\"\"\n",
        "Created on Thu Feb 29 12:32:59 2024\n",
        "\n",
        "@author: SUM\n",
        "@Copyright: Sumit Nandi\n",
        "\"\"\"\n",
        "\n",
        "# # Import necessary dependencies\n",
        "\n",
        "import spacy\n",
        "import nltk\n",
        "from nltk.tokenize.toktok import ToktokTokenizer\n",
        "import re\n",
        "from bs4 import BeautifulSoup\n",
        "import unicodedata\n",
        "from nltk.stem.porter import PorterStemmer\n",
        "port_stem = PorterStemmer()\n",
        "\n",
        "nltk.download('stopwords')\n",
        "nlp = spacy.load('en_core_web_sm')\n",
        "tokenizer = ToktokTokenizer()\n",
        "stopword_list = nltk.corpus.stopwords.words('english')\n",
        "stopword_list.remove('no')\n",
        "stopword_list.remove('not')\n",
        "\n",
        "\n",
        "# # Cleaning Text - strip HTML\n",
        "def strip_html_tags(text):\n",
        "    soup = BeautifulSoup(text, \"html.parser\")\n",
        "    stripped_text = soup.get_text()\n",
        "    return stripped_text\n",
        "\n",
        "\n",
        "# # Removing accented characters\n",
        "def remove_accented_chars(text):\n",
        "    text = unicodedata.normalize('NFKD', text).encode('ascii', 'ignore').decode('utf-8', 'ignore')\n",
        "    return text\n",
        "\n",
        "\n",
        "# # Expanding Contractions\n",
        "def expand_contractions(text, contraction_mapping=CONTRACTION_MAP):\n",
        "\n",
        "    contractions_pattern = re.compile('({})'.format('|'.join(contraction_mapping.keys())),\n",
        "                                      flags=re.IGNORECASE|re.DOTALL)\n",
        "    def expand_match(contraction):\n",
        "        match = contraction.group(0)\n",
        "        first_char = match[0]\n",
        "        expanded_contraction = contraction_mapping.get(match) \\\n",
        "                                   if contraction_mapping.get(match) \\\n",
        "                                    else contraction_mapping.get(match.lower())\n",
        "        expanded_contraction = first_char+expanded_contraction[1:]\n",
        "        return expanded_contraction\n",
        "\n",
        "    expanded_text = contractions_pattern.sub(expand_match, text)\n",
        "    expanded_text = re.sub(\"'\", \"\", expanded_text)\n",
        "    return expanded_text\n",
        "\n",
        "\n",
        "# # Removing Special Characters\n",
        "def remove_special_characters(text):\n",
        "    text = re.sub('[^a-zA-Z]', ' ', text)\n",
        "    return text\n",
        "\n",
        "# # Stemming text\n",
        "def stem_text(text):\n",
        "  text = nlp(text)\n",
        "\n",
        "  text = [port_stem.stem(word.text) for word in text]\n",
        "  text = ' '.join(text)\n",
        "\n",
        "  return text\n",
        "\n",
        "# # Lemmatizing text\n",
        "def lemmatize_text(text):\n",
        "    text = nlp(text)\n",
        "    text = ' '.join([word.lemma_ if word.lemma_ != '-PRON-' else word.text for word in text])\n",
        "    return text\n",
        "\n",
        "\n",
        "# # Removing Stopwords\n",
        "def remove_stopwords(text, is_lower_case=False):\n",
        "    tokens = tokenizer.tokenize(text)\n",
        "    tokens = [token.strip() for token in tokens]\n",
        "    if is_lower_case:\n",
        "        filtered_tokens = [token for token in tokens if token not in stopword_list]\n",
        "    else:\n",
        "        filtered_tokens = [token for token in tokens if token.lower() not in stopword_list]\n",
        "    filtered_text = ' '.join(filtered_tokens)\n",
        "    return filtered_text\n",
        "\n",
        "\n",
        "# # Normalize text corpus - tying it all together\n",
        "def normalize_corpus(corpus, html_stripping=True, contraction_expansion=True,\n",
        "                     accented_char_removal=True, text_lower_case=True, special_char_removal=True,\n",
        "                     stopword_removal=True, text_stemming=True,\n",
        "                     text_lemmatization=True):\n",
        "\n",
        "    normalized_corpus = []\n",
        "\n",
        "    for doc in corpus:\n",
        "\n",
        "        if html_stripping:\n",
        "            doc = strip_html_tags(doc)\n",
        "\n",
        "        if accented_char_removal:\n",
        "            doc = remove_accented_chars(doc)\n",
        "\n",
        "        if contraction_expansion:\n",
        "            doc = expand_contractions(doc)\n",
        "\n",
        "        if text_lower_case:\n",
        "            doc = doc.lower()\n",
        "\n",
        "        # remove extra newlines\n",
        "        doc = re.sub(r'[\\r|\\n|\\r\\n]+', ' ',doc)\n",
        "        # insert spaces between special characters to isolate them\n",
        "        special_char_pattern = re.compile(r'([{.(-)!}])')\n",
        "        doc = special_char_pattern.sub(\" \\\\1 \", doc)\n",
        "\n",
        "\n",
        "\n",
        "        if special_char_removal:\n",
        "            doc = remove_special_characters(doc)\n",
        "\n",
        "        # remove extra whitespace\n",
        "        doc = re.sub(' +', ' ', doc)\n",
        "\n",
        "        if stopword_removal:\n",
        "            doc = remove_stopwords(doc, is_lower_case=text_lower_case)\n",
        "\n",
        "        if text_stemming:\n",
        "            doc = stem_text(doc)\n",
        "\n",
        "        if text_lemmatization:\n",
        "            doc = lemmatize_text(doc)\n",
        "\n",
        "        normalized_corpus.append(doc)\n",
        "\n",
        "    return normalized_corpus"
      ]
    },
    {
      "cell_type": "markdown",
      "metadata": {
        "id": "i_iKqA5aJz-p"
      },
      "source": [
        "# Lexical Models\n"
      ]
    },
    {
      "cell_type": "markdown",
      "metadata": {
        "id": "6769mUlpIjup"
      },
      "source": [
        "**Lexicon-based** Sentiment Analysis techniques, as opposed to the Machine Learning techniques, are based on calculation of polarity scores given to positive and negative words in a document.\n",
        "\n",
        "**Sentiment polarity** is typically a numeric score that’s assigned to both the positive and negative aspects of a text document based on subjective parameters like specific words and phrases expressing feelings and emotion. Neutral sentiment typically has 0 polarity since it does not express and specific sentiment, positive sentiment will have polarity > 0, and negative < 0. Of course, you can always change these thresholds based on the type of text you are dealing with; there are no hard constraints on this.\n",
        "\n",
        "Unsupervised sentiment analysis models make use of well curated knowledgebases, ontologies, lexicons and databases which have detailed information pertaining to subjective words, phrases including sentiment, mood, polarity, objectivity, subjectivity and so on. A lexicon model typically uses a lexicon, also known as a dictionary or vocabulary of words specifically aligned towards sentiment analysis. Usually these lexicons contain a list of words associated with positive and negative sentiment, polarity (magnitude of negative or positive score), parts of speech (POS) tags, subjectivity classifiers (strong, weak, neutral), mood, modality and so on.\n",
        "\n",
        "In this file the lexical models are built"
      ]
    },
    {
      "cell_type": "code",
      "execution_count": null,
      "metadata": {
        "colab": {
          "base_uri": "https://localhost:8080/"
        },
        "id": "V_pawKojKlc4",
        "outputId": "ca0ed415-b355-4099-a9c7-698315b75075"
      },
      "outputs": [
        {
          "output_type": "stream",
          "name": "stderr",
          "text": [
            "[nltk_data] Downloading package punkt to /root/nltk_data...\n",
            "[nltk_data]   Unzipping tokenizers/punkt.zip.\n",
            "[nltk_data] Downloading package stopwords to /root/nltk_data...\n",
            "[nltk_data]   Package stopwords is already up-to-date!\n",
            "[nltk_data] Downloading package vader_lexicon to /root/nltk_data...\n",
            "[nltk_data] Downloading package sentiwordnet to /root/nltk_data...\n",
            "[nltk_data]   Unzipping corpora/sentiwordnet.zip.\n",
            "[nltk_data] Downloading package wordnet to /root/nltk_data...\n"
          ]
        },
        {
          "output_type": "execute_result",
          "data": {
            "text/plain": [
              "True"
            ]
          },
          "metadata": {},
          "execution_count": 21
        }
      ],
      "source": [
        "\n",
        "import nltk\n",
        "nltk.download('punkt')\n",
        "nltk.download('stopwords')\n",
        "nltk.download('vader_lexicon')\n",
        "nltk.download('sentiwordnet')\n",
        "nltk.download('wordnet')"
      ]
    },
    {
      "cell_type": "code",
      "execution_count": null,
      "metadata": {
        "id": "3RYkC8DzKtKN"
      },
      "outputs": [],
      "source": [
        "import numpy as np\n",
        "import nltk\n",
        "import textblob\n",
        "import importlib.util\n",
        "from sklearn.metrics import confusion_matrix, classification_report\n",
        "np.set_printoptions(precision=2, linewidth=80)\n"
      ]
    },
    {
      "cell_type": "markdown",
      "metadata": {
        "id": "jW2RvWEdZyUe"
      },
      "source": [
        "***Extracting*** data for model evaluation\n",
        "\n",
        "taking 80% as testing data"
      ]
    },
    {
      "cell_type": "code",
      "execution_count": null,
      "metadata": {
        "id": "V-DQ1GR9ZxUk"
      },
      "outputs": [],
      "source": [
        "comments = np.array(dataset['comment'])\n",
        "sentiments = np.array(dataset['sentiment'])\n",
        "test_comments = comments[20000:180000]\n",
        "test_sentiments = sentiments[20000:180000]\n",
        "sample_comment_ids = [2, 555, 17626, 153533, 120043, 79859, 119010, 159997]"
      ]
    },
    {
      "cell_type": "code",
      "execution_count": null,
      "metadata": {
        "colab": {
          "base_uri": "https://localhost:8080/"
        },
        "id": "fhsu8m5x3i1s",
        "outputId": "15c4424a-e787-4b6f-90c7-bb2de6d504ce"
      },
      "outputs": [
        {
          "output_type": "stream",
          "name": "stdout",
          "text": [
            "160000\n"
          ]
        }
      ],
      "source": [
        "print(len(test_comments))"
      ]
    },
    {
      "cell_type": "code",
      "execution_count": null,
      "metadata": {
        "colab": {
          "base_uri": "https://localhost:8080/"
        },
        "id": "ESJoqaqnvuQ4",
        "outputId": "ea432caa-4256-4262-cd78-8de18b45654f"
      },
      "outputs": [
        {
          "output_type": "stream",
          "name": "stdout",
          "text": [
            "Empty DataFrame\n",
            "Columns: [comment, sentiment]\n",
            "Index: []\n"
          ]
        }
      ],
      "source": [
        "sample_comments_df = dataset[dataset['comment'].isin(sample_comment_ids)]\n",
        "\n",
        "# Display contents of filtered rows\n",
        "print(sample_comments_df)"
      ]
    },
    {
      "cell_type": "code",
      "execution_count": null,
      "metadata": {
        "colab": {
          "base_uri": "https://localhost:8080/"
        },
        "id": "vdfM4xPSz-n1",
        "outputId": "6b69904d-3df5-426d-b617-f7087ee50938"
      },
      "outputs": [
        {
          "output_type": "stream",
          "name": "stdout",
          "text": [
            "Comment ID 2 is not present in the dataset.\n",
            "Comment ID 555 is not present in the dataset.\n",
            "Comment ID 17626 is not present in the dataset.\n",
            "Comment ID 153533 is not present in the dataset.\n",
            "Comment ID 120043 is not present in the dataset.\n",
            "Comment ID 79859 is not present in the dataset.\n",
            "Comment ID 119010 is not present in the dataset.\n",
            "Comment ID 159997 is not present in the dataset.\n"
          ]
        }
      ],
      "source": [
        "for comment_id in sample_comment_ids:\n",
        "    if comment_id in dataset.index:\n",
        "        print(f\"Comment ID {comment_id} is present in the dataset.\")\n",
        "    else:\n",
        "        print(f\"Comment ID {comment_id} is not present in the dataset.\")"
      ]
    },
    {
      "cell_type": "markdown",
      "metadata": {
        "id": "Xfeo3-coaU9k"
      },
      "source": [
        "Normalizing dataset"
      ]
    },
    {
      "cell_type": "code",
      "execution_count": null,
      "metadata": {
        "colab": {
          "base_uri": "https://localhost:8080/"
        },
        "id": "rO9N222MaZAJ",
        "outputId": "65314ab2-f58c-42e9-ac45-8298338a07c2"
      },
      "outputs": [
        {
          "output_type": "stream",
          "name": "stderr",
          "text": [
            "<ipython-input-20-ff5df166b218>:30: MarkupResemblesLocatorWarning: The input looks more like a filename than markup. You may want to open this file and pass the filehandle into Beautiful Soup.\n",
            "  soup = BeautifulSoup(text, \"html.parser\")\n"
          ]
        }
      ],
      "source": [
        "test_comments_df = normalize_corpus(test_comments)"
      ]
    },
    {
      "cell_type": "code",
      "execution_count": null,
      "metadata": {
        "id": "sPENa7apWl2Q"
      },
      "outputs": [],
      "source": [
        "test_comments = np.array(test_comments_df)"
      ]
    },
    {
      "cell_type": "code",
      "execution_count": null,
      "metadata": {
        "colab": {
          "base_uri": "https://localhost:8080/"
        },
        "id": "q5EcVaX1PQs8",
        "outputId": "e66738fa-7e61-4b8c-87d7-60f8c662c20d"
      },
      "outputs": [
        {
          "output_type": "stream",
          "name": "stdout",
          "text": [
            "160000\n"
          ]
        }
      ],
      "source": [
        "print(len(test_comments))"
      ]
    },
    {
      "cell_type": "code",
      "execution_count": null,
      "metadata": {
        "colab": {
          "base_uri": "https://localhost:8080/"
        },
        "id": "mKCObaEEOpdU",
        "outputId": "be3dbe0a-35c1-49c8-a27a-b494bb0312c5"
      },
      "outputs": [
        {
          "output_type": "stream",
          "name": "stdout",
          "text": [
            "['I m sooo tire have not realli do anyth day I m also sad booki go work need cuddl time'\n",
            " 'sweetleafceo pm suck sorri'\n",
            " 'mocashop wow normal ferrel fan make sad wait dvd not wast thx head'\n",
            " 'kinda peev miss good food'\n",
            " 'dam cardin take first place game win vs royal brewer loss'\n",
            " 'take break play halo brother twiiter scienc hw' 'do not know leave eye hurt'\n",
            " 'laurenconrad ohh want go see' 'might strep' 'last night chi']\n"
          ]
        }
      ],
      "source": [
        "print(test_comments[:10])"
      ]
    },
    {
      "cell_type": "markdown",
      "metadata": {
        "id": "7sZwVyYWW3dy"
      },
      "source": [
        "# Sentiment Analysis with TextBlob"
      ]
    },
    {
      "cell_type": "markdown",
      "metadata": {
        "id": "nnhLsyKyW8Sk"
      },
      "source": [
        "TextBlob is a python library and offers a simple API to access its methods and perform basic NLP tasks. A good thing about TextBlob is that they are just like python strings.\n",
        "\n",
        "The sentiment function of textblob returns two properties, polarity, and subjectivity.\n",
        "\n",
        "Polarity is float which lies in the range of [-1,1] where 1 means positive statement and -1 means a negative statement. Subjective sentences generally refer to personal opinion, emotion or judgment whereas objective refers to factual information. Subjectivity is also a float which lies in the range of [0,1]."
      ]
    },
    {
      "cell_type": "code",
      "execution_count": null,
      "metadata": {
        "colab": {
          "base_uri": "https://localhost:8080/"
        },
        "id": "2AVTcn0BSY8Q",
        "outputId": "d2a75a5a-90b6-4ff9-ebe6-fab2a35be0e9"
      },
      "outputs": [
        {
          "output_type": "execute_result",
          "data": {
            "text/plain": [
              "type"
            ]
          },
          "metadata": {},
          "execution_count": 31
        }
      ],
      "source": [
        "type(zip)"
      ]
    },
    {
      "cell_type": "code",
      "execution_count": null,
      "metadata": {
        "colab": {
          "base_uri": "https://localhost:8080/"
        },
        "id": "kK1QsQgeW-fe",
        "outputId": "9dff8816-458a-4c03-de9f-36df53c7bd09"
      },
      "outputs": [
        {
          "output_type": "stream",
          "name": "stdout",
          "text": [
            "COMMENT: mocashop wow normal ferrel fan make sad wait dvd not wast thx head\n",
            "Actual Sentiment: negative\n",
            "Predicted Sentiment polarity: -0.08333333333333333\n",
            "------------------------------------------------------------\n",
            "COMMENT: would someon care explain konran wallenrod wikipedia suck\n",
            "Actual Sentiment: negative\n",
            "Predicted Sentiment polarity: 0.0\n",
            "------------------------------------------------------------\n",
            "COMMENT: bed tag do night tomorrow work entir websit hope look well not like\n",
            "Actual Sentiment: negative\n",
            "Predicted Sentiment polarity: 0.0\n",
            "------------------------------------------------------------\n",
            "COMMENT: dy say everi sunset thr sunris delhi day extrem heat temp reach thr rain\n",
            "Actual Sentiment: positive\n",
            "Predicted Sentiment polarity: 0.0\n",
            "------------------------------------------------------------\n",
            "COMMENT: get do die hairrrr home chillin wit si\n",
            "Actual Sentiment: positive\n",
            "Predicted Sentiment polarity: 0.0\n",
            "------------------------------------------------------------\n",
            "COMMENT: lose billa soon icon go to photoshop minto daviestramp onto\n",
            "Actual Sentiment: negative\n",
            "Predicted Sentiment polarity: 0.0\n",
            "------------------------------------------------------------\n",
            "COMMENT: kburi I m total broke can not much socialis payday otherwis would defo come along drink soon x\n",
            "Actual Sentiment: positive\n",
            "Predicted Sentiment polarity: -0.05\n",
            "------------------------------------------------------------\n",
            "COMMENT: morn world take parent meal today ahem forget rubi anniversari last week blame lisa\n",
            "Actual Sentiment: positive\n",
            "Predicted Sentiment polarity: 0.0\n",
            "------------------------------------------------------------\n"
          ]
        }
      ],
      "source": [
        "for i in sample_comment_ids:\n",
        "    comment = test_comments[i]\n",
        "    sentiment = test_sentiments[i]\n",
        "\n",
        "    print('COMMENT:', comment)\n",
        "    print('Actual Sentiment:', sentiment)\n",
        "    print('Predicted Sentiment polarity:', textblob.TextBlob(comment).sentiment.polarity)\n",
        "    print('-'*60)"
      ]
    },
    {
      "cell_type": "markdown",
      "metadata": {
        "id": "CfWMZdKPz0WU"
      },
      "source": [
        "Predicted the sentiment for test dataset"
      ]
    },
    {
      "cell_type": "code",
      "execution_count": null,
      "metadata": {
        "id": "qbBdRMTYXCh8"
      },
      "outputs": [],
      "source": [
        "sentiment_polarity = [textblob.TextBlob(text).sentiment.polarity for text in test_comments]"
      ]
    },
    {
      "cell_type": "markdown",
      "metadata": {
        "id": "L9Vdo4RY0Bay"
      },
      "source": [
        "declared the sentiments as positive and negative"
      ]
    },
    {
      "cell_type": "code",
      "execution_count": null,
      "metadata": {
        "id": "zyG8rPt1XMC1"
      },
      "outputs": [],
      "source": [
        "predicted_sentiments = ['positive' if score >= 0.1 else 'negative' for score in sentiment_polarity]"
      ]
    },
    {
      "cell_type": "markdown",
      "metadata": {
        "id": "9SnGbs0D0Td2"
      },
      "source": [
        "classification report and confusion matrix"
      ]
    },
    {
      "cell_type": "code",
      "execution_count": null,
      "metadata": {
        "colab": {
          "base_uri": "https://localhost:8080/",
          "height": 275
        },
        "id": "IuZWRDuMXPUj",
        "outputId": "285782ee-8a96-46cc-8081-67969d8e0ffe"
      },
      "outputs": [
        {
          "output_type": "stream",
          "name": "stdout",
          "text": [
            "              precision    recall  f1-score   support\n",
            "\n",
            "    negative       0.57      0.77      0.66     80000\n",
            "    positive       0.65      0.43      0.52     80000\n",
            "\n",
            "    accuracy                           0.60    160000\n",
            "   macro avg       0.61      0.60      0.59    160000\n",
            "weighted avg       0.61      0.60      0.59    160000\n",
            "\n"
          ]
        },
        {
          "output_type": "execute_result",
          "data": {
            "text/plain": [
              "          negative  positive\n",
              "negative     61866     18134\n",
              "positive     45812     34188"
            ],
            "text/html": [
              "\n",
              "  <div id=\"df-93efca68-7c0a-4b69-bbcb-debd991b5fb7\" class=\"colab-df-container\">\n",
              "    <div>\n",
              "<style scoped>\n",
              "    .dataframe tbody tr th:only-of-type {\n",
              "        vertical-align: middle;\n",
              "    }\n",
              "\n",
              "    .dataframe tbody tr th {\n",
              "        vertical-align: top;\n",
              "    }\n",
              "\n",
              "    .dataframe thead th {\n",
              "        text-align: right;\n",
              "    }\n",
              "</style>\n",
              "<table border=\"1\" class=\"dataframe\">\n",
              "  <thead>\n",
              "    <tr style=\"text-align: right;\">\n",
              "      <th></th>\n",
              "      <th>negative</th>\n",
              "      <th>positive</th>\n",
              "    </tr>\n",
              "  </thead>\n",
              "  <tbody>\n",
              "    <tr>\n",
              "      <th>negative</th>\n",
              "      <td>61866</td>\n",
              "      <td>18134</td>\n",
              "    </tr>\n",
              "    <tr>\n",
              "      <th>positive</th>\n",
              "      <td>45812</td>\n",
              "      <td>34188</td>\n",
              "    </tr>\n",
              "  </tbody>\n",
              "</table>\n",
              "</div>\n",
              "    <div class=\"colab-df-buttons\">\n",
              "\n",
              "  <div class=\"colab-df-container\">\n",
              "    <button class=\"colab-df-convert\" onclick=\"convertToInteractive('df-93efca68-7c0a-4b69-bbcb-debd991b5fb7')\"\n",
              "            title=\"Convert this dataframe to an interactive table.\"\n",
              "            style=\"display:none;\">\n",
              "\n",
              "  <svg xmlns=\"http://www.w3.org/2000/svg\" height=\"24px\" viewBox=\"0 -960 960 960\">\n",
              "    <path d=\"M120-120v-720h720v720H120Zm60-500h600v-160H180v160Zm220 220h160v-160H400v160Zm0 220h160v-160H400v160ZM180-400h160v-160H180v160Zm440 0h160v-160H620v160ZM180-180h160v-160H180v160Zm440 0h160v-160H620v160Z\"/>\n",
              "  </svg>\n",
              "    </button>\n",
              "\n",
              "  <style>\n",
              "    .colab-df-container {\n",
              "      display:flex;\n",
              "      gap: 12px;\n",
              "    }\n",
              "\n",
              "    .colab-df-convert {\n",
              "      background-color: #E8F0FE;\n",
              "      border: none;\n",
              "      border-radius: 50%;\n",
              "      cursor: pointer;\n",
              "      display: none;\n",
              "      fill: #1967D2;\n",
              "      height: 32px;\n",
              "      padding: 0 0 0 0;\n",
              "      width: 32px;\n",
              "    }\n",
              "\n",
              "    .colab-df-convert:hover {\n",
              "      background-color: #E2EBFA;\n",
              "      box-shadow: 0px 1px 2px rgba(60, 64, 67, 0.3), 0px 1px 3px 1px rgba(60, 64, 67, 0.15);\n",
              "      fill: #174EA6;\n",
              "    }\n",
              "\n",
              "    .colab-df-buttons div {\n",
              "      margin-bottom: 4px;\n",
              "    }\n",
              "\n",
              "    [theme=dark] .colab-df-convert {\n",
              "      background-color: #3B4455;\n",
              "      fill: #D2E3FC;\n",
              "    }\n",
              "\n",
              "    [theme=dark] .colab-df-convert:hover {\n",
              "      background-color: #434B5C;\n",
              "      box-shadow: 0px 1px 3px 1px rgba(0, 0, 0, 0.15);\n",
              "      filter: drop-shadow(0px 1px 2px rgba(0, 0, 0, 0.3));\n",
              "      fill: #FFFFFF;\n",
              "    }\n",
              "  </style>\n",
              "\n",
              "    <script>\n",
              "      const buttonEl =\n",
              "        document.querySelector('#df-93efca68-7c0a-4b69-bbcb-debd991b5fb7 button.colab-df-convert');\n",
              "      buttonEl.style.display =\n",
              "        google.colab.kernel.accessAllowed ? 'block' : 'none';\n",
              "\n",
              "      async function convertToInteractive(key) {\n",
              "        const element = document.querySelector('#df-93efca68-7c0a-4b69-bbcb-debd991b5fb7');\n",
              "        const dataTable =\n",
              "          await google.colab.kernel.invokeFunction('convertToInteractive',\n",
              "                                                    [key], {});\n",
              "        if (!dataTable) return;\n",
              "\n",
              "        const docLinkHtml = 'Like what you see? Visit the ' +\n",
              "          '<a target=\"_blank\" href=https://colab.research.google.com/notebooks/data_table.ipynb>data table notebook</a>'\n",
              "          + ' to learn more about interactive tables.';\n",
              "        element.innerHTML = '';\n",
              "        dataTable['output_type'] = 'display_data';\n",
              "        await google.colab.output.renderOutput(dataTable, element);\n",
              "        const docLink = document.createElement('div');\n",
              "        docLink.innerHTML = docLinkHtml;\n",
              "        element.appendChild(docLink);\n",
              "      }\n",
              "    </script>\n",
              "  </div>\n",
              "\n",
              "\n",
              "<div id=\"df-955d66b1-359d-4fdf-82bc-663e048abb8f\">\n",
              "  <button class=\"colab-df-quickchart\" onclick=\"quickchart('df-955d66b1-359d-4fdf-82bc-663e048abb8f')\"\n",
              "            title=\"Suggest charts\"\n",
              "            style=\"display:none;\">\n",
              "\n",
              "<svg xmlns=\"http://www.w3.org/2000/svg\" height=\"24px\"viewBox=\"0 0 24 24\"\n",
              "     width=\"24px\">\n",
              "    <g>\n",
              "        <path d=\"M19 3H5c-1.1 0-2 .9-2 2v14c0 1.1.9 2 2 2h14c1.1 0 2-.9 2-2V5c0-1.1-.9-2-2-2zM9 17H7v-7h2v7zm4 0h-2V7h2v10zm4 0h-2v-4h2v4z\"/>\n",
              "    </g>\n",
              "</svg>\n",
              "  </button>\n",
              "\n",
              "<style>\n",
              "  .colab-df-quickchart {\n",
              "      --bg-color: #E8F0FE;\n",
              "      --fill-color: #1967D2;\n",
              "      --hover-bg-color: #E2EBFA;\n",
              "      --hover-fill-color: #174EA6;\n",
              "      --disabled-fill-color: #AAA;\n",
              "      --disabled-bg-color: #DDD;\n",
              "  }\n",
              "\n",
              "  [theme=dark] .colab-df-quickchart {\n",
              "      --bg-color: #3B4455;\n",
              "      --fill-color: #D2E3FC;\n",
              "      --hover-bg-color: #434B5C;\n",
              "      --hover-fill-color: #FFFFFF;\n",
              "      --disabled-bg-color: #3B4455;\n",
              "      --disabled-fill-color: #666;\n",
              "  }\n",
              "\n",
              "  .colab-df-quickchart {\n",
              "    background-color: var(--bg-color);\n",
              "    border: none;\n",
              "    border-radius: 50%;\n",
              "    cursor: pointer;\n",
              "    display: none;\n",
              "    fill: var(--fill-color);\n",
              "    height: 32px;\n",
              "    padding: 0;\n",
              "    width: 32px;\n",
              "  }\n",
              "\n",
              "  .colab-df-quickchart:hover {\n",
              "    background-color: var(--hover-bg-color);\n",
              "    box-shadow: 0 1px 2px rgba(60, 64, 67, 0.3), 0 1px 3px 1px rgba(60, 64, 67, 0.15);\n",
              "    fill: var(--button-hover-fill-color);\n",
              "  }\n",
              "\n",
              "  .colab-df-quickchart-complete:disabled,\n",
              "  .colab-df-quickchart-complete:disabled:hover {\n",
              "    background-color: var(--disabled-bg-color);\n",
              "    fill: var(--disabled-fill-color);\n",
              "    box-shadow: none;\n",
              "  }\n",
              "\n",
              "  .colab-df-spinner {\n",
              "    border: 2px solid var(--fill-color);\n",
              "    border-color: transparent;\n",
              "    border-bottom-color: var(--fill-color);\n",
              "    animation:\n",
              "      spin 1s steps(1) infinite;\n",
              "  }\n",
              "\n",
              "  @keyframes spin {\n",
              "    0% {\n",
              "      border-color: transparent;\n",
              "      border-bottom-color: var(--fill-color);\n",
              "      border-left-color: var(--fill-color);\n",
              "    }\n",
              "    20% {\n",
              "      border-color: transparent;\n",
              "      border-left-color: var(--fill-color);\n",
              "      border-top-color: var(--fill-color);\n",
              "    }\n",
              "    30% {\n",
              "      border-color: transparent;\n",
              "      border-left-color: var(--fill-color);\n",
              "      border-top-color: var(--fill-color);\n",
              "      border-right-color: var(--fill-color);\n",
              "    }\n",
              "    40% {\n",
              "      border-color: transparent;\n",
              "      border-right-color: var(--fill-color);\n",
              "      border-top-color: var(--fill-color);\n",
              "    }\n",
              "    60% {\n",
              "      border-color: transparent;\n",
              "      border-right-color: var(--fill-color);\n",
              "    }\n",
              "    80% {\n",
              "      border-color: transparent;\n",
              "      border-right-color: var(--fill-color);\n",
              "      border-bottom-color: var(--fill-color);\n",
              "    }\n",
              "    90% {\n",
              "      border-color: transparent;\n",
              "      border-bottom-color: var(--fill-color);\n",
              "    }\n",
              "  }\n",
              "</style>\n",
              "\n",
              "  <script>\n",
              "    async function quickchart(key) {\n",
              "      const quickchartButtonEl =\n",
              "        document.querySelector('#' + key + ' button');\n",
              "      quickchartButtonEl.disabled = true;  // To prevent multiple clicks.\n",
              "      quickchartButtonEl.classList.add('colab-df-spinner');\n",
              "      try {\n",
              "        const charts = await google.colab.kernel.invokeFunction(\n",
              "            'suggestCharts', [key], {});\n",
              "      } catch (error) {\n",
              "        console.error('Error during call to suggestCharts:', error);\n",
              "      }\n",
              "      quickchartButtonEl.classList.remove('colab-df-spinner');\n",
              "      quickchartButtonEl.classList.add('colab-df-quickchart-complete');\n",
              "    }\n",
              "    (() => {\n",
              "      let quickchartButtonEl =\n",
              "        document.querySelector('#df-955d66b1-359d-4fdf-82bc-663e048abb8f button');\n",
              "      quickchartButtonEl.style.display =\n",
              "        google.colab.kernel.accessAllowed ? 'block' : 'none';\n",
              "    })();\n",
              "  </script>\n",
              "</div>\n",
              "\n",
              "    </div>\n",
              "  </div>\n"
            ],
            "application/vnd.google.colaboratory.intrinsic+json": {
              "type": "dataframe",
              "summary": "{\n  \"name\": \"pd\",\n  \"rows\": 2,\n  \"fields\": [\n    {\n      \"column\": \"negative\",\n      \"properties\": {\n        \"dtype\": \"number\",\n        \"std\": 11351,\n        \"min\": 45812,\n        \"max\": 61866,\n        \"num_unique_values\": 2,\n        \"samples\": [\n          45812,\n          61866\n        ],\n        \"semantic_type\": \"\",\n        \"description\": \"\"\n      }\n    },\n    {\n      \"column\": \"positive\",\n      \"properties\": {\n        \"dtype\": \"number\",\n        \"std\": 11351,\n        \"min\": 18134,\n        \"max\": 34188,\n        \"num_unique_values\": 2,\n        \"samples\": [\n          34188,\n          18134\n        ],\n        \"semantic_type\": \"\",\n        \"description\": \"\"\n      }\n    }\n  ]\n}"
            }
          },
          "metadata": {},
          "execution_count": 35
        }
      ],
      "source": [
        "labels = ['negative', 'positive']\n",
        "print(classification_report(test_sentiments, predicted_sentiments))\n",
        "pd.DataFrame(confusion_matrix(test_sentiments, predicted_sentiments), index=labels, columns=labels)"
      ]
    },
    {
      "cell_type": "markdown",
      "metadata": {
        "id": "KodjuEEA2X_w"
      },
      "source": [
        "Sample comment IDs report"
      ]
    },
    {
      "cell_type": "code",
      "execution_count": null,
      "metadata": {
        "id": "AS1M037nXsKI"
      },
      "outputs": [],
      "source": [
        "Text = test_comments[sample_comment_ids]\n",
        "Real_sentiments = test_sentiments[sample_comment_ids]\n",
        "TextBlob_sentiment_polarity = sentiment_polarity[2],sentiment_polarity[555],sentiment_polarity[17626], sentiment_polarity[153533], sentiment_polarity[120043], sentiment_polarity[79859], sentiment_polarity[119010], sentiment_polarity[159997]\n",
        "TextBlob_predicted_sentiments = predicted_sentiments[2],predicted_sentiments[555],predicted_sentiments[17626], predicted_sentiments[153533], predicted_sentiments[120043], predicted_sentiments[79859], predicted_sentiments[119010], predicted_sentiments[159997]"
      ]
    },
    {
      "cell_type": "code",
      "execution_count": null,
      "metadata": {
        "id": "_18SgvleX0de"
      },
      "outputs": [],
      "source": [
        "TextBlob_sample_report = {'Text':Text,'Real_sentiments':Real_sentiments,'TextBlob_sentiment_polarity':TextBlob_sentiment_polarity,\n",
        "                          'TextBlob_predicted_sentiments':TextBlob_predicted_sentiments}\n",
        "TextBlob_sample_report = pd.DataFrame(data=TextBlob_sample_report)"
      ]
    },
    {
      "cell_type": "code",
      "execution_count": null,
      "metadata": {
        "colab": {
          "base_uri": "https://localhost:8080/",
          "height": 300
        },
        "id": "esTcSRcpX3Lb",
        "outputId": "71ede79e-ac6d-4300-9175-6e4ee23a62ac"
      },
      "outputs": [
        {
          "output_type": "execute_result",
          "data": {
            "text/plain": [
              "                                                Text Real_sentiments  \\\n",
              "0  mocashop wow normal ferrel fan make sad wait d...        negative   \n",
              "1  would someon care explain konran wallenrod wik...        negative   \n",
              "2  bed tag do night tomorrow work entir websit ho...        negative   \n",
              "3  dy say everi sunset thr sunris delhi day extre...        positive   \n",
              "4             get do die hairrrr home chillin wit si        positive   \n",
              "5  lose billa soon icon go to photoshop minto dav...        negative   \n",
              "6  kburi I m total broke can not much socialis pa...        positive   \n",
              "7  morn world take parent meal today ahem forget ...        positive   \n",
              "\n",
              "   TextBlob_sentiment_polarity TextBlob_predicted_sentiments  \n",
              "0                    -0.083333                      negative  \n",
              "1                     0.000000                      negative  \n",
              "2                     0.000000                      negative  \n",
              "3                     0.000000                      negative  \n",
              "4                     0.000000                      negative  \n",
              "5                     0.000000                      negative  \n",
              "6                    -0.050000                      negative  \n",
              "7                     0.000000                      negative  "
            ],
            "text/html": [
              "\n",
              "  <div id=\"df-0ca3eecb-be5d-4d0a-89b5-0156588e1065\" class=\"colab-df-container\">\n",
              "    <div>\n",
              "<style scoped>\n",
              "    .dataframe tbody tr th:only-of-type {\n",
              "        vertical-align: middle;\n",
              "    }\n",
              "\n",
              "    .dataframe tbody tr th {\n",
              "        vertical-align: top;\n",
              "    }\n",
              "\n",
              "    .dataframe thead th {\n",
              "        text-align: right;\n",
              "    }\n",
              "</style>\n",
              "<table border=\"1\" class=\"dataframe\">\n",
              "  <thead>\n",
              "    <tr style=\"text-align: right;\">\n",
              "      <th></th>\n",
              "      <th>Text</th>\n",
              "      <th>Real_sentiments</th>\n",
              "      <th>TextBlob_sentiment_polarity</th>\n",
              "      <th>TextBlob_predicted_sentiments</th>\n",
              "    </tr>\n",
              "  </thead>\n",
              "  <tbody>\n",
              "    <tr>\n",
              "      <th>0</th>\n",
              "      <td>mocashop wow normal ferrel fan make sad wait d...</td>\n",
              "      <td>negative</td>\n",
              "      <td>-0.083333</td>\n",
              "      <td>negative</td>\n",
              "    </tr>\n",
              "    <tr>\n",
              "      <th>1</th>\n",
              "      <td>would someon care explain konran wallenrod wik...</td>\n",
              "      <td>negative</td>\n",
              "      <td>0.000000</td>\n",
              "      <td>negative</td>\n",
              "    </tr>\n",
              "    <tr>\n",
              "      <th>2</th>\n",
              "      <td>bed tag do night tomorrow work entir websit ho...</td>\n",
              "      <td>negative</td>\n",
              "      <td>0.000000</td>\n",
              "      <td>negative</td>\n",
              "    </tr>\n",
              "    <tr>\n",
              "      <th>3</th>\n",
              "      <td>dy say everi sunset thr sunris delhi day extre...</td>\n",
              "      <td>positive</td>\n",
              "      <td>0.000000</td>\n",
              "      <td>negative</td>\n",
              "    </tr>\n",
              "    <tr>\n",
              "      <th>4</th>\n",
              "      <td>get do die hairrrr home chillin wit si</td>\n",
              "      <td>positive</td>\n",
              "      <td>0.000000</td>\n",
              "      <td>negative</td>\n",
              "    </tr>\n",
              "    <tr>\n",
              "      <th>5</th>\n",
              "      <td>lose billa soon icon go to photoshop minto dav...</td>\n",
              "      <td>negative</td>\n",
              "      <td>0.000000</td>\n",
              "      <td>negative</td>\n",
              "    </tr>\n",
              "    <tr>\n",
              "      <th>6</th>\n",
              "      <td>kburi I m total broke can not much socialis pa...</td>\n",
              "      <td>positive</td>\n",
              "      <td>-0.050000</td>\n",
              "      <td>negative</td>\n",
              "    </tr>\n",
              "    <tr>\n",
              "      <th>7</th>\n",
              "      <td>morn world take parent meal today ahem forget ...</td>\n",
              "      <td>positive</td>\n",
              "      <td>0.000000</td>\n",
              "      <td>negative</td>\n",
              "    </tr>\n",
              "  </tbody>\n",
              "</table>\n",
              "</div>\n",
              "    <div class=\"colab-df-buttons\">\n",
              "\n",
              "  <div class=\"colab-df-container\">\n",
              "    <button class=\"colab-df-convert\" onclick=\"convertToInteractive('df-0ca3eecb-be5d-4d0a-89b5-0156588e1065')\"\n",
              "            title=\"Convert this dataframe to an interactive table.\"\n",
              "            style=\"display:none;\">\n",
              "\n",
              "  <svg xmlns=\"http://www.w3.org/2000/svg\" height=\"24px\" viewBox=\"0 -960 960 960\">\n",
              "    <path d=\"M120-120v-720h720v720H120Zm60-500h600v-160H180v160Zm220 220h160v-160H400v160Zm0 220h160v-160H400v160ZM180-400h160v-160H180v160Zm440 0h160v-160H620v160ZM180-180h160v-160H180v160Zm440 0h160v-160H620v160Z\"/>\n",
              "  </svg>\n",
              "    </button>\n",
              "\n",
              "  <style>\n",
              "    .colab-df-container {\n",
              "      display:flex;\n",
              "      gap: 12px;\n",
              "    }\n",
              "\n",
              "    .colab-df-convert {\n",
              "      background-color: #E8F0FE;\n",
              "      border: none;\n",
              "      border-radius: 50%;\n",
              "      cursor: pointer;\n",
              "      display: none;\n",
              "      fill: #1967D2;\n",
              "      height: 32px;\n",
              "      padding: 0 0 0 0;\n",
              "      width: 32px;\n",
              "    }\n",
              "\n",
              "    .colab-df-convert:hover {\n",
              "      background-color: #E2EBFA;\n",
              "      box-shadow: 0px 1px 2px rgba(60, 64, 67, 0.3), 0px 1px 3px 1px rgba(60, 64, 67, 0.15);\n",
              "      fill: #174EA6;\n",
              "    }\n",
              "\n",
              "    .colab-df-buttons div {\n",
              "      margin-bottom: 4px;\n",
              "    }\n",
              "\n",
              "    [theme=dark] .colab-df-convert {\n",
              "      background-color: #3B4455;\n",
              "      fill: #D2E3FC;\n",
              "    }\n",
              "\n",
              "    [theme=dark] .colab-df-convert:hover {\n",
              "      background-color: #434B5C;\n",
              "      box-shadow: 0px 1px 3px 1px rgba(0, 0, 0, 0.15);\n",
              "      filter: drop-shadow(0px 1px 2px rgba(0, 0, 0, 0.3));\n",
              "      fill: #FFFFFF;\n",
              "    }\n",
              "  </style>\n",
              "\n",
              "    <script>\n",
              "      const buttonEl =\n",
              "        document.querySelector('#df-0ca3eecb-be5d-4d0a-89b5-0156588e1065 button.colab-df-convert');\n",
              "      buttonEl.style.display =\n",
              "        google.colab.kernel.accessAllowed ? 'block' : 'none';\n",
              "\n",
              "      async function convertToInteractive(key) {\n",
              "        const element = document.querySelector('#df-0ca3eecb-be5d-4d0a-89b5-0156588e1065');\n",
              "        const dataTable =\n",
              "          await google.colab.kernel.invokeFunction('convertToInteractive',\n",
              "                                                    [key], {});\n",
              "        if (!dataTable) return;\n",
              "\n",
              "        const docLinkHtml = 'Like what you see? Visit the ' +\n",
              "          '<a target=\"_blank\" href=https://colab.research.google.com/notebooks/data_table.ipynb>data table notebook</a>'\n",
              "          + ' to learn more about interactive tables.';\n",
              "        element.innerHTML = '';\n",
              "        dataTable['output_type'] = 'display_data';\n",
              "        await google.colab.output.renderOutput(dataTable, element);\n",
              "        const docLink = document.createElement('div');\n",
              "        docLink.innerHTML = docLinkHtml;\n",
              "        element.appendChild(docLink);\n",
              "      }\n",
              "    </script>\n",
              "  </div>\n",
              "\n",
              "\n",
              "<div id=\"df-c6b3b965-f24f-4ed7-814f-939fe31ad6ec\">\n",
              "  <button class=\"colab-df-quickchart\" onclick=\"quickchart('df-c6b3b965-f24f-4ed7-814f-939fe31ad6ec')\"\n",
              "            title=\"Suggest charts\"\n",
              "            style=\"display:none;\">\n",
              "\n",
              "<svg xmlns=\"http://www.w3.org/2000/svg\" height=\"24px\"viewBox=\"0 0 24 24\"\n",
              "     width=\"24px\">\n",
              "    <g>\n",
              "        <path d=\"M19 3H5c-1.1 0-2 .9-2 2v14c0 1.1.9 2 2 2h14c1.1 0 2-.9 2-2V5c0-1.1-.9-2-2-2zM9 17H7v-7h2v7zm4 0h-2V7h2v10zm4 0h-2v-4h2v4z\"/>\n",
              "    </g>\n",
              "</svg>\n",
              "  </button>\n",
              "\n",
              "<style>\n",
              "  .colab-df-quickchart {\n",
              "      --bg-color: #E8F0FE;\n",
              "      --fill-color: #1967D2;\n",
              "      --hover-bg-color: #E2EBFA;\n",
              "      --hover-fill-color: #174EA6;\n",
              "      --disabled-fill-color: #AAA;\n",
              "      --disabled-bg-color: #DDD;\n",
              "  }\n",
              "\n",
              "  [theme=dark] .colab-df-quickchart {\n",
              "      --bg-color: #3B4455;\n",
              "      --fill-color: #D2E3FC;\n",
              "      --hover-bg-color: #434B5C;\n",
              "      --hover-fill-color: #FFFFFF;\n",
              "      --disabled-bg-color: #3B4455;\n",
              "      --disabled-fill-color: #666;\n",
              "  }\n",
              "\n",
              "  .colab-df-quickchart {\n",
              "    background-color: var(--bg-color);\n",
              "    border: none;\n",
              "    border-radius: 50%;\n",
              "    cursor: pointer;\n",
              "    display: none;\n",
              "    fill: var(--fill-color);\n",
              "    height: 32px;\n",
              "    padding: 0;\n",
              "    width: 32px;\n",
              "  }\n",
              "\n",
              "  .colab-df-quickchart:hover {\n",
              "    background-color: var(--hover-bg-color);\n",
              "    box-shadow: 0 1px 2px rgba(60, 64, 67, 0.3), 0 1px 3px 1px rgba(60, 64, 67, 0.15);\n",
              "    fill: var(--button-hover-fill-color);\n",
              "  }\n",
              "\n",
              "  .colab-df-quickchart-complete:disabled,\n",
              "  .colab-df-quickchart-complete:disabled:hover {\n",
              "    background-color: var(--disabled-bg-color);\n",
              "    fill: var(--disabled-fill-color);\n",
              "    box-shadow: none;\n",
              "  }\n",
              "\n",
              "  .colab-df-spinner {\n",
              "    border: 2px solid var(--fill-color);\n",
              "    border-color: transparent;\n",
              "    border-bottom-color: var(--fill-color);\n",
              "    animation:\n",
              "      spin 1s steps(1) infinite;\n",
              "  }\n",
              "\n",
              "  @keyframes spin {\n",
              "    0% {\n",
              "      border-color: transparent;\n",
              "      border-bottom-color: var(--fill-color);\n",
              "      border-left-color: var(--fill-color);\n",
              "    }\n",
              "    20% {\n",
              "      border-color: transparent;\n",
              "      border-left-color: var(--fill-color);\n",
              "      border-top-color: var(--fill-color);\n",
              "    }\n",
              "    30% {\n",
              "      border-color: transparent;\n",
              "      border-left-color: var(--fill-color);\n",
              "      border-top-color: var(--fill-color);\n",
              "      border-right-color: var(--fill-color);\n",
              "    }\n",
              "    40% {\n",
              "      border-color: transparent;\n",
              "      border-right-color: var(--fill-color);\n",
              "      border-top-color: var(--fill-color);\n",
              "    }\n",
              "    60% {\n",
              "      border-color: transparent;\n",
              "      border-right-color: var(--fill-color);\n",
              "    }\n",
              "    80% {\n",
              "      border-color: transparent;\n",
              "      border-right-color: var(--fill-color);\n",
              "      border-bottom-color: var(--fill-color);\n",
              "    }\n",
              "    90% {\n",
              "      border-color: transparent;\n",
              "      border-bottom-color: var(--fill-color);\n",
              "    }\n",
              "  }\n",
              "</style>\n",
              "\n",
              "  <script>\n",
              "    async function quickchart(key) {\n",
              "      const quickchartButtonEl =\n",
              "        document.querySelector('#' + key + ' button');\n",
              "      quickchartButtonEl.disabled = true;  // To prevent multiple clicks.\n",
              "      quickchartButtonEl.classList.add('colab-df-spinner');\n",
              "      try {\n",
              "        const charts = await google.colab.kernel.invokeFunction(\n",
              "            'suggestCharts', [key], {});\n",
              "      } catch (error) {\n",
              "        console.error('Error during call to suggestCharts:', error);\n",
              "      }\n",
              "      quickchartButtonEl.classList.remove('colab-df-spinner');\n",
              "      quickchartButtonEl.classList.add('colab-df-quickchart-complete');\n",
              "    }\n",
              "    (() => {\n",
              "      let quickchartButtonEl =\n",
              "        document.querySelector('#df-c6b3b965-f24f-4ed7-814f-939fe31ad6ec button');\n",
              "      quickchartButtonEl.style.display =\n",
              "        google.colab.kernel.accessAllowed ? 'block' : 'none';\n",
              "    })();\n",
              "  </script>\n",
              "</div>\n",
              "\n",
              "  <div id=\"id_fc00c083-a03d-4f92-a739-bb0cf2474b8d\">\n",
              "    <style>\n",
              "      .colab-df-generate {\n",
              "        background-color: #E8F0FE;\n",
              "        border: none;\n",
              "        border-radius: 50%;\n",
              "        cursor: pointer;\n",
              "        display: none;\n",
              "        fill: #1967D2;\n",
              "        height: 32px;\n",
              "        padding: 0 0 0 0;\n",
              "        width: 32px;\n",
              "      }\n",
              "\n",
              "      .colab-df-generate:hover {\n",
              "        background-color: #E2EBFA;\n",
              "        box-shadow: 0px 1px 2px rgba(60, 64, 67, 0.3), 0px 1px 3px 1px rgba(60, 64, 67, 0.15);\n",
              "        fill: #174EA6;\n",
              "      }\n",
              "\n",
              "      [theme=dark] .colab-df-generate {\n",
              "        background-color: #3B4455;\n",
              "        fill: #D2E3FC;\n",
              "      }\n",
              "\n",
              "      [theme=dark] .colab-df-generate:hover {\n",
              "        background-color: #434B5C;\n",
              "        box-shadow: 0px 1px 3px 1px rgba(0, 0, 0, 0.15);\n",
              "        filter: drop-shadow(0px 1px 2px rgba(0, 0, 0, 0.3));\n",
              "        fill: #FFFFFF;\n",
              "      }\n",
              "    </style>\n",
              "    <button class=\"colab-df-generate\" onclick=\"generateWithVariable('TextBlob_sample_report')\"\n",
              "            title=\"Generate code using this dataframe.\"\n",
              "            style=\"display:none;\">\n",
              "\n",
              "  <svg xmlns=\"http://www.w3.org/2000/svg\" height=\"24px\"viewBox=\"0 0 24 24\"\n",
              "       width=\"24px\">\n",
              "    <path d=\"M7,19H8.4L18.45,9,17,7.55,7,17.6ZM5,21V16.75L18.45,3.32a2,2,0,0,1,2.83,0l1.4,1.43a1.91,1.91,0,0,1,.58,1.4,1.91,1.91,0,0,1-.58,1.4L9.25,21ZM18.45,9,17,7.55Zm-12,3A5.31,5.31,0,0,0,4.9,8.1,5.31,5.31,0,0,0,1,6.5,5.31,5.31,0,0,0,4.9,4.9,5.31,5.31,0,0,0,6.5,1,5.31,5.31,0,0,0,8.1,4.9,5.31,5.31,0,0,0,12,6.5,5.46,5.46,0,0,0,6.5,12Z\"/>\n",
              "  </svg>\n",
              "    </button>\n",
              "    <script>\n",
              "      (() => {\n",
              "      const buttonEl =\n",
              "        document.querySelector('#id_fc00c083-a03d-4f92-a739-bb0cf2474b8d button.colab-df-generate');\n",
              "      buttonEl.style.display =\n",
              "        google.colab.kernel.accessAllowed ? 'block' : 'none';\n",
              "\n",
              "      buttonEl.onclick = () => {\n",
              "        google.colab.notebook.generateWithVariable('TextBlob_sample_report');\n",
              "      }\n",
              "      })();\n",
              "    </script>\n",
              "  </div>\n",
              "\n",
              "    </div>\n",
              "  </div>\n"
            ],
            "application/vnd.google.colaboratory.intrinsic+json": {
              "type": "dataframe",
              "variable_name": "TextBlob_sample_report",
              "summary": "{\n  \"name\": \"TextBlob_sample_report\",\n  \"rows\": 8,\n  \"fields\": [\n    {\n      \"column\": \"Text\",\n      \"properties\": {\n        \"dtype\": \"string\",\n        \"num_unique_values\": 8,\n        \"samples\": [\n          \"would someon care explain konran wallenrod wikipedia suck\",\n          \"lose billa soon icon go to photoshop minto daviestramp onto\",\n          \"mocashop wow normal ferrel fan make sad wait dvd not wast thx head\"\n        ],\n        \"semantic_type\": \"\",\n        \"description\": \"\"\n      }\n    },\n    {\n      \"column\": \"Real_sentiments\",\n      \"properties\": {\n        \"dtype\": \"category\",\n        \"num_unique_values\": 2,\n        \"samples\": [\n          \"positive\",\n          \"negative\"\n        ],\n        \"semantic_type\": \"\",\n        \"description\": \"\"\n      }\n    },\n    {\n      \"column\": \"TextBlob_sentiment_polarity\",\n      \"properties\": {\n        \"dtype\": \"number\",\n        \"std\": 0.032120803721981055,\n        \"min\": -0.08333333333333333,\n        \"max\": 0.0,\n        \"num_unique_values\": 3,\n        \"samples\": [\n          -0.08333333333333333,\n          0.0\n        ],\n        \"semantic_type\": \"\",\n        \"description\": \"\"\n      }\n    },\n    {\n      \"column\": \"TextBlob_predicted_sentiments\",\n      \"properties\": {\n        \"dtype\": \"category\",\n        \"num_unique_values\": 1,\n        \"samples\": [\n          \"negative\"\n        ],\n        \"semantic_type\": \"\",\n        \"description\": \"\"\n      }\n    }\n  ]\n}"
            }
          },
          "metadata": {},
          "execution_count": 38
        }
      ],
      "source": [
        "TextBlob_sample_report"
      ]
    },
    {
      "cell_type": "markdown",
      "metadata": {
        "id": "PaxQVMg22nDt"
      },
      "source": [
        "elements are coloured in a dateframe\n",
        "  green if positive and red if\n",
        "  negative. Does not color NaN\n",
        "  values."
      ]
    },
    {
      "cell_type": "code",
      "execution_count": null,
      "metadata": {
        "id": "dUQnfftVX6Dy"
      },
      "outputs": [],
      "source": [
        "def color_negative_red(value):\n",
        "\n",
        "  if value == 'positive':\n",
        "    color = 'green'\n",
        "  else:\n",
        "    color = 'red'\n",
        "\n",
        "  return 'color: %s' % color"
      ]
    },
    {
      "cell_type": "code",
      "execution_count": null,
      "metadata": {
        "id": "WkjKiplUX8EJ"
      },
      "outputs": [],
      "source": [
        "df = TextBlob_sample_report.copy()"
      ]
    },
    {
      "cell_type": "code",
      "execution_count": null,
      "metadata": {
        "colab": {
          "base_uri": "https://localhost:8080/",
          "height": 387
        },
        "id": "FZHK1KBnX9yN",
        "outputId": "69471704-4876-4a42-fe80-69177511b40e"
      },
      "outputs": [
        {
          "output_type": "execute_result",
          "data": {
            "text/plain": [
              "<pandas.io.formats.style.Styler at 0x79c7d23af580>"
            ],
            "text/html": [
              "<style type=\"text/css\">\n",
              "#T_578ea_row0_col1, #T_578ea_row0_col3, #T_578ea_row1_col1, #T_578ea_row1_col3, #T_578ea_row2_col1, #T_578ea_row2_col3, #T_578ea_row3_col3, #T_578ea_row4_col3, #T_578ea_row5_col1, #T_578ea_row5_col3, #T_578ea_row6_col3, #T_578ea_row7_col3 {\n",
              "  color: red;\n",
              "}\n",
              "#T_578ea_row3_col1, #T_578ea_row4_col1, #T_578ea_row6_col1, #T_578ea_row7_col1 {\n",
              "  color: green;\n",
              "}\n",
              "</style>\n",
              "<table id=\"T_578ea\" class=\"dataframe\">\n",
              "  <thead>\n",
              "    <tr>\n",
              "      <th class=\"blank level0\" >&nbsp;</th>\n",
              "      <th id=\"T_578ea_level0_col0\" class=\"col_heading level0 col0\" >Text</th>\n",
              "      <th id=\"T_578ea_level0_col1\" class=\"col_heading level0 col1\" >Real_sentiments</th>\n",
              "      <th id=\"T_578ea_level0_col2\" class=\"col_heading level0 col2\" >TextBlob_sentiment_polarity</th>\n",
              "      <th id=\"T_578ea_level0_col3\" class=\"col_heading level0 col3\" >TextBlob_predicted_sentiments</th>\n",
              "    </tr>\n",
              "  </thead>\n",
              "  <tbody>\n",
              "    <tr>\n",
              "      <th id=\"T_578ea_level0_row0\" class=\"row_heading level0 row0\" >0</th>\n",
              "      <td id=\"T_578ea_row0_col0\" class=\"data row0 col0\" >mocashop wow normal ferrel fan make sad wait dvd not wast thx head</td>\n",
              "      <td id=\"T_578ea_row0_col1\" class=\"data row0 col1\" >negative</td>\n",
              "      <td id=\"T_578ea_row0_col2\" class=\"data row0 col2\" >-0.083333</td>\n",
              "      <td id=\"T_578ea_row0_col3\" class=\"data row0 col3\" >negative</td>\n",
              "    </tr>\n",
              "    <tr>\n",
              "      <th id=\"T_578ea_level0_row1\" class=\"row_heading level0 row1\" >1</th>\n",
              "      <td id=\"T_578ea_row1_col0\" class=\"data row1 col0\" >would someon care explain konran wallenrod wikipedia suck</td>\n",
              "      <td id=\"T_578ea_row1_col1\" class=\"data row1 col1\" >negative</td>\n",
              "      <td id=\"T_578ea_row1_col2\" class=\"data row1 col2\" >0.000000</td>\n",
              "      <td id=\"T_578ea_row1_col3\" class=\"data row1 col3\" >negative</td>\n",
              "    </tr>\n",
              "    <tr>\n",
              "      <th id=\"T_578ea_level0_row2\" class=\"row_heading level0 row2\" >2</th>\n",
              "      <td id=\"T_578ea_row2_col0\" class=\"data row2 col0\" >bed tag do night tomorrow work entir websit hope look well not like</td>\n",
              "      <td id=\"T_578ea_row2_col1\" class=\"data row2 col1\" >negative</td>\n",
              "      <td id=\"T_578ea_row2_col2\" class=\"data row2 col2\" >0.000000</td>\n",
              "      <td id=\"T_578ea_row2_col3\" class=\"data row2 col3\" >negative</td>\n",
              "    </tr>\n",
              "    <tr>\n",
              "      <th id=\"T_578ea_level0_row3\" class=\"row_heading level0 row3\" >3</th>\n",
              "      <td id=\"T_578ea_row3_col0\" class=\"data row3 col0\" >dy say everi sunset thr sunris delhi day extrem heat temp reach thr rain</td>\n",
              "      <td id=\"T_578ea_row3_col1\" class=\"data row3 col1\" >positive</td>\n",
              "      <td id=\"T_578ea_row3_col2\" class=\"data row3 col2\" >0.000000</td>\n",
              "      <td id=\"T_578ea_row3_col3\" class=\"data row3 col3\" >negative</td>\n",
              "    </tr>\n",
              "    <tr>\n",
              "      <th id=\"T_578ea_level0_row4\" class=\"row_heading level0 row4\" >4</th>\n",
              "      <td id=\"T_578ea_row4_col0\" class=\"data row4 col0\" >get do die hairrrr home chillin wit si</td>\n",
              "      <td id=\"T_578ea_row4_col1\" class=\"data row4 col1\" >positive</td>\n",
              "      <td id=\"T_578ea_row4_col2\" class=\"data row4 col2\" >0.000000</td>\n",
              "      <td id=\"T_578ea_row4_col3\" class=\"data row4 col3\" >negative</td>\n",
              "    </tr>\n",
              "    <tr>\n",
              "      <th id=\"T_578ea_level0_row5\" class=\"row_heading level0 row5\" >5</th>\n",
              "      <td id=\"T_578ea_row5_col0\" class=\"data row5 col0\" >lose billa soon icon go to photoshop minto daviestramp onto</td>\n",
              "      <td id=\"T_578ea_row5_col1\" class=\"data row5 col1\" >negative</td>\n",
              "      <td id=\"T_578ea_row5_col2\" class=\"data row5 col2\" >0.000000</td>\n",
              "      <td id=\"T_578ea_row5_col3\" class=\"data row5 col3\" >negative</td>\n",
              "    </tr>\n",
              "    <tr>\n",
              "      <th id=\"T_578ea_level0_row6\" class=\"row_heading level0 row6\" >6</th>\n",
              "      <td id=\"T_578ea_row6_col0\" class=\"data row6 col0\" >kburi I m total broke can not much socialis payday otherwis would defo come along drink soon x</td>\n",
              "      <td id=\"T_578ea_row6_col1\" class=\"data row6 col1\" >positive</td>\n",
              "      <td id=\"T_578ea_row6_col2\" class=\"data row6 col2\" >-0.050000</td>\n",
              "      <td id=\"T_578ea_row6_col3\" class=\"data row6 col3\" >negative</td>\n",
              "    </tr>\n",
              "    <tr>\n",
              "      <th id=\"T_578ea_level0_row7\" class=\"row_heading level0 row7\" >7</th>\n",
              "      <td id=\"T_578ea_row7_col0\" class=\"data row7 col0\" >morn world take parent meal today ahem forget rubi anniversari last week blame lisa</td>\n",
              "      <td id=\"T_578ea_row7_col1\" class=\"data row7 col1\" >positive</td>\n",
              "      <td id=\"T_578ea_row7_col2\" class=\"data row7 col2\" >0.000000</td>\n",
              "      <td id=\"T_578ea_row7_col3\" class=\"data row7 col3\" >negative</td>\n",
              "    </tr>\n",
              "  </tbody>\n",
              "</table>\n"
            ]
          },
          "metadata": {},
          "execution_count": 41
        }
      ],
      "source": [
        "df.style.applymap(color_negative_red, subset=['Real_sentiments','TextBlob_predicted_sentiments'])"
      ]
    },
    {
      "cell_type": "code",
      "execution_count": null,
      "metadata": {
        "colab": {
          "base_uri": "https://localhost:8080/",
          "height": 315
        },
        "id": "v10XNEFqYAOb",
        "outputId": "06ef341b-1f6c-4a80-c94f-40b7d3128c9c"
      },
      "outputs": [
        {
          "output_type": "display_data",
          "data": {
            "text/plain": [
              "<Figure size 400x300 with 2 Axes>"
            ],
            "image/png": "[encoded data removed]"
          },
          "metadata": {}
        }
      ],
      "source": [
        "import matplotlib.pyplot as plt\n",
        "import seaborn as sns\n",
        "import plotly.express as px\n",
        "import plotly.graph_objects as go\n",
        "from plotly.subplots import make_subplots\n",
        "import warnings\n",
        "warnings.filterwarnings('ignore')\n",
        "\n",
        "plt.figure(figsize=(4,3))\n",
        "sns.heatmap(confusion_matrix(test_sentiments, predicted_sentiments),\n",
        "                annot=True,fmt = \"d\",linecolor=\"k\",linewidths=3)\n",
        "\n",
        "plt.title(\"Sentiment Analysis with TextBlob\",fontsize=14)\n",
        "plt.show()"
      ]
    },
    {
      "cell_type": "markdown",
      "metadata": {
        "id": "OpmWe0Dd29lq"
      },
      "source": [
        "Accuracy Score"
      ]
    },
    {
      "cell_type": "code",
      "execution_count": null,
      "metadata": {
        "colab": {
          "base_uri": "https://localhost:8080/"
        },
        "id": "_qsvvhkZYDA5",
        "outputId": "a9efd986-a2c8-4635-ba79-765418fab0a6"
      },
      "outputs": [
        {
          "output_type": "stream",
          "name": "stdout",
          "text": [
            "0.6003375\n"
          ]
        }
      ],
      "source": [
        "from sklearn.metrics import accuracy_score\n",
        "TextBlob_model = accuracy_score(test_sentiments, predicted_sentiments)\n",
        "print(TextBlob_model)"
      ]
    },
    {
      "cell_type": "markdown",
      "metadata": {
        "id": "xBW-MfGwYFYp"
      },
      "source": [
        "# Sentiment Analysis with AFINN"
      ]
    },
    {
      "cell_type": "markdown",
      "metadata": {
        "id": "z54tz6HEYIGM"
      },
      "source": [
        "The AFINN lexicon is perhaps one of the simplest and most popular lexicons and can be used extensively for sentiment analysis.Developed and curated by Finn Årup Nielsen.It contains 3300+ words with a polarity score associated with each word. Words scores range from minus five (negative) to plus five (positive). You can find this lexicon at the author’s official GitHub repository along with previous versions of this lexicon including AFINN-111 at https://github.com/fnielsen/afinn/blob/master/afinn/data/."
      ]
    },
    {
      "cell_type": "code",
      "execution_count": null,
      "metadata": {
        "colab": {
          "base_uri": "https://localhost:8080/"
        },
        "id": "Q4uzbh2sYJz4",
        "outputId": "1afa6832-6057-43ce-ee7e-1c288d345e0f"
      },
      "outputs": [
        {
          "output_type": "stream",
          "name": "stdout",
          "text": [
            "Collecting afinn\n",
            "  Downloading afinn-0.1.tar.gz (52 kB)\n",
            "\u001b[?25l     \u001b[90m━━━━━━━━━━━━━━━━━━━━━━━━━━━━━━━━━━━━━━━━\u001b[0m \u001b[32m0.0/52.6 kB\u001b[0m \u001b[31m?\u001b[0m eta \u001b[36m-:--:--\u001b[0m\r\u001b[2K     \u001b[90m━━━━━━━━━━━━━━━━━━━━━━━━━━━━━━━━━━━━━━━━\u001b[0m \u001b[32m52.6/52.6 kB\u001b[0m \u001b[31m1.9 MB/s\u001b[0m eta \u001b[36m0:00:00\u001b[0m\n",
            "\u001b[?25h  Preparing metadata (setup.py) ... \u001b[?25l\u001b[?25hdone\n",
            "Building wheels for collected packages: afinn\n",
            "  Building wheel for afinn (setup.py) ... \u001b[?25l\u001b[?25hdone\n",
            "  Created wheel for afinn: filename=afinn-0.1-py3-none-any.whl size=53430 sha256=89c3f4d0f13c332f09425b59eeb31bc51872ef2058ad6886e443c00114e7c1c8\n",
            "  Stored in directory: /root/.cache/pip/wheels/b0/05/90/43f79196199a138fb486902fceca30a2d1b5228e6d2db8eb90\n",
            "Successfully built afinn\n",
            "Installing collected packages: afinn\n",
            "Successfully installed afinn-0.1\n"
          ]
        }
      ],
      "source": [
        "!pip install afinn\n",
        "from afinn import Afinn\n",
        "\n",
        "afn = Afinn(emoticons=True)"
      ]
    },
    {
      "cell_type": "code",
      "execution_count": null,
      "metadata": {
        "colab": {
          "base_uri": "https://localhost:8080/",
          "height": 362
        },
        "id": "uzcWGb8wZc2N",
        "outputId": "7a443a65-d77c-42ba-d62d-34aa33ee3b42"
      },
      "outputs": [
        {
          "output_type": "execute_result",
          "data": {
            "text/plain": [
              "               term  value\n",
              "1852         regret     -2\n",
              "1285    indifferent     -2\n",
              "681     disappoints     -2\n",
              "770          doubts     -1\n",
              "1644  outmaneuvered     -2\n",
              "55            admit     -1\n",
              "1133           haha      3\n",
              "1160          haunt     -1\n",
              "2435        wishing      1\n",
              "21           abused     -3"
            ],
            "text/html": [
              "\n",
              "  <div id=\"df-314c5537-818a-4d54-b2b7-e2e1d125fbc3\" class=\"colab-df-container\">\n",
              "    <div>\n",
              "<style scoped>\n",
              "    .dataframe tbody tr th:only-of-type {\n",
              "        vertical-align: middle;\n",
              "    }\n",
              "\n",
              "    .dataframe tbody tr th {\n",
              "        vertical-align: top;\n",
              "    }\n",
              "\n",
              "    .dataframe thead th {\n",
              "        text-align: right;\n",
              "    }\n",
              "</style>\n",
              "<table border=\"1\" class=\"dataframe\">\n",
              "  <thead>\n",
              "    <tr style=\"text-align: right;\">\n",
              "      <th></th>\n",
              "      <th>term</th>\n",
              "      <th>value</th>\n",
              "    </tr>\n",
              "  </thead>\n",
              "  <tbody>\n",
              "    <tr>\n",
              "      <th>1852</th>\n",
              "      <td>regret</td>\n",
              "      <td>-2</td>\n",
              "    </tr>\n",
              "    <tr>\n",
              "      <th>1285</th>\n",
              "      <td>indifferent</td>\n",
              "      <td>-2</td>\n",
              "    </tr>\n",
              "    <tr>\n",
              "      <th>681</th>\n",
              "      <td>disappoints</td>\n",
              "      <td>-2</td>\n",
              "    </tr>\n",
              "    <tr>\n",
              "      <th>770</th>\n",
              "      <td>doubts</td>\n",
              "      <td>-1</td>\n",
              "    </tr>\n",
              "    <tr>\n",
              "      <th>1644</th>\n",
              "      <td>outmaneuvered</td>\n",
              "      <td>-2</td>\n",
              "    </tr>\n",
              "    <tr>\n",
              "      <th>55</th>\n",
              "      <td>admit</td>\n",
              "      <td>-1</td>\n",
              "    </tr>\n",
              "    <tr>\n",
              "      <th>1133</th>\n",
              "      <td>haha</td>\n",
              "      <td>3</td>\n",
              "    </tr>\n",
              "    <tr>\n",
              "      <th>1160</th>\n",
              "      <td>haunt</td>\n",
              "      <td>-1</td>\n",
              "    </tr>\n",
              "    <tr>\n",
              "      <th>2435</th>\n",
              "      <td>wishing</td>\n",
              "      <td>1</td>\n",
              "    </tr>\n",
              "    <tr>\n",
              "      <th>21</th>\n",
              "      <td>abused</td>\n",
              "      <td>-3</td>\n",
              "    </tr>\n",
              "  </tbody>\n",
              "</table>\n",
              "</div>\n",
              "    <div class=\"colab-df-buttons\">\n",
              "\n",
              "  <div class=\"colab-df-container\">\n",
              "    <button class=\"colab-df-convert\" onclick=\"convertToInteractive('df-314c5537-818a-4d54-b2b7-e2e1d125fbc3')\"\n",
              "            title=\"Convert this dataframe to an interactive table.\"\n",
              "            style=\"display:none;\">\n",
              "\n",
              "  <svg xmlns=\"http://www.w3.org/2000/svg\" height=\"24px\" viewBox=\"0 -960 960 960\">\n",
              "    <path d=\"M120-120v-720h720v720H120Zm60-500h600v-160H180v160Zm220 220h160v-160H400v160Zm0 220h160v-160H400v160ZM180-400h160v-160H180v160Zm440 0h160v-160H620v160ZM180-180h160v-160H180v160Zm440 0h160v-160H620v160Z\"/>\n",
              "  </svg>\n",
              "    </button>\n",
              "\n",
              "  <style>\n",
              "    .colab-df-container {\n",
              "      display:flex;\n",
              "      gap: 12px;\n",
              "    }\n",
              "\n",
              "    .colab-df-convert {\n",
              "      background-color: #E8F0FE;\n",
              "      border: none;\n",
              "      border-radius: 50%;\n",
              "      cursor: pointer;\n",
              "      display: none;\n",
              "      fill: #1967D2;\n",
              "      height: 32px;\n",
              "      padding: 0 0 0 0;\n",
              "      width: 32px;\n",
              "    }\n",
              "\n",
              "    .colab-df-convert:hover {\n",
              "      background-color: #E2EBFA;\n",
              "      box-shadow: 0px 1px 2px rgba(60, 64, 67, 0.3), 0px 1px 3px 1px rgba(60, 64, 67, 0.15);\n",
              "      fill: #174EA6;\n",
              "    }\n",
              "\n",
              "    .colab-df-buttons div {\n",
              "      margin-bottom: 4px;\n",
              "    }\n",
              "\n",
              "    [theme=dark] .colab-df-convert {\n",
              "      background-color: #3B4455;\n",
              "      fill: #D2E3FC;\n",
              "    }\n",
              "\n",
              "    [theme=dark] .colab-df-convert:hover {\n",
              "      background-color: #434B5C;\n",
              "      box-shadow: 0px 1px 3px 1px rgba(0, 0, 0, 0.15);\n",
              "      filter: drop-shadow(0px 1px 2px rgba(0, 0, 0, 0.3));\n",
              "      fill: #FFFFFF;\n",
              "    }\n",
              "  </style>\n",
              "\n",
              "    <script>\n",
              "      const buttonEl =\n",
              "        document.querySelector('#df-314c5537-818a-4d54-b2b7-e2e1d125fbc3 button.colab-df-convert');\n",
              "      buttonEl.style.display =\n",
              "        google.colab.kernel.accessAllowed ? 'block' : 'none';\n",
              "\n",
              "      async function convertToInteractive(key) {\n",
              "        const element = document.querySelector('#df-314c5537-818a-4d54-b2b7-e2e1d125fbc3');\n",
              "        const dataTable =\n",
              "          await google.colab.kernel.invokeFunction('convertToInteractive',\n",
              "                                                    [key], {});\n",
              "        if (!dataTable) return;\n",
              "\n",
              "        const docLinkHtml = 'Like what you see? Visit the ' +\n",
              "          '<a target=\"_blank\" href=https://colab.research.google.com/notebooks/data_table.ipynb>data table notebook</a>'\n",
              "          + ' to learn more about interactive tables.';\n",
              "        element.innerHTML = '';\n",
              "        dataTable['output_type'] = 'display_data';\n",
              "        await google.colab.output.renderOutput(dataTable, element);\n",
              "        const docLink = document.createElement('div');\n",
              "        docLink.innerHTML = docLinkHtml;\n",
              "        element.appendChild(docLink);\n",
              "      }\n",
              "    </script>\n",
              "  </div>\n",
              "\n",
              "\n",
              "<div id=\"df-32a33edd-0871-48be-bdf2-a2c10bb1ca23\">\n",
              "  <button class=\"colab-df-quickchart\" onclick=\"quickchart('df-32a33edd-0871-48be-bdf2-a2c10bb1ca23')\"\n",
              "            title=\"Suggest charts\"\n",
              "            style=\"display:none;\">\n",
              "\n",
              "<svg xmlns=\"http://www.w3.org/2000/svg\" height=\"24px\"viewBox=\"0 0 24 24\"\n",
              "     width=\"24px\">\n",
              "    <g>\n",
              "        <path d=\"M19 3H5c-1.1 0-2 .9-2 2v14c0 1.1.9 2 2 2h14c1.1 0 2-.9 2-2V5c0-1.1-.9-2-2-2zM9 17H7v-7h2v7zm4 0h-2V7h2v10zm4 0h-2v-4h2v4z\"/>\n",
              "    </g>\n",
              "</svg>\n",
              "  </button>\n",
              "\n",
              "<style>\n",
              "  .colab-df-quickchart {\n",
              "      --bg-color: #E8F0FE;\n",
              "      --fill-color: #1967D2;\n",
              "      --hover-bg-color: #E2EBFA;\n",
              "      --hover-fill-color: #174EA6;\n",
              "      --disabled-fill-color: #AAA;\n",
              "      --disabled-bg-color: #DDD;\n",
              "  }\n",
              "\n",
              "  [theme=dark] .colab-df-quickchart {\n",
              "      --bg-color: #3B4455;\n",
              "      --fill-color: #D2E3FC;\n",
              "      --hover-bg-color: #434B5C;\n",
              "      --hover-fill-color: #FFFFFF;\n",
              "      --disabled-bg-color: #3B4455;\n",
              "      --disabled-fill-color: #666;\n",
              "  }\n",
              "\n",
              "  .colab-df-quickchart {\n",
              "    background-color: var(--bg-color);\n",
              "    border: none;\n",
              "    border-radius: 50%;\n",
              "    cursor: pointer;\n",
              "    display: none;\n",
              "    fill: var(--fill-color);\n",
              "    height: 32px;\n",
              "    padding: 0;\n",
              "    width: 32px;\n",
              "  }\n",
              "\n",
              "  .colab-df-quickchart:hover {\n",
              "    background-color: var(--hover-bg-color);\n",
              "    box-shadow: 0 1px 2px rgba(60, 64, 67, 0.3), 0 1px 3px 1px rgba(60, 64, 67, 0.15);\n",
              "    fill: var(--button-hover-fill-color);\n",
              "  }\n",
              "\n",
              "  .colab-df-quickchart-complete:disabled,\n",
              "  .colab-df-quickchart-complete:disabled:hover {\n",
              "    background-color: var(--disabled-bg-color);\n",
              "    fill: var(--disabled-fill-color);\n",
              "    box-shadow: none;\n",
              "  }\n",
              "\n",
              "  .colab-df-spinner {\n",
              "    border: 2px solid var(--fill-color);\n",
              "    border-color: transparent;\n",
              "    border-bottom-color: var(--fill-color);\n",
              "    animation:\n",
              "      spin 1s steps(1) infinite;\n",
              "  }\n",
              "\n",
              "  @keyframes spin {\n",
              "    0% {\n",
              "      border-color: transparent;\n",
              "      border-bottom-color: var(--fill-color);\n",
              "      border-left-color: var(--fill-color);\n",
              "    }\n",
              "    20% {\n",
              "      border-color: transparent;\n",
              "      border-left-color: var(--fill-color);\n",
              "      border-top-color: var(--fill-color);\n",
              "    }\n",
              "    30% {\n",
              "      border-color: transparent;\n",
              "      border-left-color: var(--fill-color);\n",
              "      border-top-color: var(--fill-color);\n",
              "      border-right-color: var(--fill-color);\n",
              "    }\n",
              "    40% {\n",
              "      border-color: transparent;\n",
              "      border-right-color: var(--fill-color);\n",
              "      border-top-color: var(--fill-color);\n",
              "    }\n",
              "    60% {\n",
              "      border-color: transparent;\n",
              "      border-right-color: var(--fill-color);\n",
              "    }\n",
              "    80% {\n",
              "      border-color: transparent;\n",
              "      border-right-color: var(--fill-color);\n",
              "      border-bottom-color: var(--fill-color);\n",
              "    }\n",
              "    90% {\n",
              "      border-color: transparent;\n",
              "      border-bottom-color: var(--fill-color);\n",
              "    }\n",
              "  }\n",
              "</style>\n",
              "\n",
              "  <script>\n",
              "    async function quickchart(key) {\n",
              "      const quickchartButtonEl =\n",
              "        document.querySelector('#' + key + ' button');\n",
              "      quickchartButtonEl.disabled = true;  // To prevent multiple clicks.\n",
              "      quickchartButtonEl.classList.add('colab-df-spinner');\n",
              "      try {\n",
              "        const charts = await google.colab.kernel.invokeFunction(\n",
              "            'suggestCharts', [key], {});\n",
              "      } catch (error) {\n",
              "        console.error('Error during call to suggestCharts:', error);\n",
              "      }\n",
              "      quickchartButtonEl.classList.remove('colab-df-spinner');\n",
              "      quickchartButtonEl.classList.add('colab-df-quickchart-complete');\n",
              "    }\n",
              "    (() => {\n",
              "      let quickchartButtonEl =\n",
              "        document.querySelector('#df-32a33edd-0871-48be-bdf2-a2c10bb1ca23 button');\n",
              "      quickchartButtonEl.style.display =\n",
              "        google.colab.kernel.accessAllowed ? 'block' : 'none';\n",
              "    })();\n",
              "  </script>\n",
              "</div>\n",
              "\n",
              "    </div>\n",
              "  </div>\n"
            ],
            "application/vnd.google.colaboratory.intrinsic+json": {
              "type": "dataframe",
              "summary": "{\n  \"name\": \"afinn_wl_df\",\n  \"rows\": 10,\n  \"fields\": [\n    {\n      \"column\": \"term\",\n      \"properties\": {\n        \"dtype\": \"string\",\n        \"num_unique_values\": 10,\n        \"samples\": [\n          \"wishing\",\n          \"indifferent\",\n          \"admit\"\n        ],\n        \"semantic_type\": \"\",\n        \"description\": \"\"\n      }\n    },\n    {\n      \"column\": \"value\",\n      \"properties\": {\n        \"dtype\": \"number\",\n        \"std\": 1,\n        \"min\": -3,\n        \"max\": 3,\n        \"num_unique_values\": 5,\n        \"samples\": [\n          -1,\n          -3,\n          3\n        ],\n        \"semantic_type\": \"\",\n        \"description\": \"\"\n      }\n    }\n  ]\n}"
            }
          },
          "metadata": {},
          "execution_count": 45
        }
      ],
      "source": [
        "afinn_wl_url = ('https://raw.githubusercontent.com'\n",
        "                '/fnielsen/afinn/master/afinn/data/AFINN-111.txt')\n",
        "\n",
        "afinn_wl_df = pd.read_csv(afinn_wl_url,\n",
        "                          header=None, # no column names\n",
        "                          sep='\\t',  # tab sepeated\n",
        "                          names=['term', 'value']) #new column names\n",
        "\n",
        "seed = 808 # seed for sample so results are stable\n",
        "afinn_wl_df.sample(10, random_state = seed)"
      ]
    },
    {
      "cell_type": "code",
      "execution_count": null,
      "metadata": {
        "colab": {
          "base_uri": "https://localhost:8080/"
        },
        "id": "fAmUqZqtZfpy",
        "outputId": "3111e899-13f6-4539-8ed4-7a7641acf2b8"
      },
      "outputs": [
        {
          "output_type": "stream",
          "name": "stdout",
          "text": [
            "COMMENT: mocashop wow normal ferrel fan make sad wait dvd not wast thx head\n",
            "Actual Sentiment: negative\n",
            "Predicted Sentiment polarity: 5.0\n",
            "------------------------------------------------------------\n",
            "COMMENT: would someon care explain konran wallenrod wikipedia suck\n",
            "Actual Sentiment: negative\n",
            "Predicted Sentiment polarity: -1.0\n",
            "------------------------------------------------------------\n",
            "COMMENT: bed tag do night tomorrow work entir websit hope look well not like\n",
            "Actual Sentiment: negative\n",
            "Predicted Sentiment polarity: 4.0\n",
            "------------------------------------------------------------\n",
            "COMMENT: dy say everi sunset thr sunris delhi day extrem heat temp reach thr rain\n",
            "Actual Sentiment: positive\n",
            "Predicted Sentiment polarity: 1.0\n",
            "------------------------------------------------------------\n",
            "COMMENT: get do die hairrrr home chillin wit si\n",
            "Actual Sentiment: positive\n",
            "Predicted Sentiment polarity: -3.0\n",
            "------------------------------------------------------------\n",
            "COMMENT: lose billa soon icon go to photoshop minto daviestramp onto\n",
            "Actual Sentiment: negative\n",
            "Predicted Sentiment polarity: 0.0\n",
            "------------------------------------------------------------\n",
            "COMMENT: kburi I m total broke can not much socialis payday otherwis would defo come along drink soon x\n",
            "Actual Sentiment: positive\n",
            "Predicted Sentiment polarity: -1.0\n",
            "------------------------------------------------------------\n",
            "COMMENT: morn world take parent meal today ahem forget rubi anniversari last week blame lisa\n",
            "Actual Sentiment: positive\n",
            "Predicted Sentiment polarity: -3.0\n",
            "------------------------------------------------------------\n"
          ]
        }
      ],
      "source": [
        "for i in sample_comment_ids:\n",
        "    comment = test_comments[i]\n",
        "    sentiment = test_sentiments[i]\n",
        "    print('COMMENT:', comment)\n",
        "    print('Actual Sentiment:', sentiment)\n",
        "    print('Predicted Sentiment polarity:', afn.score(comment))\n",
        "    print('-'*60)"
      ]
    },
    {
      "cell_type": "markdown",
      "metadata": {
        "id": "tx-3qL5oLtaG"
      },
      "source": [
        "declared the sentiments as positive and negative &\n",
        "Predicted the sentiment for test dataset"
      ]
    },
    {
      "cell_type": "code",
      "execution_count": null,
      "metadata": {
        "id": "DFJI45NgZiHn"
      },
      "outputs": [],
      "source": [
        "sentiment_polarity = [afn.score(comment) for comment in test_comments]\n",
        "predicted_sentiments = ['positive' if score >= 1.0 else 'negative' for score in sentiment_polarity]"
      ]
    },
    {
      "cell_type": "markdown",
      "metadata": {
        "id": "TX0ciQibLydj"
      },
      "source": [
        "Sample review IDs report"
      ]
    },
    {
      "cell_type": "code",
      "execution_count": null,
      "metadata": {
        "id": "9bm7KFkTZkHT"
      },
      "outputs": [],
      "source": [
        "afn_sentiment_polarity = sentiment_polarity[2],sentiment_polarity[555],sentiment_polarity[17626], sentiment_polarity[153533], sentiment_polarity[120043], sentiment_polarity[79859], sentiment_polarity[119010], sentiment_polarity[159997]\n",
        "afn_predicted_sentiments = predicted_sentiments[2],predicted_sentiments[555],predicted_sentiments[17626], predicted_sentiments[153533], predicted_sentiments[120043], predicted_sentiments[79859], predicted_sentiments[119010], predicted_sentiments[159997]"
      ]
    },
    {
      "cell_type": "code",
      "execution_count": null,
      "metadata": {
        "id": "a7VIgVG2ZnnF"
      },
      "outputs": [],
      "source": [
        "afn_sample_report = {'Text':Text,'Real_sentiments':Real_sentiments,'afn_sentiment_polarity':afn_sentiment_polarity,\n",
        "                          'afn_predicted_sentiments':afn_predicted_sentiments}\n",
        "afn_sample_report = pd.DataFrame(data=afn_sample_report)"
      ]
    },
    {
      "cell_type": "code",
      "execution_count": null,
      "metadata": {
        "colab": {
          "base_uri": "https://localhost:8080/",
          "height": 335
        },
        "id": "26FDg9J1Zpjo",
        "outputId": "bbfc7848-aed0-425c-b3b7-0047ba0e5171"
      },
      "outputs": [
        {
          "output_type": "execute_result",
          "data": {
            "text/plain": [
              "<pandas.io.formats.style.Styler at 0x79c7cbeb4be0>"
            ],
            "text/html": [
              "<style type=\"text/css\">\n",
              "#T_3f3c3_row0_col1, #T_3f3c3_row1_col1, #T_3f3c3_row1_col3, #T_3f3c3_row2_col1, #T_3f3c3_row4_col3, #T_3f3c3_row5_col1, #T_3f3c3_row5_col3, #T_3f3c3_row6_col3, #T_3f3c3_row7_col3 {\n",
              "  color: red;\n",
              "}\n",
              "#T_3f3c3_row0_col3, #T_3f3c3_row2_col3, #T_3f3c3_row3_col1, #T_3f3c3_row3_col3, #T_3f3c3_row4_col1, #T_3f3c3_row6_col1, #T_3f3c3_row7_col1 {\n",
              "  color: green;\n",
              "}\n",
              "</style>\n",
              "<table id=\"T_3f3c3\" class=\"dataframe\">\n",
              "  <thead>\n",
              "    <tr>\n",
              "      <th class=\"blank level0\" >&nbsp;</th>\n",
              "      <th id=\"T_3f3c3_level0_col0\" class=\"col_heading level0 col0\" >Text</th>\n",
              "      <th id=\"T_3f3c3_level0_col1\" class=\"col_heading level0 col1\" >Real_sentiments</th>\n",
              "      <th id=\"T_3f3c3_level0_col2\" class=\"col_heading level0 col2\" >afn_sentiment_polarity</th>\n",
              "      <th id=\"T_3f3c3_level0_col3\" class=\"col_heading level0 col3\" >afn_predicted_sentiments</th>\n",
              "    </tr>\n",
              "  </thead>\n",
              "  <tbody>\n",
              "    <tr>\n",
              "      <th id=\"T_3f3c3_level0_row0\" class=\"row_heading level0 row0\" >0</th>\n",
              "      <td id=\"T_3f3c3_row0_col0\" class=\"data row0 col0\" >mocashop wow normal ferrel fan make sad wait dvd not wast thx head</td>\n",
              "      <td id=\"T_3f3c3_row0_col1\" class=\"data row0 col1\" >negative</td>\n",
              "      <td id=\"T_3f3c3_row0_col2\" class=\"data row0 col2\" >5.000000</td>\n",
              "      <td id=\"T_3f3c3_row0_col3\" class=\"data row0 col3\" >positive</td>\n",
              "    </tr>\n",
              "    <tr>\n",
              "      <th id=\"T_3f3c3_level0_row1\" class=\"row_heading level0 row1\" >1</th>\n",
              "      <td id=\"T_3f3c3_row1_col0\" class=\"data row1 col0\" >would someon care explain konran wallenrod wikipedia suck</td>\n",
              "      <td id=\"T_3f3c3_row1_col1\" class=\"data row1 col1\" >negative</td>\n",
              "      <td id=\"T_3f3c3_row1_col2\" class=\"data row1 col2\" >-1.000000</td>\n",
              "      <td id=\"T_3f3c3_row1_col3\" class=\"data row1 col3\" >negative</td>\n",
              "    </tr>\n",
              "    <tr>\n",
              "      <th id=\"T_3f3c3_level0_row2\" class=\"row_heading level0 row2\" >2</th>\n",
              "      <td id=\"T_3f3c3_row2_col0\" class=\"data row2 col0\" >bed tag do night tomorrow work entir websit hope look well not like</td>\n",
              "      <td id=\"T_3f3c3_row2_col1\" class=\"data row2 col1\" >negative</td>\n",
              "      <td id=\"T_3f3c3_row2_col2\" class=\"data row2 col2\" >4.000000</td>\n",
              "      <td id=\"T_3f3c3_row2_col3\" class=\"data row2 col3\" >positive</td>\n",
              "    </tr>\n",
              "    <tr>\n",
              "      <th id=\"T_3f3c3_level0_row3\" class=\"row_heading level0 row3\" >3</th>\n",
              "      <td id=\"T_3f3c3_row3_col0\" class=\"data row3 col0\" >dy say everi sunset thr sunris delhi day extrem heat temp reach thr rain</td>\n",
              "      <td id=\"T_3f3c3_row3_col1\" class=\"data row3 col1\" >positive</td>\n",
              "      <td id=\"T_3f3c3_row3_col2\" class=\"data row3 col2\" >1.000000</td>\n",
              "      <td id=\"T_3f3c3_row3_col3\" class=\"data row3 col3\" >positive</td>\n",
              "    </tr>\n",
              "    <tr>\n",
              "      <th id=\"T_3f3c3_level0_row4\" class=\"row_heading level0 row4\" >4</th>\n",
              "      <td id=\"T_3f3c3_row4_col0\" class=\"data row4 col0\" >get do die hairrrr home chillin wit si</td>\n",
              "      <td id=\"T_3f3c3_row4_col1\" class=\"data row4 col1\" >positive</td>\n",
              "      <td id=\"T_3f3c3_row4_col2\" class=\"data row4 col2\" >-3.000000</td>\n",
              "      <td id=\"T_3f3c3_row4_col3\" class=\"data row4 col3\" >negative</td>\n",
              "    </tr>\n",
              "    <tr>\n",
              "      <th id=\"T_3f3c3_level0_row5\" class=\"row_heading level0 row5\" >5</th>\n",
              "      <td id=\"T_3f3c3_row5_col0\" class=\"data row5 col0\" >lose billa soon icon go to photoshop minto daviestramp onto</td>\n",
              "      <td id=\"T_3f3c3_row5_col1\" class=\"data row5 col1\" >negative</td>\n",
              "      <td id=\"T_3f3c3_row5_col2\" class=\"data row5 col2\" >0.000000</td>\n",
              "      <td id=\"T_3f3c3_row5_col3\" class=\"data row5 col3\" >negative</td>\n",
              "    </tr>\n",
              "    <tr>\n",
              "      <th id=\"T_3f3c3_level0_row6\" class=\"row_heading level0 row6\" >6</th>\n",
              "      <td id=\"T_3f3c3_row6_col0\" class=\"data row6 col0\" >kburi I m total broke can not much socialis payday otherwis would defo come along drink soon x</td>\n",
              "      <td id=\"T_3f3c3_row6_col1\" class=\"data row6 col1\" >positive</td>\n",
              "      <td id=\"T_3f3c3_row6_col2\" class=\"data row6 col2\" >-1.000000</td>\n",
              "      <td id=\"T_3f3c3_row6_col3\" class=\"data row6 col3\" >negative</td>\n",
              "    </tr>\n",
              "    <tr>\n",
              "      <th id=\"T_3f3c3_level0_row7\" class=\"row_heading level0 row7\" >7</th>\n",
              "      <td id=\"T_3f3c3_row7_col0\" class=\"data row7 col0\" >morn world take parent meal today ahem forget rubi anniversari last week blame lisa</td>\n",
              "      <td id=\"T_3f3c3_row7_col1\" class=\"data row7 col1\" >positive</td>\n",
              "      <td id=\"T_3f3c3_row7_col2\" class=\"data row7 col2\" >-3.000000</td>\n",
              "      <td id=\"T_3f3c3_row7_col3\" class=\"data row7 col3\" >negative</td>\n",
              "    </tr>\n",
              "  </tbody>\n",
              "</table>\n"
            ]
          },
          "metadata": {},
          "execution_count": 50
        }
      ],
      "source": [
        "afn_sample_report.style.applymap(color_negative_red, subset=['Real_sentiments','afn_predicted_sentiments'])"
      ]
    },
    {
      "cell_type": "markdown",
      "metadata": {
        "id": "jQSWLep8MGNp"
      },
      "source": [
        "classification report and confusion matrix"
      ]
    },
    {
      "cell_type": "code",
      "execution_count": null,
      "metadata": {
        "colab": {
          "base_uri": "https://localhost:8080/",
          "height": 275
        },
        "id": "Ch-mZfg9ZrmD",
        "outputId": "dd67d353-7b21-47fc-f0a0-94f60837c4ef"
      },
      "outputs": [
        {
          "output_type": "stream",
          "name": "stdout",
          "text": [
            "              precision    recall  f1-score   support\n",
            "\n",
            "    negative       0.59      0.72      0.65     80000\n",
            "    positive       0.64      0.50      0.56     80000\n",
            "\n",
            "    accuracy                           0.61    160000\n",
            "   macro avg       0.62      0.61      0.61    160000\n",
            "weighted avg       0.62      0.61      0.61    160000\n",
            "\n"
          ]
        },
        {
          "output_type": "execute_result",
          "data": {
            "text/plain": [
              "          negative  positive\n",
              "negative     57980     22020\n",
              "positive     40158     39842"
            ],
            "text/html": [
              "\n",
              "  <div id=\"df-7c234212-6619-4c31-b846-37c1cee68b5b\" class=\"colab-df-container\">\n",
              "    <div>\n",
              "<style scoped>\n",
              "    .dataframe tbody tr th:only-of-type {\n",
              "        vertical-align: middle;\n",
              "    }\n",
              "\n",
              "    .dataframe tbody tr th {\n",
              "        vertical-align: top;\n",
              "    }\n",
              "\n",
              "    .dataframe thead th {\n",
              "        text-align: right;\n",
              "    }\n",
              "</style>\n",
              "<table border=\"1\" class=\"dataframe\">\n",
              "  <thead>\n",
              "    <tr style=\"text-align: right;\">\n",
              "      <th></th>\n",
              "      <th>negative</th>\n",
              "      <th>positive</th>\n",
              "    </tr>\n",
              "  </thead>\n",
              "  <tbody>\n",
              "    <tr>\n",
              "      <th>negative</th>\n",
              "      <td>57980</td>\n",
              "      <td>22020</td>\n",
              "    </tr>\n",
              "    <tr>\n",
              "      <th>positive</th>\n",
              "      <td>40158</td>\n",
              "      <td>39842</td>\n",
              "    </tr>\n",
              "  </tbody>\n",
              "</table>\n",
              "</div>\n",
              "    <div class=\"colab-df-buttons\">\n",
              "\n",
              "  <div class=\"colab-df-container\">\n",
              "    <button class=\"colab-df-convert\" onclick=\"convertToInteractive('df-7c234212-6619-4c31-b846-37c1cee68b5b')\"\n",
              "            title=\"Convert this dataframe to an interactive table.\"\n",
              "            style=\"display:none;\">\n",
              "\n",
              "  <svg xmlns=\"http://www.w3.org/2000/svg\" height=\"24px\" viewBox=\"0 -960 960 960\">\n",
              "    <path d=\"M120-120v-720h720v720H120Zm60-500h600v-160H180v160Zm220 220h160v-160H400v160Zm0 220h160v-160H400v160ZM180-400h160v-160H180v160Zm440 0h160v-160H620v160ZM180-180h160v-160H180v160Zm440 0h160v-160H620v160Z\"/>\n",
              "  </svg>\n",
              "    </button>\n",
              "\n",
              "  <style>\n",
              "    .colab-df-container {\n",
              "      display:flex;\n",
              "      gap: 12px;\n",
              "    }\n",
              "\n",
              "    .colab-df-convert {\n",
              "      background-color: #E8F0FE;\n",
              "      border: none;\n",
              "      border-radius: 50%;\n",
              "      cursor: pointer;\n",
              "      display: none;\n",
              "      fill: #1967D2;\n",
              "      height: 32px;\n",
              "      padding: 0 0 0 0;\n",
              "      width: 32px;\n",
              "    }\n",
              "\n",
              "    .colab-df-convert:hover {\n",
              "      background-color: #E2EBFA;\n",
              "      box-shadow: 0px 1px 2px rgba(60, 64, 67, 0.3), 0px 1px 3px 1px rgba(60, 64, 67, 0.15);\n",
              "      fill: #174EA6;\n",
              "    }\n",
              "\n",
              "    .colab-df-buttons div {\n",
              "      margin-bottom: 4px;\n",
              "    }\n",
              "\n",
              "    [theme=dark] .colab-df-convert {\n",
              "      background-color: #3B4455;\n",
              "      fill: #D2E3FC;\n",
              "    }\n",
              "\n",
              "    [theme=dark] .colab-df-convert:hover {\n",
              "      background-color: #434B5C;\n",
              "      box-shadow: 0px 1px 3px 1px rgba(0, 0, 0, 0.15);\n",
              "      filter: drop-shadow(0px 1px 2px rgba(0, 0, 0, 0.3));\n",
              "      fill: #FFFFFF;\n",
              "    }\n",
              "  </style>\n",
              "\n",
              "    <script>\n",
              "      const buttonEl =\n",
              "        document.querySelector('#df-7c234212-6619-4c31-b846-37c1cee68b5b button.colab-df-convert');\n",
              "      buttonEl.style.display =\n",
              "        google.colab.kernel.accessAllowed ? 'block' : 'none';\n",
              "\n",
              "      async function convertToInteractive(key) {\n",
              "        const element = document.querySelector('#df-7c234212-6619-4c31-b846-37c1cee68b5b');\n",
              "        const dataTable =\n",
              "          await google.colab.kernel.invokeFunction('convertToInteractive',\n",
              "                                                    [key], {});\n",
              "        if (!dataTable) return;\n",
              "\n",
              "        const docLinkHtml = 'Like what you see? Visit the ' +\n",
              "          '<a target=\"_blank\" href=https://colab.research.google.com/notebooks/data_table.ipynb>data table notebook</a>'\n",
              "          + ' to learn more about interactive tables.';\n",
              "        element.innerHTML = '';\n",
              "        dataTable['output_type'] = 'display_data';\n",
              "        await google.colab.output.renderOutput(dataTable, element);\n",
              "        const docLink = document.createElement('div');\n",
              "        docLink.innerHTML = docLinkHtml;\n",
              "        element.appendChild(docLink);\n",
              "      }\n",
              "    </script>\n",
              "  </div>\n",
              "\n",
              "\n",
              "<div id=\"df-93b1fdf9-7692-4f57-9fd1-8dcdc6e7491b\">\n",
              "  <button class=\"colab-df-quickchart\" onclick=\"quickchart('df-93b1fdf9-7692-4f57-9fd1-8dcdc6e7491b')\"\n",
              "            title=\"Suggest charts\"\n",
              "            style=\"display:none;\">\n",
              "\n",
              "<svg xmlns=\"http://www.w3.org/2000/svg\" height=\"24px\"viewBox=\"0 0 24 24\"\n",
              "     width=\"24px\">\n",
              "    <g>\n",
              "        <path d=\"M19 3H5c-1.1 0-2 .9-2 2v14c0 1.1.9 2 2 2h14c1.1 0 2-.9 2-2V5c0-1.1-.9-2-2-2zM9 17H7v-7h2v7zm4 0h-2V7h2v10zm4 0h-2v-4h2v4z\"/>\n",
              "    </g>\n",
              "</svg>\n",
              "  </button>\n",
              "\n",
              "<style>\n",
              "  .colab-df-quickchart {\n",
              "      --bg-color: #E8F0FE;\n",
              "      --fill-color: #1967D2;\n",
              "      --hover-bg-color: #E2EBFA;\n",
              "      --hover-fill-color: #174EA6;\n",
              "      --disabled-fill-color: #AAA;\n",
              "      --disabled-bg-color: #DDD;\n",
              "  }\n",
              "\n",
              "  [theme=dark] .colab-df-quickchart {\n",
              "      --bg-color: #3B4455;\n",
              "      --fill-color: #D2E3FC;\n",
              "      --hover-bg-color: #434B5C;\n",
              "      --hover-fill-color: #FFFFFF;\n",
              "      --disabled-bg-color: #3B4455;\n",
              "      --disabled-fill-color: #666;\n",
              "  }\n",
              "\n",
              "  .colab-df-quickchart {\n",
              "    background-color: var(--bg-color);\n",
              "    border: none;\n",
              "    border-radius: 50%;\n",
              "    cursor: pointer;\n",
              "    display: none;\n",
              "    fill: var(--fill-color);\n",
              "    height: 32px;\n",
              "    padding: 0;\n",
              "    width: 32px;\n",
              "  }\n",
              "\n",
              "  .colab-df-quickchart:hover {\n",
              "    background-color: var(--hover-bg-color);\n",
              "    box-shadow: 0 1px 2px rgba(60, 64, 67, 0.3), 0 1px 3px 1px rgba(60, 64, 67, 0.15);\n",
              "    fill: var(--button-hover-fill-color);\n",
              "  }\n",
              "\n",
              "  .colab-df-quickchart-complete:disabled,\n",
              "  .colab-df-quickchart-complete:disabled:hover {\n",
              "    background-color: var(--disabled-bg-color);\n",
              "    fill: var(--disabled-fill-color);\n",
              "    box-shadow: none;\n",
              "  }\n",
              "\n",
              "  .colab-df-spinner {\n",
              "    border: 2px solid var(--fill-color);\n",
              "    border-color: transparent;\n",
              "    border-bottom-color: var(--fill-color);\n",
              "    animation:\n",
              "      spin 1s steps(1) infinite;\n",
              "  }\n",
              "\n",
              "  @keyframes spin {\n",
              "    0% {\n",
              "      border-color: transparent;\n",
              "      border-bottom-color: var(--fill-color);\n",
              "      border-left-color: var(--fill-color);\n",
              "    }\n",
              "    20% {\n",
              "      border-color: transparent;\n",
              "      border-left-color: var(--fill-color);\n",
              "      border-top-color: var(--fill-color);\n",
              "    }\n",
              "    30% {\n",
              "      border-color: transparent;\n",
              "      border-left-color: var(--fill-color);\n",
              "      border-top-color: var(--fill-color);\n",
              "      border-right-color: var(--fill-color);\n",
              "    }\n",
              "    40% {\n",
              "      border-color: transparent;\n",
              "      border-right-color: var(--fill-color);\n",
              "      border-top-color: var(--fill-color);\n",
              "    }\n",
              "    60% {\n",
              "      border-color: transparent;\n",
              "      border-right-color: var(--fill-color);\n",
              "    }\n",
              "    80% {\n",
              "      border-color: transparent;\n",
              "      border-right-color: var(--fill-color);\n",
              "      border-bottom-color: var(--fill-color);\n",
              "    }\n",
              "    90% {\n",
              "      border-color: transparent;\n",
              "      border-bottom-color: var(--fill-color);\n",
              "    }\n",
              "  }\n",
              "</style>\n",
              "\n",
              "  <script>\n",
              "    async function quickchart(key) {\n",
              "      const quickchartButtonEl =\n",
              "        document.querySelector('#' + key + ' button');\n",
              "      quickchartButtonEl.disabled = true;  // To prevent multiple clicks.\n",
              "      quickchartButtonEl.classList.add('colab-df-spinner');\n",
              "      try {\n",
              "        const charts = await google.colab.kernel.invokeFunction(\n",
              "            'suggestCharts', [key], {});\n",
              "      } catch (error) {\n",
              "        console.error('Error during call to suggestCharts:', error);\n",
              "      }\n",
              "      quickchartButtonEl.classList.remove('colab-df-spinner');\n",
              "      quickchartButtonEl.classList.add('colab-df-quickchart-complete');\n",
              "    }\n",
              "    (() => {\n",
              "      let quickchartButtonEl =\n",
              "        document.querySelector('#df-93b1fdf9-7692-4f57-9fd1-8dcdc6e7491b button');\n",
              "      quickchartButtonEl.style.display =\n",
              "        google.colab.kernel.accessAllowed ? 'block' : 'none';\n",
              "    })();\n",
              "  </script>\n",
              "</div>\n",
              "\n",
              "    </div>\n",
              "  </div>\n"
            ],
            "application/vnd.google.colaboratory.intrinsic+json": {
              "type": "dataframe",
              "summary": "{\n  \"name\": \"pd\",\n  \"rows\": 2,\n  \"fields\": [\n    {\n      \"column\": \"negative\",\n      \"properties\": {\n        \"dtype\": \"number\",\n        \"std\": 12602,\n        \"min\": 40158,\n        \"max\": 57980,\n        \"num_unique_values\": 2,\n        \"samples\": [\n          40158,\n          57980\n        ],\n        \"semantic_type\": \"\",\n        \"description\": \"\"\n      }\n    },\n    {\n      \"column\": \"positive\",\n      \"properties\": {\n        \"dtype\": \"number\",\n        \"std\": 12602,\n        \"min\": 22020,\n        \"max\": 39842,\n        \"num_unique_values\": 2,\n        \"samples\": [\n          39842,\n          22020\n        ],\n        \"semantic_type\": \"\",\n        \"description\": \"\"\n      }\n    }\n  ]\n}"
            }
          },
          "metadata": {},
          "execution_count": 51
        }
      ],
      "source": [
        "labels = ['negative', 'positive']\n",
        "print(classification_report(test_sentiments, predicted_sentiments))\n",
        "pd.DataFrame(confusion_matrix(test_sentiments, predicted_sentiments), index=labels, columns=labels)"
      ]
    },
    {
      "cell_type": "code",
      "execution_count": null,
      "metadata": {
        "colab": {
          "base_uri": "https://localhost:8080/",
          "height": 315
        },
        "id": "F_5sJ8zFZtdS",
        "outputId": "001aeafc-7001-4e5f-d864-c648df1cf6f0"
      },
      "outputs": [
        {
          "output_type": "display_data",
          "data": {
            "text/plain": [
              "<Figure size 400x300 with 2 Axes>"
            ],
            "image/png": "[encoded data removed]"
          },
          "metadata": {}
        }
      ],
      "source": [
        "warnings.filterwarnings('ignore')\n",
        "\n",
        "plt.figure(figsize=(4,3))\n",
        "sns.heatmap(confusion_matrix(test_sentiments, predicted_sentiments),\n",
        "                annot=True,fmt = \"d\",linecolor=\"k\",linewidths=3)\n",
        "\n",
        "plt.title(\"Sentiment Analysis with AFINN\",fontsize=14)\n",
        "plt.show()"
      ]
    },
    {
      "cell_type": "markdown",
      "metadata": {
        "id": "Dyc3l0WCNEkv"
      },
      "source": [
        "Accuracy Score"
      ]
    },
    {
      "cell_type": "code",
      "execution_count": null,
      "metadata": {
        "colab": {
          "base_uri": "https://localhost:8080/"
        },
        "id": "2IgOlY-BZvme",
        "outputId": "4e61968d-1171-4feb-d4a7-3b7b7986d5f6"
      },
      "outputs": [
        {
          "output_type": "stream",
          "name": "stdout",
          "text": [
            "0.6113875\n"
          ]
        }
      ],
      "source": [
        "from sklearn.metrics import accuracy_score\n",
        "AFINN_model = accuracy_score(test_sentiments, predicted_sentiments)\n",
        "print(AFINN_model)"
      ]
    },
    {
      "cell_type": "markdown",
      "metadata": {
        "id": "gg7DDS49Zx5Q"
      },
      "source": [
        "# Sentiment Analysis with SentiWordNet"
      ]
    },
    {
      "cell_type": "markdown",
      "metadata": {
        "id": "_waiA4h3Z1qo"
      },
      "source": [
        "SentiWordNet is a lexical resource for opinion mining.SentiWordNet operates on the database provided by WordNet.The additional functionality that it provides is the measure of positivity, negativity or neutrality as is required for Sentiment Analysis.\n",
        "\n",
        "* Thus, every synset s is associated with a Pos(s): a positivity score Neg(s): a negativity score Obj(s): an objectivity (neutrality) score\n",
        "\n",
        "  Pos(s) + Neg(s) + Obj(s) = 1\n",
        "\n",
        "* The scores are very precise, pertaining to the word itself alongwith its context. All three scores range within the values [0,1]. The current version of SentiWordNet is 3.0, which is based on WordNet 3.0"
      ]
    },
    {
      "cell_type": "code",
      "execution_count": null,
      "metadata": {
        "colab": {
          "base_uri": "https://localhost:8080/"
        },
        "id": "ktRXw4qQZ_jd",
        "outputId": "0f25bd02-2b7c-473c-e40c-b05c79e1db97"
      },
      "outputs": [
        {
          "output_type": "stream",
          "name": "stdout",
          "text": [
            "Positive Polarity Score: 0.875\n",
            "Negative Polarity Score: 0.125\n",
            "Objective Score: 0.0\n"
          ]
        }
      ],
      "source": [
        "from nltk.corpus import sentiwordnet as swn\n",
        "\n",
        "awesome = list(swn.senti_synsets('awesome', 'a'))[0]\n",
        "print('Positive Polarity Score:', awesome.pos_score())\n",
        "print('Negative Polarity Score:', awesome.neg_score())\n",
        "print('Objective Score:', awesome.obj_score())"
      ]
    },
    {
      "cell_type": "markdown",
      "metadata": {
        "id": "faC1mpGmPfbi"
      },
      "source": [
        "An Example"
      ]
    },
    {
      "cell_type": "code",
      "execution_count": null,
      "metadata": {
        "colab": {
          "base_uri": "https://localhost:8080/"
        },
        "id": "2AaEMQPTaC0r",
        "outputId": "bcf8dfac-55c6-4978-93a7-90ca1e452180"
      },
      "outputs": [
        {
          "output_type": "execute_result",
          "data": {
            "text/plain": [
              "[SentiSynset('decelerate.v.01'),\n",
              " SentiSynset('slow.v.02'),\n",
              " SentiSynset('slow.v.03'),\n",
              " SentiSynset('slow.a.01'),\n",
              " SentiSynset('slow.a.02'),\n",
              " SentiSynset('dense.s.04'),\n",
              " SentiSynset('slow.a.04'),\n",
              " SentiSynset('boring.s.01'),\n",
              " SentiSynset('dull.s.08'),\n",
              " SentiSynset('slowly.r.01'),\n",
              " SentiSynset('behind.r.03')]"
            ]
          },
          "metadata": {},
          "execution_count": 55
        }
      ],
      "source": [
        "list(swn.senti_synsets('slow'))"
      ]
    },
    {
      "cell_type": "code",
      "execution_count": null,
      "metadata": {
        "id": "i2NryOVJaG3S"
      },
      "outputs": [],
      "source": [
        "def analyze_sentiment_sentiwordnet_lexicon(comment,\n",
        "                                           verbose=False):\n",
        "\n",
        "    # tokenize and POS tag text tokens\n",
        "    tagged_text = [(token.text, token.tag_) for token in nlp(comment)]\n",
        "    pos_score = neg_score = token_count = obj_score = 0\n",
        "    # get wordnet synsets based on POS tags\n",
        "    # get sentiment scores if synsets are found\n",
        "    for word, tag in tagged_text:\n",
        "        ss_set = None\n",
        "        if 'NN' in tag and list(swn.senti_synsets(word, 'n')):\n",
        "            ss_set = list(swn.senti_synsets(word, 'n'))[0]\n",
        "        elif 'VB' in tag and list(swn.senti_synsets(word, 'v')):\n",
        "            ss_set = list(swn.senti_synsets(word, 'v'))[0]\n",
        "        elif 'JJ' in tag and list(swn.senti_synsets(word, 'a')):\n",
        "            ss_set = list(swn.senti_synsets(word, 'a'))[0]\n",
        "        elif 'RB' in tag and list(swn.senti_synsets(word, 'r')):\n",
        "            ss_set = list(swn.senti_synsets(word, 'r'))[0]\n",
        "        # if senti-synset is found\n",
        "        if ss_set:\n",
        "            # add scores for all found synsets\n",
        "            pos_score += ss_set.pos_score()\n",
        "            neg_score += ss_set.neg_score()\n",
        "            obj_score += ss_set.obj_score()\n",
        "            token_count += 1\n",
        "\n",
        "    # aggregate final scores\n",
        "    final_score = pos_score - neg_score\n",
        "    #norm_final_score = round(float(final_score) / token_count, 2)\n",
        "    if token_count != 0:\n",
        "        norm_final_score = round(float(final_score) / token_count, 2)\n",
        "    else:\n",
        "        norm_final_score = 0.0\n",
        "    final_sentiment = 'positive' if norm_final_score >= 0 else 'negative'\n",
        "    if verbose:\n",
        "        norm_obj_score = round(float(obj_score) / token_count, 2)\n",
        "        norm_pos_score = round(float(pos_score) / token_count, 2)\n",
        "        norm_neg_score = round(float(neg_score) / token_count, 2)\n",
        "        # to display results in a nice table\n",
        "        sentiment_frame = pd.DataFrame([[final_sentiment, norm_obj_score, norm_pos_score,\n",
        "                                         norm_neg_score, norm_final_score]],\n",
        "                                       columns=pd.MultiIndex(levels=[['SENTIMENT STATS:'],\n",
        "                                                             ['Predicted Sentiment', 'Objectivity',\n",
        "                                                              'Positive', 'Negative', 'Overall']],\n",
        "                                                             labels=[[0,0,0,0,0],[0,1,2,3,4]]))\n",
        "        print(sentiment_frame)\n",
        "\n",
        "    return final_sentiment"
      ]
    },
    {
      "cell_type": "code",
      "execution_count": null,
      "metadata": {
        "colab": {
          "base_uri": "https://localhost:8080/"
        },
        "id": "bqed6dNhbxC7",
        "outputId": "2e93378e-41a6-45da-98e7-ac098a83eb54"
      },
      "outputs": [
        {
          "output_type": "stream",
          "name": "stdout",
          "text": [
            "0    0\n",
            "dtype: int64\n"
          ]
        }
      ],
      "source": [
        "test_comments_d = pd.DataFrame(test_comments_df)\n",
        "null_values = test_comments_d.isnull().sum()\n",
        "print(null_values)"
      ]
    },
    {
      "cell_type": "code",
      "execution_count": null,
      "metadata": {
        "id": "F_h61DZjaJQT"
      },
      "outputs": [],
      "source": [
        "predicted_sentiments = [analyze_sentiment_sentiwordnet_lexicon(comment, verbose=False) for comment in test_comments_df]"
      ]
    },
    {
      "cell_type": "code",
      "execution_count": null,
      "metadata": {
        "id": "rjZA4Cdpgivq"
      },
      "outputs": [],
      "source": [
        "snet_predicted_sentiments = predicted_sentiments[2],predicted_sentiments[555],predicted_sentiments[17626], predicted_sentiments[153533], predicted_sentiments[120043], predicted_sentiments[79859], predicted_sentiments[119010], predicted_sentiments[159997]"
      ]
    },
    {
      "cell_type": "code",
      "execution_count": null,
      "metadata": {
        "id": "cU1W_mKmdYM8"
      },
      "outputs": [],
      "source": [
        "sentiwordnet_sample_report = {'Text':Text,'Real_sentiments':Real_sentiments,\n",
        "                          'snet_predicted_sentiments':snet_predicted_sentiments}\n",
        "sentiwordnet_sample_report = pd.DataFrame(data=sentiwordnet_sample_report)"
      ]
    },
    {
      "cell_type": "code",
      "execution_count": null,
      "metadata": {
        "id": "m7mMlHzhdaUE",
        "colab": {
          "base_uri": "https://localhost:8080/",
          "height": 300
        },
        "outputId": "e7cff393-2ab4-45d3-c740-ae6502f8da6e"
      },
      "outputs": [
        {
          "output_type": "execute_result",
          "data": {
            "text/plain": [
              "                                                Text Real_sentiments  \\\n",
              "0  mocashop wow normal ferrel fan make sad wait d...        negative   \n",
              "1  would someon care explain konran wallenrod wik...        negative   \n",
              "2  bed tag do night tomorrow work entir websit ho...        negative   \n",
              "3  dy say everi sunset thr sunris delhi day extre...        positive   \n",
              "4             get do die hairrrr home chillin wit si        positive   \n",
              "5  lose billa soon icon go to photoshop minto dav...        negative   \n",
              "6  kburi I m total broke can not much socialis pa...        positive   \n",
              "7  morn world take parent meal today ahem forget ...        positive   \n",
              "\n",
              "  snet_predicted_sentiments  \n",
              "0                  negative  \n",
              "1                  positive  \n",
              "2                  negative  \n",
              "3                  positive  \n",
              "4                  positive  \n",
              "5                  negative  \n",
              "6                  negative  \n",
              "7                  negative  "
            ],
            "text/html": [
              "\n",
              "  <div id=\"df-8df4b220-9acd-4c55-a845-90dd71d4f908\" class=\"colab-df-container\">\n",
              "    <div>\n",
              "<style scoped>\n",
              "    .dataframe tbody tr th:only-of-type {\n",
              "        vertical-align: middle;\n",
              "    }\n",
              "\n",
              "    .dataframe tbody tr th {\n",
              "        vertical-align: top;\n",
              "    }\n",
              "\n",
              "    .dataframe thead th {\n",
              "        text-align: right;\n",
              "    }\n",
              "</style>\n",
              "<table border=\"1\" class=\"dataframe\">\n",
              "  <thead>\n",
              "    <tr style=\"text-align: right;\">\n",
              "      <th></th>\n",
              "      <th>Text</th>\n",
              "      <th>Real_sentiments</th>\n",
              "      <th>snet_predicted_sentiments</th>\n",
              "    </tr>\n",
              "  </thead>\n",
              "  <tbody>\n",
              "    <tr>\n",
              "      <th>0</th>\n",
              "      <td>mocashop wow normal ferrel fan make sad wait d...</td>\n",
              "      <td>negative</td>\n",
              "      <td>negative</td>\n",
              "    </tr>\n",
              "    <tr>\n",
              "      <th>1</th>\n",
              "      <td>would someon care explain konran wallenrod wik...</td>\n",
              "      <td>negative</td>\n",
              "      <td>positive</td>\n",
              "    </tr>\n",
              "    <tr>\n",
              "      <th>2</th>\n",
              "      <td>bed tag do night tomorrow work entir websit ho...</td>\n",
              "      <td>negative</td>\n",
              "      <td>negative</td>\n",
              "    </tr>\n",
              "    <tr>\n",
              "      <th>3</th>\n",
              "      <td>dy say everi sunset thr sunris delhi day extre...</td>\n",
              "      <td>positive</td>\n",
              "      <td>positive</td>\n",
              "    </tr>\n",
              "    <tr>\n",
              "      <th>4</th>\n",
              "      <td>get do die hairrrr home chillin wit si</td>\n",
              "      <td>positive</td>\n",
              "      <td>positive</td>\n",
              "    </tr>\n",
              "    <tr>\n",
              "      <th>5</th>\n",
              "      <td>lose billa soon icon go to photoshop minto dav...</td>\n",
              "      <td>negative</td>\n",
              "      <td>negative</td>\n",
              "    </tr>\n",
              "    <tr>\n",
              "      <th>6</th>\n",
              "      <td>kburi I m total broke can not much socialis pa...</td>\n",
              "      <td>positive</td>\n",
              "      <td>negative</td>\n",
              "    </tr>\n",
              "    <tr>\n",
              "      <th>7</th>\n",
              "      <td>morn world take parent meal today ahem forget ...</td>\n",
              "      <td>positive</td>\n",
              "      <td>negative</td>\n",
              "    </tr>\n",
              "  </tbody>\n",
              "</table>\n",
              "</div>\n",
              "    <div class=\"colab-df-buttons\">\n",
              "\n",
              "  <div class=\"colab-df-container\">\n",
              "    <button class=\"colab-df-convert\" onclick=\"convertToInteractive('df-8df4b220-9acd-4c55-a845-90dd71d4f908')\"\n",
              "            title=\"Convert this dataframe to an interactive table.\"\n",
              "            style=\"display:none;\">\n",
              "\n",
              "  <svg xmlns=\"http://www.w3.org/2000/svg\" height=\"24px\" viewBox=\"0 -960 960 960\">\n",
              "    <path d=\"M120-120v-720h720v720H120Zm60-500h600v-160H180v160Zm220 220h160v-160H400v160Zm0 220h160v-160H400v160ZM180-400h160v-160H180v160Zm440 0h160v-160H620v160ZM180-180h160v-160H180v160Zm440 0h160v-160H620v160Z\"/>\n",
              "  </svg>\n",
              "    </button>\n",
              "\n",
              "  <style>\n",
              "    .colab-df-container {\n",
              "      display:flex;\n",
              "      gap: 12px;\n",
              "    }\n",
              "\n",
              "    .colab-df-convert {\n",
              "      background-color: #E8F0FE;\n",
              "      border: none;\n",
              "      border-radius: 50%;\n",
              "      cursor: pointer;\n",
              "      display: none;\n",
              "      fill: #1967D2;\n",
              "      height: 32px;\n",
              "      padding: 0 0 0 0;\n",
              "      width: 32px;\n",
              "    }\n",
              "\n",
              "    .colab-df-convert:hover {\n",
              "      background-color: #E2EBFA;\n",
              "      box-shadow: 0px 1px 2px rgba(60, 64, 67, 0.3), 0px 1px 3px 1px rgba(60, 64, 67, 0.15);\n",
              "      fill: #174EA6;\n",
              "    }\n",
              "\n",
              "    .colab-df-buttons div {\n",
              "      margin-bottom: 4px;\n",
              "    }\n",
              "\n",
              "    [theme=dark] .colab-df-convert {\n",
              "      background-color: #3B4455;\n",
              "      fill: #D2E3FC;\n",
              "    }\n",
              "\n",
              "    [theme=dark] .colab-df-convert:hover {\n",
              "      background-color: #434B5C;\n",
              "      box-shadow: 0px 1px 3px 1px rgba(0, 0, 0, 0.15);\n",
              "      filter: drop-shadow(0px 1px 2px rgba(0, 0, 0, 0.3));\n",
              "      fill: #FFFFFF;\n",
              "    }\n",
              "  </style>\n",
              "\n",
              "    <script>\n",
              "      const buttonEl =\n",
              "        document.querySelector('#df-8df4b220-9acd-4c55-a845-90dd71d4f908 button.colab-df-convert');\n",
              "      buttonEl.style.display =\n",
              "        google.colab.kernel.accessAllowed ? 'block' : 'none';\n",
              "\n",
              "      async function convertToInteractive(key) {\n",
              "        const element = document.querySelector('#df-8df4b220-9acd-4c55-a845-90dd71d4f908');\n",
              "        const dataTable =\n",
              "          await google.colab.kernel.invokeFunction('convertToInteractive',\n",
              "                                                    [key], {});\n",
              "        if (!dataTable) return;\n",
              "\n",
              "        const docLinkHtml = 'Like what you see? Visit the ' +\n",
              "          '<a target=\"_blank\" href=https://colab.research.google.com/notebooks/data_table.ipynb>data table notebook</a>'\n",
              "          + ' to learn more about interactive tables.';\n",
              "        element.innerHTML = '';\n",
              "        dataTable['output_type'] = 'display_data';\n",
              "        await google.colab.output.renderOutput(dataTable, element);\n",
              "        const docLink = document.createElement('div');\n",
              "        docLink.innerHTML = docLinkHtml;\n",
              "        element.appendChild(docLink);\n",
              "      }\n",
              "    </script>\n",
              "  </div>\n",
              "\n",
              "\n",
              "<div id=\"df-46bb8a32-9697-4680-9937-023c00e66335\">\n",
              "  <button class=\"colab-df-quickchart\" onclick=\"quickchart('df-46bb8a32-9697-4680-9937-023c00e66335')\"\n",
              "            title=\"Suggest charts\"\n",
              "            style=\"display:none;\">\n",
              "\n",
              "<svg xmlns=\"http://www.w3.org/2000/svg\" height=\"24px\"viewBox=\"0 0 24 24\"\n",
              "     width=\"24px\">\n",
              "    <g>\n",
              "        <path d=\"M19 3H5c-1.1 0-2 .9-2 2v14c0 1.1.9 2 2 2h14c1.1 0 2-.9 2-2V5c0-1.1-.9-2-2-2zM9 17H7v-7h2v7zm4 0h-2V7h2v10zm4 0h-2v-4h2v4z\"/>\n",
              "    </g>\n",
              "</svg>\n",
              "  </button>\n",
              "\n",
              "<style>\n",
              "  .colab-df-quickchart {\n",
              "      --bg-color: #E8F0FE;\n",
              "      --fill-color: #1967D2;\n",
              "      --hover-bg-color: #E2EBFA;\n",
              "      --hover-fill-color: #174EA6;\n",
              "      --disabled-fill-color: #AAA;\n",
              "      --disabled-bg-color: #DDD;\n",
              "  }\n",
              "\n",
              "  [theme=dark] .colab-df-quickchart {\n",
              "      --bg-color: #3B4455;\n",
              "      --fill-color: #D2E3FC;\n",
              "      --hover-bg-color: #434B5C;\n",
              "      --hover-fill-color: #FFFFFF;\n",
              "      --disabled-bg-color: #3B4455;\n",
              "      --disabled-fill-color: #666;\n",
              "  }\n",
              "\n",
              "  .colab-df-quickchart {\n",
              "    background-color: var(--bg-color);\n",
              "    border: none;\n",
              "    border-radius: 50%;\n",
              "    cursor: pointer;\n",
              "    display: none;\n",
              "    fill: var(--fill-color);\n",
              "    height: 32px;\n",
              "    padding: 0;\n",
              "    width: 32px;\n",
              "  }\n",
              "\n",
              "  .colab-df-quickchart:hover {\n",
              "    background-color: var(--hover-bg-color);\n",
              "    box-shadow: 0 1px 2px rgba(60, 64, 67, 0.3), 0 1px 3px 1px rgba(60, 64, 67, 0.15);\n",
              "    fill: var(--button-hover-fill-color);\n",
              "  }\n",
              "\n",
              "  .colab-df-quickchart-complete:disabled,\n",
              "  .colab-df-quickchart-complete:disabled:hover {\n",
              "    background-color: var(--disabled-bg-color);\n",
              "    fill: var(--disabled-fill-color);\n",
              "    box-shadow: none;\n",
              "  }\n",
              "\n",
              "  .colab-df-spinner {\n",
              "    border: 2px solid var(--fill-color);\n",
              "    border-color: transparent;\n",
              "    border-bottom-color: var(--fill-color);\n",
              "    animation:\n",
              "      spin 1s steps(1) infinite;\n",
              "  }\n",
              "\n",
              "  @keyframes spin {\n",
              "    0% {\n",
              "      border-color: transparent;\n",
              "      border-bottom-color: var(--fill-color);\n",
              "      border-left-color: var(--fill-color);\n",
              "    }\n",
              "    20% {\n",
              "      border-color: transparent;\n",
              "      border-left-color: var(--fill-color);\n",
              "      border-top-color: var(--fill-color);\n",
              "    }\n",
              "    30% {\n",
              "      border-color: transparent;\n",
              "      border-left-color: var(--fill-color);\n",
              "      border-top-color: var(--fill-color);\n",
              "      border-right-color: var(--fill-color);\n",
              "    }\n",
              "    40% {\n",
              "      border-color: transparent;\n",
              "      border-right-color: var(--fill-color);\n",
              "      border-top-color: var(--fill-color);\n",
              "    }\n",
              "    60% {\n",
              "      border-color: transparent;\n",
              "      border-right-color: var(--fill-color);\n",
              "    }\n",
              "    80% {\n",
              "      border-color: transparent;\n",
              "      border-right-color: var(--fill-color);\n",
              "      border-bottom-color: var(--fill-color);\n",
              "    }\n",
              "    90% {\n",
              "      border-color: transparent;\n",
              "      border-bottom-color: var(--fill-color);\n",
              "    }\n",
              "  }\n",
              "</style>\n",
              "\n",
              "  <script>\n",
              "    async function quickchart(key) {\n",
              "      const quickchartButtonEl =\n",
              "        document.querySelector('#' + key + ' button');\n",
              "      quickchartButtonEl.disabled = true;  // To prevent multiple clicks.\n",
              "      quickchartButtonEl.classList.add('colab-df-spinner');\n",
              "      try {\n",
              "        const charts = await google.colab.kernel.invokeFunction(\n",
              "            'suggestCharts', [key], {});\n",
              "      } catch (error) {\n",
              "        console.error('Error during call to suggestCharts:', error);\n",
              "      }\n",
              "      quickchartButtonEl.classList.remove('colab-df-spinner');\n",
              "      quickchartButtonEl.classList.add('colab-df-quickchart-complete');\n",
              "    }\n",
              "    (() => {\n",
              "      let quickchartButtonEl =\n",
              "        document.querySelector('#df-46bb8a32-9697-4680-9937-023c00e66335 button');\n",
              "      quickchartButtonEl.style.display =\n",
              "        google.colab.kernel.accessAllowed ? 'block' : 'none';\n",
              "    })();\n",
              "  </script>\n",
              "</div>\n",
              "\n",
              "  <div id=\"id_072f9780-a189-4f0d-bcf5-60af872c2c01\">\n",
              "    <style>\n",
              "      .colab-df-generate {\n",
              "        background-color: #E8F0FE;\n",
              "        border: none;\n",
              "        border-radius: 50%;\n",
              "        cursor: pointer;\n",
              "        display: none;\n",
              "        fill: #1967D2;\n",
              "        height: 32px;\n",
              "        padding: 0 0 0 0;\n",
              "        width: 32px;\n",
              "      }\n",
              "\n",
              "      .colab-df-generate:hover {\n",
              "        background-color: #E2EBFA;\n",
              "        box-shadow: 0px 1px 2px rgba(60, 64, 67, 0.3), 0px 1px 3px 1px rgba(60, 64, 67, 0.15);\n",
              "        fill: #174EA6;\n",
              "      }\n",
              "\n",
              "      [theme=dark] .colab-df-generate {\n",
              "        background-color: #3B4455;\n",
              "        fill: #D2E3FC;\n",
              "      }\n",
              "\n",
              "      [theme=dark] .colab-df-generate:hover {\n",
              "        background-color: #434B5C;\n",
              "        box-shadow: 0px 1px 3px 1px rgba(0, 0, 0, 0.15);\n",
              "        filter: drop-shadow(0px 1px 2px rgba(0, 0, 0, 0.3));\n",
              "        fill: #FFFFFF;\n",
              "      }\n",
              "    </style>\n",
              "    <button class=\"colab-df-generate\" onclick=\"generateWithVariable('sentiwordnet_sample_report')\"\n",
              "            title=\"Generate code using this dataframe.\"\n",
              "            style=\"display:none;\">\n",
              "\n",
              "  <svg xmlns=\"http://www.w3.org/2000/svg\" height=\"24px\"viewBox=\"0 0 24 24\"\n",
              "       width=\"24px\">\n",
              "    <path d=\"M7,19H8.4L18.45,9,17,7.55,7,17.6ZM5,21V16.75L18.45,3.32a2,2,0,0,1,2.83,0l1.4,1.43a1.91,1.91,0,0,1,.58,1.4,1.91,1.91,0,0,1-.58,1.4L9.25,21ZM18.45,9,17,7.55Zm-12,3A5.31,5.31,0,0,0,4.9,8.1,5.31,5.31,0,0,0,1,6.5,5.31,5.31,0,0,0,4.9,4.9,5.31,5.31,0,0,0,6.5,1,5.31,5.31,0,0,0,8.1,4.9,5.31,5.31,0,0,0,12,6.5,5.46,5.46,0,0,0,6.5,12Z\"/>\n",
              "  </svg>\n",
              "    </button>\n",
              "    <script>\n",
              "      (() => {\n",
              "      const buttonEl =\n",
              "        document.querySelector('#id_072f9780-a189-4f0d-bcf5-60af872c2c01 button.colab-df-generate');\n",
              "      buttonEl.style.display =\n",
              "        google.colab.kernel.accessAllowed ? 'block' : 'none';\n",
              "\n",
              "      buttonEl.onclick = () => {\n",
              "        google.colab.notebook.generateWithVariable('sentiwordnet_sample_report');\n",
              "      }\n",
              "      })();\n",
              "    </script>\n",
              "  </div>\n",
              "\n",
              "    </div>\n",
              "  </div>\n"
            ],
            "application/vnd.google.colaboratory.intrinsic+json": {
              "type": "dataframe",
              "variable_name": "sentiwordnet_sample_report",
              "summary": "{\n  \"name\": \"sentiwordnet_sample_report\",\n  \"rows\": 8,\n  \"fields\": [\n    {\n      \"column\": \"Text\",\n      \"properties\": {\n        \"dtype\": \"string\",\n        \"num_unique_values\": 8,\n        \"samples\": [\n          \"would someon care explain konran wallenrod wikipedia suck\",\n          \"lose billa soon icon go to photoshop minto daviestramp onto\",\n          \"mocashop wow normal ferrel fan make sad wait dvd not wast thx head\"\n        ],\n        \"semantic_type\": \"\",\n        \"description\": \"\"\n      }\n    },\n    {\n      \"column\": \"Real_sentiments\",\n      \"properties\": {\n        \"dtype\": \"category\",\n        \"num_unique_values\": 2,\n        \"samples\": [\n          \"positive\",\n          \"negative\"\n        ],\n        \"semantic_type\": \"\",\n        \"description\": \"\"\n      }\n    },\n    {\n      \"column\": \"snet_predicted_sentiments\",\n      \"properties\": {\n        \"dtype\": \"category\",\n        \"num_unique_values\": 2,\n        \"samples\": [\n          \"positive\",\n          \"negative\"\n        ],\n        \"semantic_type\": \"\",\n        \"description\": \"\"\n      }\n    }\n  ]\n}"
            }
          },
          "metadata": {},
          "execution_count": 61
        }
      ],
      "source": [
        "sentiwordnet_sample_report"
      ]
    },
    {
      "cell_type": "code",
      "execution_count": null,
      "metadata": {
        "id": "ositcmO8dcaq",
        "colab": {
          "base_uri": "https://localhost:8080/",
          "height": 300
        },
        "outputId": "3f1f8f59-17fb-4f67-a7b8-738d39d80afe"
      },
      "outputs": [
        {
          "output_type": "execute_result",
          "data": {
            "text/plain": [
              "<pandas.io.formats.style.Styler at 0x79c7be6f9510>"
            ],
            "text/html": [
              "<style type=\"text/css\">\n",
              "#T_cf30e_row0_col1, #T_cf30e_row0_col2, #T_cf30e_row1_col1, #T_cf30e_row2_col1, #T_cf30e_row2_col2, #T_cf30e_row5_col1, #T_cf30e_row5_col2, #T_cf30e_row6_col2, #T_cf30e_row7_col2 {\n",
              "  color: red;\n",
              "}\n",
              "#T_cf30e_row1_col2, #T_cf30e_row3_col1, #T_cf30e_row3_col2, #T_cf30e_row4_col1, #T_cf30e_row4_col2, #T_cf30e_row6_col1, #T_cf30e_row7_col1 {\n",
              "  color: green;\n",
              "}\n",
              "</style>\n",
              "<table id=\"T_cf30e\" class=\"dataframe\">\n",
              "  <thead>\n",
              "    <tr>\n",
              "      <th class=\"blank level0\" >&nbsp;</th>\n",
              "      <th id=\"T_cf30e_level0_col0\" class=\"col_heading level0 col0\" >Text</th>\n",
              "      <th id=\"T_cf30e_level0_col1\" class=\"col_heading level0 col1\" >Real_sentiments</th>\n",
              "      <th id=\"T_cf30e_level0_col2\" class=\"col_heading level0 col2\" >snet_predicted_sentiments</th>\n",
              "    </tr>\n",
              "  </thead>\n",
              "  <tbody>\n",
              "    <tr>\n",
              "      <th id=\"T_cf30e_level0_row0\" class=\"row_heading level0 row0\" >0</th>\n",
              "      <td id=\"T_cf30e_row0_col0\" class=\"data row0 col0\" >mocashop wow normal ferrel fan make sad wait dvd not wast thx head</td>\n",
              "      <td id=\"T_cf30e_row0_col1\" class=\"data row0 col1\" >negative</td>\n",
              "      <td id=\"T_cf30e_row0_col2\" class=\"data row0 col2\" >negative</td>\n",
              "    </tr>\n",
              "    <tr>\n",
              "      <th id=\"T_cf30e_level0_row1\" class=\"row_heading level0 row1\" >1</th>\n",
              "      <td id=\"T_cf30e_row1_col0\" class=\"data row1 col0\" >would someon care explain konran wallenrod wikipedia suck</td>\n",
              "      <td id=\"T_cf30e_row1_col1\" class=\"data row1 col1\" >negative</td>\n",
              "      <td id=\"T_cf30e_row1_col2\" class=\"data row1 col2\" >positive</td>\n",
              "    </tr>\n",
              "    <tr>\n",
              "      <th id=\"T_cf30e_level0_row2\" class=\"row_heading level0 row2\" >2</th>\n",
              "      <td id=\"T_cf30e_row2_col0\" class=\"data row2 col0\" >bed tag do night tomorrow work entir websit hope look well not like</td>\n",
              "      <td id=\"T_cf30e_row2_col1\" class=\"data row2 col1\" >negative</td>\n",
              "      <td id=\"T_cf30e_row2_col2\" class=\"data row2 col2\" >negative</td>\n",
              "    </tr>\n",
              "    <tr>\n",
              "      <th id=\"T_cf30e_level0_row3\" class=\"row_heading level0 row3\" >3</th>\n",
              "      <td id=\"T_cf30e_row3_col0\" class=\"data row3 col0\" >dy say everi sunset thr sunris delhi day extrem heat temp reach thr rain</td>\n",
              "      <td id=\"T_cf30e_row3_col1\" class=\"data row3 col1\" >positive</td>\n",
              "      <td id=\"T_cf30e_row3_col2\" class=\"data row3 col2\" >positive</td>\n",
              "    </tr>\n",
              "    <tr>\n",
              "      <th id=\"T_cf30e_level0_row4\" class=\"row_heading level0 row4\" >4</th>\n",
              "      <td id=\"T_cf30e_row4_col0\" class=\"data row4 col0\" >get do die hairrrr home chillin wit si</td>\n",
              "      <td id=\"T_cf30e_row4_col1\" class=\"data row4 col1\" >positive</td>\n",
              "      <td id=\"T_cf30e_row4_col2\" class=\"data row4 col2\" >positive</td>\n",
              "    </tr>\n",
              "    <tr>\n",
              "      <th id=\"T_cf30e_level0_row5\" class=\"row_heading level0 row5\" >5</th>\n",
              "      <td id=\"T_cf30e_row5_col0\" class=\"data row5 col0\" >lose billa soon icon go to photoshop minto daviestramp onto</td>\n",
              "      <td id=\"T_cf30e_row5_col1\" class=\"data row5 col1\" >negative</td>\n",
              "      <td id=\"T_cf30e_row5_col2\" class=\"data row5 col2\" >negative</td>\n",
              "    </tr>\n",
              "    <tr>\n",
              "      <th id=\"T_cf30e_level0_row6\" class=\"row_heading level0 row6\" >6</th>\n",
              "      <td id=\"T_cf30e_row6_col0\" class=\"data row6 col0\" >kburi I m total broke can not much socialis payday otherwis would defo come along drink soon x</td>\n",
              "      <td id=\"T_cf30e_row6_col1\" class=\"data row6 col1\" >positive</td>\n",
              "      <td id=\"T_cf30e_row6_col2\" class=\"data row6 col2\" >negative</td>\n",
              "    </tr>\n",
              "    <tr>\n",
              "      <th id=\"T_cf30e_level0_row7\" class=\"row_heading level0 row7\" >7</th>\n",
              "      <td id=\"T_cf30e_row7_col0\" class=\"data row7 col0\" >morn world take parent meal today ahem forget rubi anniversari last week blame lisa</td>\n",
              "      <td id=\"T_cf30e_row7_col1\" class=\"data row7 col1\" >positive</td>\n",
              "      <td id=\"T_cf30e_row7_col2\" class=\"data row7 col2\" >negative</td>\n",
              "    </tr>\n",
              "  </tbody>\n",
              "</table>\n"
            ]
          },
          "metadata": {},
          "execution_count": 62
        }
      ],
      "source": [
        "sentiwordnet_sample_report.style.applymap(color_negative_red, subset=['Real_sentiments','snet_predicted_sentiments'])"
      ]
    },
    {
      "cell_type": "code",
      "execution_count": null,
      "metadata": {
        "id": "gcgMmFX5dfJF",
        "colab": {
          "base_uri": "https://localhost:8080/",
          "height": 275
        },
        "outputId": "d0f7bfc9-25da-4914-da2d-e869c5a1af81"
      },
      "outputs": [
        {
          "output_type": "stream",
          "name": "stdout",
          "text": [
            "              precision    recall  f1-score   support\n",
            "\n",
            "    negative       0.68      0.51      0.58     80000\n",
            "    positive       0.61      0.75      0.67     80000\n",
            "\n",
            "    accuracy                           0.63    160000\n",
            "   macro avg       0.64      0.63      0.63    160000\n",
            "weighted avg       0.64      0.63      0.63    160000\n",
            "\n"
          ]
        },
        {
          "output_type": "execute_result",
          "data": {
            "text/plain": [
              "          negative  positive\n",
              "negative     40940     39060\n",
              "positive     19668     60332"
            ],
            "text/html": [
              "\n",
              "  <div id=\"df-4a768b89-094f-4bc9-bd03-55cc6a65366a\" class=\"colab-df-container\">\n",
              "    <div>\n",
              "<style scoped>\n",
              "    .dataframe tbody tr th:only-of-type {\n",
              "        vertical-align: middle;\n",
              "    }\n",
              "\n",
              "    .dataframe tbody tr th {\n",
              "        vertical-align: top;\n",
              "    }\n",
              "\n",
              "    .dataframe thead th {\n",
              "        text-align: right;\n",
              "    }\n",
              "</style>\n",
              "<table border=\"1\" class=\"dataframe\">\n",
              "  <thead>\n",
              "    <tr style=\"text-align: right;\">\n",
              "      <th></th>\n",
              "      <th>negative</th>\n",
              "      <th>positive</th>\n",
              "    </tr>\n",
              "  </thead>\n",
              "  <tbody>\n",
              "    <tr>\n",
              "      <th>negative</th>\n",
              "      <td>40940</td>\n",
              "      <td>39060</td>\n",
              "    </tr>\n",
              "    <tr>\n",
              "      <th>positive</th>\n",
              "      <td>19668</td>\n",
              "      <td>60332</td>\n",
              "    </tr>\n",
              "  </tbody>\n",
              "</table>\n",
              "</div>\n",
              "    <div class=\"colab-df-buttons\">\n",
              "\n",
              "  <div class=\"colab-df-container\">\n",
              "    <button class=\"colab-df-convert\" onclick=\"convertToInteractive('df-4a768b89-094f-4bc9-bd03-55cc6a65366a')\"\n",
              "            title=\"Convert this dataframe to an interactive table.\"\n",
              "            style=\"display:none;\">\n",
              "\n",
              "  <svg xmlns=\"http://www.w3.org/2000/svg\" height=\"24px\" viewBox=\"0 -960 960 960\">\n",
              "    <path d=\"M120-120v-720h720v720H120Zm60-500h600v-160H180v160Zm220 220h160v-160H400v160Zm0 220h160v-160H400v160ZM180-400h160v-160H180v160Zm440 0h160v-160H620v160ZM180-180h160v-160H180v160Zm440 0h160v-160H620v160Z\"/>\n",
              "  </svg>\n",
              "    </button>\n",
              "\n",
              "  <style>\n",
              "    .colab-df-container {\n",
              "      display:flex;\n",
              "      gap: 12px;\n",
              "    }\n",
              "\n",
              "    .colab-df-convert {\n",
              "      background-color: #E8F0FE;\n",
              "      border: none;\n",
              "      border-radius: 50%;\n",
              "      cursor: pointer;\n",
              "      display: none;\n",
              "      fill: #1967D2;\n",
              "      height: 32px;\n",
              "      padding: 0 0 0 0;\n",
              "      width: 32px;\n",
              "    }\n",
              "\n",
              "    .colab-df-convert:hover {\n",
              "      background-color: #E2EBFA;\n",
              "      box-shadow: 0px 1px 2px rgba(60, 64, 67, 0.3), 0px 1px 3px 1px rgba(60, 64, 67, 0.15);\n",
              "      fill: #174EA6;\n",
              "    }\n",
              "\n",
              "    .colab-df-buttons div {\n",
              "      margin-bottom: 4px;\n",
              "    }\n",
              "\n",
              "    [theme=dark] .colab-df-convert {\n",
              "      background-color: #3B4455;\n",
              "      fill: #D2E3FC;\n",
              "    }\n",
              "\n",
              "    [theme=dark] .colab-df-convert:hover {\n",
              "      background-color: #434B5C;\n",
              "      box-shadow: 0px 1px 3px 1px rgba(0, 0, 0, 0.15);\n",
              "      filter: drop-shadow(0px 1px 2px rgba(0, 0, 0, 0.3));\n",
              "      fill: #FFFFFF;\n",
              "    }\n",
              "  </style>\n",
              "\n",
              "    <script>\n",
              "      const buttonEl =\n",
              "        document.querySelector('#df-4a768b89-094f-4bc9-bd03-55cc6a65366a button.colab-df-convert');\n",
              "      buttonEl.style.display =\n",
              "        google.colab.kernel.accessAllowed ? 'block' : 'none';\n",
              "\n",
              "      async function convertToInteractive(key) {\n",
              "        const element = document.querySelector('#df-4a768b89-094f-4bc9-bd03-55cc6a65366a');\n",
              "        const dataTable =\n",
              "          await google.colab.kernel.invokeFunction('convertToInteractive',\n",
              "                                                    [key], {});\n",
              "        if (!dataTable) return;\n",
              "\n",
              "        const docLinkHtml = 'Like what you see? Visit the ' +\n",
              "          '<a target=\"_blank\" href=https://colab.research.google.com/notebooks/data_table.ipynb>data table notebook</a>'\n",
              "          + ' to learn more about interactive tables.';\n",
              "        element.innerHTML = '';\n",
              "        dataTable['output_type'] = 'display_data';\n",
              "        await google.colab.output.renderOutput(dataTable, element);\n",
              "        const docLink = document.createElement('div');\n",
              "        docLink.innerHTML = docLinkHtml;\n",
              "        element.appendChild(docLink);\n",
              "      }\n",
              "    </script>\n",
              "  </div>\n",
              "\n",
              "\n",
              "<div id=\"df-e6dee057-df74-47f4-954a-562821a2db92\">\n",
              "  <button class=\"colab-df-quickchart\" onclick=\"quickchart('df-e6dee057-df74-47f4-954a-562821a2db92')\"\n",
              "            title=\"Suggest charts\"\n",
              "            style=\"display:none;\">\n",
              "\n",
              "<svg xmlns=\"http://www.w3.org/2000/svg\" height=\"24px\"viewBox=\"0 0 24 24\"\n",
              "     width=\"24px\">\n",
              "    <g>\n",
              "        <path d=\"M19 3H5c-1.1 0-2 .9-2 2v14c0 1.1.9 2 2 2h14c1.1 0 2-.9 2-2V5c0-1.1-.9-2-2-2zM9 17H7v-7h2v7zm4 0h-2V7h2v10zm4 0h-2v-4h2v4z\"/>\n",
              "    </g>\n",
              "</svg>\n",
              "  </button>\n",
              "\n",
              "<style>\n",
              "  .colab-df-quickchart {\n",
              "      --bg-color: #E8F0FE;\n",
              "      --fill-color: #1967D2;\n",
              "      --hover-bg-color: #E2EBFA;\n",
              "      --hover-fill-color: #174EA6;\n",
              "      --disabled-fill-color: #AAA;\n",
              "      --disabled-bg-color: #DDD;\n",
              "  }\n",
              "\n",
              "  [theme=dark] .colab-df-quickchart {\n",
              "      --bg-color: #3B4455;\n",
              "      --fill-color: #D2E3FC;\n",
              "      --hover-bg-color: #434B5C;\n",
              "      --hover-fill-color: #FFFFFF;\n",
              "      --disabled-bg-color: #3B4455;\n",
              "      --disabled-fill-color: #666;\n",
              "  }\n",
              "\n",
              "  .colab-df-quickchart {\n",
              "    background-color: var(--bg-color);\n",
              "    border: none;\n",
              "    border-radius: 50%;\n",
              "    cursor: pointer;\n",
              "    display: none;\n",
              "    fill: var(--fill-color);\n",
              "    height: 32px;\n",
              "    padding: 0;\n",
              "    width: 32px;\n",
              "  }\n",
              "\n",
              "  .colab-df-quickchart:hover {\n",
              "    background-color: var(--hover-bg-color);\n",
              "    box-shadow: 0 1px 2px rgba(60, 64, 67, 0.3), 0 1px 3px 1px rgba(60, 64, 67, 0.15);\n",
              "    fill: var(--button-hover-fill-color);\n",
              "  }\n",
              "\n",
              "  .colab-df-quickchart-complete:disabled,\n",
              "  .colab-df-quickchart-complete:disabled:hover {\n",
              "    background-color: var(--disabled-bg-color);\n",
              "    fill: var(--disabled-fill-color);\n",
              "    box-shadow: none;\n",
              "  }\n",
              "\n",
              "  .colab-df-spinner {\n",
              "    border: 2px solid var(--fill-color);\n",
              "    border-color: transparent;\n",
              "    border-bottom-color: var(--fill-color);\n",
              "    animation:\n",
              "      spin 1s steps(1) infinite;\n",
              "  }\n",
              "\n",
              "  @keyframes spin {\n",
              "    0% {\n",
              "      border-color: transparent;\n",
              "      border-bottom-color: var(--fill-color);\n",
              "      border-left-color: var(--fill-color);\n",
              "    }\n",
              "    20% {\n",
              "      border-color: transparent;\n",
              "      border-left-color: var(--fill-color);\n",
              "      border-top-color: var(--fill-color);\n",
              "    }\n",
              "    30% {\n",
              "      border-color: transparent;\n",
              "      border-left-color: var(--fill-color);\n",
              "      border-top-color: var(--fill-color);\n",
              "      border-right-color: var(--fill-color);\n",
              "    }\n",
              "    40% {\n",
              "      border-color: transparent;\n",
              "      border-right-color: var(--fill-color);\n",
              "      border-top-color: var(--fill-color);\n",
              "    }\n",
              "    60% {\n",
              "      border-color: transparent;\n",
              "      border-right-color: var(--fill-color);\n",
              "    }\n",
              "    80% {\n",
              "      border-color: transparent;\n",
              "      border-right-color: var(--fill-color);\n",
              "      border-bottom-color: var(--fill-color);\n",
              "    }\n",
              "    90% {\n",
              "      border-color: transparent;\n",
              "      border-bottom-color: var(--fill-color);\n",
              "    }\n",
              "  }\n",
              "</style>\n",
              "\n",
              "  <script>\n",
              "    async function quickchart(key) {\n",
              "      const quickchartButtonEl =\n",
              "        document.querySelector('#' + key + ' button');\n",
              "      quickchartButtonEl.disabled = true;  // To prevent multiple clicks.\n",
              "      quickchartButtonEl.classList.add('colab-df-spinner');\n",
              "      try {\n",
              "        const charts = await google.colab.kernel.invokeFunction(\n",
              "            'suggestCharts', [key], {});\n",
              "      } catch (error) {\n",
              "        console.error('Error during call to suggestCharts:', error);\n",
              "      }\n",
              "      quickchartButtonEl.classList.remove('colab-df-spinner');\n",
              "      quickchartButtonEl.classList.add('colab-df-quickchart-complete');\n",
              "    }\n",
              "    (() => {\n",
              "      let quickchartButtonEl =\n",
              "        document.querySelector('#df-e6dee057-df74-47f4-954a-562821a2db92 button');\n",
              "      quickchartButtonEl.style.display =\n",
              "        google.colab.kernel.accessAllowed ? 'block' : 'none';\n",
              "    })();\n",
              "  </script>\n",
              "</div>\n",
              "\n",
              "    </div>\n",
              "  </div>\n"
            ],
            "application/vnd.google.colaboratory.intrinsic+json": {
              "type": "dataframe",
              "summary": "{\n  \"name\": \"pd\",\n  \"rows\": 2,\n  \"fields\": [\n    {\n      \"column\": \"negative\",\n      \"properties\": {\n        \"dtype\": \"number\",\n        \"std\": 15041,\n        \"min\": 19668,\n        \"max\": 40940,\n        \"num_unique_values\": 2,\n        \"samples\": [\n          19668,\n          40940\n        ],\n        \"semantic_type\": \"\",\n        \"description\": \"\"\n      }\n    },\n    {\n      \"column\": \"positive\",\n      \"properties\": {\n        \"dtype\": \"number\",\n        \"std\": 15041,\n        \"min\": 39060,\n        \"max\": 60332,\n        \"num_unique_values\": 2,\n        \"samples\": [\n          60332,\n          39060\n        ],\n        \"semantic_type\": \"\",\n        \"description\": \"\"\n      }\n    }\n  ]\n}"
            }
          },
          "metadata": {},
          "execution_count": 63
        }
      ],
      "source": [
        "labels = ['negative', 'positive']\n",
        "print(classification_report(test_sentiments, predicted_sentiments))\n",
        "pd.DataFrame(confusion_matrix(test_sentiments, predicted_sentiments), index=labels, columns=labels)"
      ]
    },
    {
      "cell_type": "code",
      "execution_count": null,
      "metadata": {
        "id": "Sz4AxEuddhKu",
        "colab": {
          "base_uri": "https://localhost:8080/",
          "height": 315
        },
        "outputId": "8364c0e4-7535-43f7-cc4a-605735c7f037"
      },
      "outputs": [
        {
          "output_type": "display_data",
          "data": {
            "text/plain": [
              "<Figure size 400x300 with 2 Axes>"
            ],
            "image/png": "[encoded data removed]"
          },
          "metadata": {}
        }
      ],
      "source": [
        "warnings.filterwarnings('ignore')\n",
        "\n",
        "plt.figure(figsize=(4,3))\n",
        "sns.heatmap(confusion_matrix(test_sentiments, predicted_sentiments),\n",
        "                annot=True,fmt = \"d\",linecolor=\"k\",linewidths=3)\n",
        "\n",
        "plt.title(\"Sentiment Analysis with sentiwordnet\",fontsize=14)\n",
        "plt.show()"
      ]
    },
    {
      "cell_type": "markdown",
      "metadata": {
        "id": "y5W912S1TEQN"
      },
      "source": [
        "Accuracy Score"
      ]
    },
    {
      "cell_type": "code",
      "execution_count": null,
      "metadata": {
        "id": "4OGhOQ8qdjdz",
        "colab": {
          "base_uri": "https://localhost:8080/"
        },
        "outputId": "ff814f4c-df49-4d1a-b6b4-92ed6e112c38"
      },
      "outputs": [
        {
          "output_type": "stream",
          "name": "stdout",
          "text": [
            "0.63295\n"
          ]
        }
      ],
      "source": [
        "sentiwordnet_model = accuracy_score(test_sentiments, predicted_sentiments)\n",
        "print(sentiwordnet_model)"
      ]
    },
    {
      "cell_type": "markdown",
      "metadata": {
        "id": "rKZ1cP2cdkZf"
      },
      "source": [
        "# Sentiment Analysis with VADER"
      ]
    },
    {
      "cell_type": "markdown",
      "metadata": {
        "id": "-SAs7eWidnkT"
      },
      "source": [
        "The VADER lexicon, developed by C.J. Hutto, is based on a rule-based sentiment analysis framework, specifically tuned to analyze sentiments in social media. VADER stands for Valence Aware Dictionary and sEntiment Reasoner. Details about this framework can be read in the original paper by Hutto, C.J., and Gilbert, E.E. (2014), entitled “VADER: A Parsimonious Rule-based Model for Sentiment Analysis of Social Media Text,” from the proceedings of the Eighth International Conference on Weblogs and Social Media (ICWSM-14). You can use the library based on NLTK’s interface under the nltk. sentiment.vader module. There were a total of over 9,000 lexical features from which over 7,500 curated lexical features were finally selected in the lexicon with proper validated valence scores.\n",
        "\n",
        "Each feature was rated on a scale from \"[-4] Extremely Negative\" to \"[4] Extremely Positive\", with allowance for \"[0] Neutral (or Neither, N/A)\"."
      ]
    },
    {
      "cell_type": "code",
      "execution_count": null,
      "metadata": {
        "id": "vZw61H3Adqy6"
      },
      "outputs": [],
      "source": [
        "from nltk.sentiment.vader import SentimentIntensityAnalyzer\n",
        "\n",
        "def analyze_sentiment_vader_lexicon(review,\n",
        "                                    threshold=0.1,\n",
        "                                    verbose=False):\n",
        "    # analyze the sentiment for review\n",
        "    analyzer = SentimentIntensityAnalyzer()\n",
        "    scores = analyzer.polarity_scores(review)\n",
        "    # get aggregate scores and final sentiment\n",
        "    agg_score = scores['compound']\n",
        "    final_sentiment = 'positive' if agg_score >= threshold\\\n",
        "                                   else 'negative'\n",
        "    if verbose:\n",
        "        # display detailed sentiment statistics\n",
        "        positive = str(round(scores['pos'], 2)*100)+'%'\n",
        "        final = round(agg_score, 2)\n",
        "        negative = str(round(scores['neg'], 2)*100)+'%'\n",
        "        neutral = str(round(scores['neu'], 2)*100)+'%'\n",
        "        sentiment_frame = pd.DataFrame([[final_sentiment, final, positive,\n",
        "                                        negative, neutral]],\n",
        "                                        columns=pd.MultiIndex(levels=[['SENTIMENT STATS:'],\n",
        "                                                                      ['Predicted Sentiment', 'Polarity Score',\n",
        "                                                                       'Positive', 'Negative', 'Neutral']],\n",
        "                                                              codes=[[0,0,0,0,0],[0,1,2,3,4]]))\n",
        "        print(sentiment_frame)\n",
        "\n",
        "    return final_sentiment"
      ]
    },
    {
      "cell_type": "code",
      "execution_count": null,
      "metadata": {
        "id": "6aYLeyKmdzwJ",
        "colab": {
          "base_uri": "https://localhost:8080/"
        },
        "outputId": "0a259806-47f1-4db1-ffbd-9120de3b7790"
      },
      "outputs": [
        {
          "output_type": "stream",
          "name": "stdout",
          "text": [
            "COMMENT: mocashop wow normal ferrel fan make sad wait dvd not wast thx head\n",
            "Actual Sentiment: negative\n",
            "     SENTIMENT STATS:                                         \n",
            "  Predicted Sentiment Polarity Score Positive Negative Neutral\n",
            "0            negative           0.22    30.0%    26.0%   44.0%\n",
            "------------------------------------------------------------\n",
            "COMMENT: would someon care explain konran wallenrod wikipedia suck\n",
            "Actual Sentiment: negative\n",
            "     SENTIMENT STATS:                                         \n",
            "  Predicted Sentiment Polarity Score Positive Negative Neutral\n",
            "0            negative           0.08    26.0%    24.0%   50.0%\n",
            "------------------------------------------------------------\n",
            "COMMENT: bed tag do night tomorrow work entir websit hope look well not like\n",
            "Actual Sentiment: negative\n",
            "     SENTIMENT STATS:                                               \\\n",
            "  Predicted Sentiment Polarity Score             Positive Negative   \n",
            "0            positive           0.44  28.999999999999996%    12.0%   \n",
            "\n",
            "                       \n",
            "              Neutral  \n",
            "0  57.99999999999999%  \n",
            "------------------------------------------------------------\n",
            "COMMENT: dy say everi sunset thr sunris delhi day extrem heat temp reach thr rain\n",
            "Actual Sentiment: positive\n",
            "     SENTIMENT STATS:                                         \n",
            "  Predicted Sentiment Polarity Score Positive Negative Neutral\n",
            "0            negative           0.03     8.0%     0.0%   92.0%\n",
            "------------------------------------------------------------\n",
            "COMMENT: get do die hairrrr home chillin wit si\n",
            "Actual Sentiment: positive\n",
            "     SENTIMENT STATS:                                         \n",
            "  Predicted Sentiment Polarity Score Positive Negative Neutral\n",
            "0            negative           -0.6     0.0%    36.0%   64.0%\n",
            "------------------------------------------------------------\n",
            "COMMENT: lose billa soon icon go to photoshop minto daviestramp onto\n",
            "Actual Sentiment: negative\n",
            "     SENTIMENT STATS:                                         \n",
            "  Predicted Sentiment Polarity Score Positive Negative Neutral\n",
            "0            negative           -0.4     0.0%    23.0%   77.0%\n",
            "------------------------------------------------------------\n",
            "COMMENT: kburi I m total broke can not much socialis payday otherwis would defo come along drink soon x\n",
            "Actual Sentiment: positive\n",
            "     SENTIMENT STATS:                                         \n",
            "  Predicted Sentiment Polarity Score Positive Negative Neutral\n",
            "0            negative          -0.42     0.0%    17.0%   83.0%\n",
            "------------------------------------------------------------\n",
            "COMMENT: morn world take parent meal today ahem forget rubi anniversari last week blame lisa\n",
            "Actual Sentiment: positive\n",
            "     SENTIMENT STATS:                                         \n",
            "  Predicted Sentiment Polarity Score Positive Negative Neutral\n",
            "0            negative          -0.51     0.0%    26.0%   74.0%\n",
            "------------------------------------------------------------\n"
          ]
        }
      ],
      "source": [
        "for i in sample_comment_ids:\n",
        "    comment = test_comments[i]\n",
        "    sentiment = test_sentiments[i]\n",
        "    print('COMMENT:', comment)\n",
        "    print('Actual Sentiment:', sentiment)\n",
        "    pred = analyze_sentiment_vader_lexicon(comment, threshold=0.4, verbose=True)\n",
        "    print('-'*60)"
      ]
    },
    {
      "cell_type": "code",
      "execution_count": null,
      "metadata": {
        "id": "8QiEMnfad2E7"
      },
      "outputs": [],
      "source": [
        "predicted_sentiments = [analyze_sentiment_vader_lexicon(comment, threshold=0.4, verbose=False) for comment in test_comments]"
      ]
    },
    {
      "cell_type": "code",
      "execution_count": null,
      "metadata": {
        "id": "givPDtfid5eu",
        "colab": {
          "base_uri": "https://localhost:8080/",
          "height": 275
        },
        "outputId": "0b1e5ede-4501-444a-82ef-8fb6883fc4d8"
      },
      "outputs": [
        {
          "output_type": "stream",
          "name": "stdout",
          "text": [
            "              precision    recall  f1-score   support\n",
            "\n",
            "    negative       0.58      0.82      0.68     80000\n",
            "    positive       0.70      0.40      0.51     80000\n",
            "\n",
            "    accuracy                           0.61    160000\n",
            "   macro avg       0.64      0.61      0.60    160000\n",
            "weighted avg       0.64      0.61      0.60    160000\n",
            "\n"
          ]
        },
        {
          "output_type": "execute_result",
          "data": {
            "text/plain": [
              "          negative  positive\n",
              "negative     65988     14012\n",
              "positive     47860     32140"
            ],
            "text/html": [
              "\n",
              "  <div id=\"df-38ecaf44-72cc-4ca5-9a38-fb21f43e29c2\" class=\"colab-df-container\">\n",
              "    <div>\n",
              "<style scoped>\n",
              "    .dataframe tbody tr th:only-of-type {\n",
              "        vertical-align: middle;\n",
              "    }\n",
              "\n",
              "    .dataframe tbody tr th {\n",
              "        vertical-align: top;\n",
              "    }\n",
              "\n",
              "    .dataframe thead th {\n",
              "        text-align: right;\n",
              "    }\n",
              "</style>\n",
              "<table border=\"1\" class=\"dataframe\">\n",
              "  <thead>\n",
              "    <tr style=\"text-align: right;\">\n",
              "      <th></th>\n",
              "      <th>negative</th>\n",
              "      <th>positive</th>\n",
              "    </tr>\n",
              "  </thead>\n",
              "  <tbody>\n",
              "    <tr>\n",
              "      <th>negative</th>\n",
              "      <td>65988</td>\n",
              "      <td>14012</td>\n",
              "    </tr>\n",
              "    <tr>\n",
              "      <th>positive</th>\n",
              "      <td>47860</td>\n",
              "      <td>32140</td>\n",
              "    </tr>\n",
              "  </tbody>\n",
              "</table>\n",
              "</div>\n",
              "    <div class=\"colab-df-buttons\">\n",
              "\n",
              "  <div class=\"colab-df-container\">\n",
              "    <button class=\"colab-df-convert\" onclick=\"convertToInteractive('df-38ecaf44-72cc-4ca5-9a38-fb21f43e29c2')\"\n",
              "            title=\"Convert this dataframe to an interactive table.\"\n",
              "            style=\"display:none;\">\n",
              "\n",
              "  <svg xmlns=\"http://www.w3.org/2000/svg\" height=\"24px\" viewBox=\"0 -960 960 960\">\n",
              "    <path d=\"M120-120v-720h720v720H120Zm60-500h600v-160H180v160Zm220 220h160v-160H400v160Zm0 220h160v-160H400v160ZM180-400h160v-160H180v160Zm440 0h160v-160H620v160ZM180-180h160v-160H180v160Zm440 0h160v-160H620v160Z\"/>\n",
              "  </svg>\n",
              "    </button>\n",
              "\n",
              "  <style>\n",
              "    .colab-df-container {\n",
              "      display:flex;\n",
              "      gap: 12px;\n",
              "    }\n",
              "\n",
              "    .colab-df-convert {\n",
              "      background-color: #E8F0FE;\n",
              "      border: none;\n",
              "      border-radius: 50%;\n",
              "      cursor: pointer;\n",
              "      display: none;\n",
              "      fill: #1967D2;\n",
              "      height: 32px;\n",
              "      padding: 0 0 0 0;\n",
              "      width: 32px;\n",
              "    }\n",
              "\n",
              "    .colab-df-convert:hover {\n",
              "      background-color: #E2EBFA;\n",
              "      box-shadow: 0px 1px 2px rgba(60, 64, 67, 0.3), 0px 1px 3px 1px rgba(60, 64, 67, 0.15);\n",
              "      fill: #174EA6;\n",
              "    }\n",
              "\n",
              "    .colab-df-buttons div {\n",
              "      margin-bottom: 4px;\n",
              "    }\n",
              "\n",
              "    [theme=dark] .colab-df-convert {\n",
              "      background-color: #3B4455;\n",
              "      fill: #D2E3FC;\n",
              "    }\n",
              "\n",
              "    [theme=dark] .colab-df-convert:hover {\n",
              "      background-color: #434B5C;\n",
              "      box-shadow: 0px 1px 3px 1px rgba(0, 0, 0, 0.15);\n",
              "      filter: drop-shadow(0px 1px 2px rgba(0, 0, 0, 0.3));\n",
              "      fill: #FFFFFF;\n",
              "    }\n",
              "  </style>\n",
              "\n",
              "    <script>\n",
              "      const buttonEl =\n",
              "        document.querySelector('#df-38ecaf44-72cc-4ca5-9a38-fb21f43e29c2 button.colab-df-convert');\n",
              "      buttonEl.style.display =\n",
              "        google.colab.kernel.accessAllowed ? 'block' : 'none';\n",
              "\n",
              "      async function convertToInteractive(key) {\n",
              "        const element = document.querySelector('#df-38ecaf44-72cc-4ca5-9a38-fb21f43e29c2');\n",
              "        const dataTable =\n",
              "          await google.colab.kernel.invokeFunction('convertToInteractive',\n",
              "                                                    [key], {});\n",
              "        if (!dataTable) return;\n",
              "\n",
              "        const docLinkHtml = 'Like what you see? Visit the ' +\n",
              "          '<a target=\"_blank\" href=https://colab.research.google.com/notebooks/data_table.ipynb>data table notebook</a>'\n",
              "          + ' to learn more about interactive tables.';\n",
              "        element.innerHTML = '';\n",
              "        dataTable['output_type'] = 'display_data';\n",
              "        await google.colab.output.renderOutput(dataTable, element);\n",
              "        const docLink = document.createElement('div');\n",
              "        docLink.innerHTML = docLinkHtml;\n",
              "        element.appendChild(docLink);\n",
              "      }\n",
              "    </script>\n",
              "  </div>\n",
              "\n",
              "\n",
              "<div id=\"df-e6cb74f9-3595-4584-88bb-0642e719d322\">\n",
              "  <button class=\"colab-df-quickchart\" onclick=\"quickchart('df-e6cb74f9-3595-4584-88bb-0642e719d322')\"\n",
              "            title=\"Suggest charts\"\n",
              "            style=\"display:none;\">\n",
              "\n",
              "<svg xmlns=\"http://www.w3.org/2000/svg\" height=\"24px\"viewBox=\"0 0 24 24\"\n",
              "     width=\"24px\">\n",
              "    <g>\n",
              "        <path d=\"M19 3H5c-1.1 0-2 .9-2 2v14c0 1.1.9 2 2 2h14c1.1 0 2-.9 2-2V5c0-1.1-.9-2-2-2zM9 17H7v-7h2v7zm4 0h-2V7h2v10zm4 0h-2v-4h2v4z\"/>\n",
              "    </g>\n",
              "</svg>\n",
              "  </button>\n",
              "\n",
              "<style>\n",
              "  .colab-df-quickchart {\n",
              "      --bg-color: #E8F0FE;\n",
              "      --fill-color: #1967D2;\n",
              "      --hover-bg-color: #E2EBFA;\n",
              "      --hover-fill-color: #174EA6;\n",
              "      --disabled-fill-color: #AAA;\n",
              "      --disabled-bg-color: #DDD;\n",
              "  }\n",
              "\n",
              "  [theme=dark] .colab-df-quickchart {\n",
              "      --bg-color: #3B4455;\n",
              "      --fill-color: #D2E3FC;\n",
              "      --hover-bg-color: #434B5C;\n",
              "      --hover-fill-color: #FFFFFF;\n",
              "      --disabled-bg-color: #3B4455;\n",
              "      --disabled-fill-color: #666;\n",
              "  }\n",
              "\n",
              "  .colab-df-quickchart {\n",
              "    background-color: var(--bg-color);\n",
              "    border: none;\n",
              "    border-radius: 50%;\n",
              "    cursor: pointer;\n",
              "    display: none;\n",
              "    fill: var(--fill-color);\n",
              "    height: 32px;\n",
              "    padding: 0;\n",
              "    width: 32px;\n",
              "  }\n",
              "\n",
              "  .colab-df-quickchart:hover {\n",
              "    background-color: var(--hover-bg-color);\n",
              "    box-shadow: 0 1px 2px rgba(60, 64, 67, 0.3), 0 1px 3px 1px rgba(60, 64, 67, 0.15);\n",
              "    fill: var(--button-hover-fill-color);\n",
              "  }\n",
              "\n",
              "  .colab-df-quickchart-complete:disabled,\n",
              "  .colab-df-quickchart-complete:disabled:hover {\n",
              "    background-color: var(--disabled-bg-color);\n",
              "    fill: var(--disabled-fill-color);\n",
              "    box-shadow: none;\n",
              "  }\n",
              "\n",
              "  .colab-df-spinner {\n",
              "    border: 2px solid var(--fill-color);\n",
              "    border-color: transparent;\n",
              "    border-bottom-color: var(--fill-color);\n",
              "    animation:\n",
              "      spin 1s steps(1) infinite;\n",
              "  }\n",
              "\n",
              "  @keyframes spin {\n",
              "    0% {\n",
              "      border-color: transparent;\n",
              "      border-bottom-color: var(--fill-color);\n",
              "      border-left-color: var(--fill-color);\n",
              "    }\n",
              "    20% {\n",
              "      border-color: transparent;\n",
              "      border-left-color: var(--fill-color);\n",
              "      border-top-color: var(--fill-color);\n",
              "    }\n",
              "    30% {\n",
              "      border-color: transparent;\n",
              "      border-left-color: var(--fill-color);\n",
              "      border-top-color: var(--fill-color);\n",
              "      border-right-color: var(--fill-color);\n",
              "    }\n",
              "    40% {\n",
              "      border-color: transparent;\n",
              "      border-right-color: var(--fill-color);\n",
              "      border-top-color: var(--fill-color);\n",
              "    }\n",
              "    60% {\n",
              "      border-color: transparent;\n",
              "      border-right-color: var(--fill-color);\n",
              "    }\n",
              "    80% {\n",
              "      border-color: transparent;\n",
              "      border-right-color: var(--fill-color);\n",
              "      border-bottom-color: var(--fill-color);\n",
              "    }\n",
              "    90% {\n",
              "      border-color: transparent;\n",
              "      border-bottom-color: var(--fill-color);\n",
              "    }\n",
              "  }\n",
              "</style>\n",
              "\n",
              "  <script>\n",
              "    async function quickchart(key) {\n",
              "      const quickchartButtonEl =\n",
              "        document.querySelector('#' + key + ' button');\n",
              "      quickchartButtonEl.disabled = true;  // To prevent multiple clicks.\n",
              "      quickchartButtonEl.classList.add('colab-df-spinner');\n",
              "      try {\n",
              "        const charts = await google.colab.kernel.invokeFunction(\n",
              "            'suggestCharts', [key], {});\n",
              "      } catch (error) {\n",
              "        console.error('Error during call to suggestCharts:', error);\n",
              "      }\n",
              "      quickchartButtonEl.classList.remove('colab-df-spinner');\n",
              "      quickchartButtonEl.classList.add('colab-df-quickchart-complete');\n",
              "    }\n",
              "    (() => {\n",
              "      let quickchartButtonEl =\n",
              "        document.querySelector('#df-e6cb74f9-3595-4584-88bb-0642e719d322 button');\n",
              "      quickchartButtonEl.style.display =\n",
              "        google.colab.kernel.accessAllowed ? 'block' : 'none';\n",
              "    })();\n",
              "  </script>\n",
              "</div>\n",
              "\n",
              "    </div>\n",
              "  </div>\n"
            ],
            "application/vnd.google.colaboratory.intrinsic+json": {
              "type": "dataframe",
              "summary": "{\n  \"name\": \"pd\",\n  \"rows\": 2,\n  \"fields\": [\n    {\n      \"column\": \"negative\",\n      \"properties\": {\n        \"dtype\": \"number\",\n        \"std\": 12818,\n        \"min\": 47860,\n        \"max\": 65988,\n        \"num_unique_values\": 2,\n        \"samples\": [\n          47860,\n          65988\n        ],\n        \"semantic_type\": \"\",\n        \"description\": \"\"\n      }\n    },\n    {\n      \"column\": \"positive\",\n      \"properties\": {\n        \"dtype\": \"number\",\n        \"std\": 12818,\n        \"min\": 14012,\n        \"max\": 32140,\n        \"num_unique_values\": 2,\n        \"samples\": [\n          32140,\n          14012\n        ],\n        \"semantic_type\": \"\",\n        \"description\": \"\"\n      }\n    }\n  ]\n}"
            }
          },
          "metadata": {},
          "execution_count": 69
        }
      ],
      "source": [
        "labels = ['negative', 'positive']\n",
        "print(classification_report(test_sentiments, predicted_sentiments))\n",
        "pd.DataFrame(confusion_matrix(test_sentiments, predicted_sentiments), index=labels, columns=labels)"
      ]
    },
    {
      "cell_type": "code",
      "execution_count": null,
      "metadata": {
        "id": "RUIEUTwreAmA"
      },
      "outputs": [],
      "source": [
        "vader_predicted_sentiments = predicted_sentiments[2],predicted_sentiments[555],predicted_sentiments[17626], predicted_sentiments[153533], predicted_sentiments[120043], predicted_sentiments[79859], predicted_sentiments[119010], predicted_sentiments[159997]"
      ]
    },
    {
      "cell_type": "code",
      "execution_count": null,
      "metadata": {
        "id": "RtmSqJ2uBDrH",
        "colab": {
          "base_uri": "https://localhost:8080/"
        },
        "outputId": "cbba0128-146a-404f-d4aa-04749e51e702"
      },
      "outputs": [
        {
          "output_type": "stream",
          "name": "stdout",
          "text": [
            "8 8 8\n"
          ]
        }
      ],
      "source": [
        "print(len(Text), len(Real_sentiments), len(vader_predicted_sentiments))"
      ]
    },
    {
      "cell_type": "code",
      "execution_count": null,
      "metadata": {
        "id": "6x2zr1RkeEIl"
      },
      "outputs": [],
      "source": [
        "vader_sample_report = pd.DataFrame({\n",
        "    'Text': Text,\n",
        "    'Real_sentiments': Real_sentiments,\n",
        "    'vader_predicted_sentiments': vader_predicted_sentiments\n",
        "})"
      ]
    },
    {
      "cell_type": "code",
      "execution_count": null,
      "metadata": {
        "id": "ETXe9aHWeIAU",
        "colab": {
          "base_uri": "https://localhost:8080/",
          "height": 300
        },
        "outputId": "c0a82b22-ec31-471a-d588-1a80c8229a4f"
      },
      "outputs": [
        {
          "output_type": "execute_result",
          "data": {
            "text/plain": [
              "<pandas.io.formats.style.Styler at 0x79c7ccd47a60>"
            ],
            "text/html": [
              "<style type=\"text/css\">\n",
              "#T_86846_row0_col1, #T_86846_row0_col2, #T_86846_row1_col1, #T_86846_row1_col2, #T_86846_row2_col1, #T_86846_row3_col2, #T_86846_row4_col2, #T_86846_row5_col1, #T_86846_row5_col2, #T_86846_row6_col2, #T_86846_row7_col2 {\n",
              "  color: red;\n",
              "}\n",
              "#T_86846_row2_col2, #T_86846_row3_col1, #T_86846_row4_col1, #T_86846_row6_col1, #T_86846_row7_col1 {\n",
              "  color: green;\n",
              "}\n",
              "</style>\n",
              "<table id=\"T_86846\" class=\"dataframe\">\n",
              "  <thead>\n",
              "    <tr>\n",
              "      <th class=\"blank level0\" >&nbsp;</th>\n",
              "      <th id=\"T_86846_level0_col0\" class=\"col_heading level0 col0\" >Text</th>\n",
              "      <th id=\"T_86846_level0_col1\" class=\"col_heading level0 col1\" >Real_sentiments</th>\n",
              "      <th id=\"T_86846_level0_col2\" class=\"col_heading level0 col2\" >vader_predicted_sentiments</th>\n",
              "    </tr>\n",
              "  </thead>\n",
              "  <tbody>\n",
              "    <tr>\n",
              "      <th id=\"T_86846_level0_row0\" class=\"row_heading level0 row0\" >0</th>\n",
              "      <td id=\"T_86846_row0_col0\" class=\"data row0 col0\" >mocashop wow normal ferrel fan make sad wait dvd not wast thx head</td>\n",
              "      <td id=\"T_86846_row0_col1\" class=\"data row0 col1\" >negative</td>\n",
              "      <td id=\"T_86846_row0_col2\" class=\"data row0 col2\" >negative</td>\n",
              "    </tr>\n",
              "    <tr>\n",
              "      <th id=\"T_86846_level0_row1\" class=\"row_heading level0 row1\" >1</th>\n",
              "      <td id=\"T_86846_row1_col0\" class=\"data row1 col0\" >would someon care explain konran wallenrod wikipedia suck</td>\n",
              "      <td id=\"T_86846_row1_col1\" class=\"data row1 col1\" >negative</td>\n",
              "      <td id=\"T_86846_row1_col2\" class=\"data row1 col2\" >negative</td>\n",
              "    </tr>\n",
              "    <tr>\n",
              "      <th id=\"T_86846_level0_row2\" class=\"row_heading level0 row2\" >2</th>\n",
              "      <td id=\"T_86846_row2_col0\" class=\"data row2 col0\" >bed tag do night tomorrow work entir websit hope look well not like</td>\n",
              "      <td id=\"T_86846_row2_col1\" class=\"data row2 col1\" >negative</td>\n",
              "      <td id=\"T_86846_row2_col2\" class=\"data row2 col2\" >positive</td>\n",
              "    </tr>\n",
              "    <tr>\n",
              "      <th id=\"T_86846_level0_row3\" class=\"row_heading level0 row3\" >3</th>\n",
              "      <td id=\"T_86846_row3_col0\" class=\"data row3 col0\" >dy say everi sunset thr sunris delhi day extrem heat temp reach thr rain</td>\n",
              "      <td id=\"T_86846_row3_col1\" class=\"data row3 col1\" >positive</td>\n",
              "      <td id=\"T_86846_row3_col2\" class=\"data row3 col2\" >negative</td>\n",
              "    </tr>\n",
              "    <tr>\n",
              "      <th id=\"T_86846_level0_row4\" class=\"row_heading level0 row4\" >4</th>\n",
              "      <td id=\"T_86846_row4_col0\" class=\"data row4 col0\" >get do die hairrrr home chillin wit si</td>\n",
              "      <td id=\"T_86846_row4_col1\" class=\"data row4 col1\" >positive</td>\n",
              "      <td id=\"T_86846_row4_col2\" class=\"data row4 col2\" >negative</td>\n",
              "    </tr>\n",
              "    <tr>\n",
              "      <th id=\"T_86846_level0_row5\" class=\"row_heading level0 row5\" >5</th>\n",
              "      <td id=\"T_86846_row5_col0\" class=\"data row5 col0\" >lose billa soon icon go to photoshop minto daviestramp onto</td>\n",
              "      <td id=\"T_86846_row5_col1\" class=\"data row5 col1\" >negative</td>\n",
              "      <td id=\"T_86846_row5_col2\" class=\"data row5 col2\" >negative</td>\n",
              "    </tr>\n",
              "    <tr>\n",
              "      <th id=\"T_86846_level0_row6\" class=\"row_heading level0 row6\" >6</th>\n",
              "      <td id=\"T_86846_row6_col0\" class=\"data row6 col0\" >kburi I m total broke can not much socialis payday otherwis would defo come along drink soon x</td>\n",
              "      <td id=\"T_86846_row6_col1\" class=\"data row6 col1\" >positive</td>\n",
              "      <td id=\"T_86846_row6_col2\" class=\"data row6 col2\" >negative</td>\n",
              "    </tr>\n",
              "    <tr>\n",
              "      <th id=\"T_86846_level0_row7\" class=\"row_heading level0 row7\" >7</th>\n",
              "      <td id=\"T_86846_row7_col0\" class=\"data row7 col0\" >morn world take parent meal today ahem forget rubi anniversari last week blame lisa</td>\n",
              "      <td id=\"T_86846_row7_col1\" class=\"data row7 col1\" >positive</td>\n",
              "      <td id=\"T_86846_row7_col2\" class=\"data row7 col2\" >negative</td>\n",
              "    </tr>\n",
              "  </tbody>\n",
              "</table>\n"
            ]
          },
          "metadata": {},
          "execution_count": 73
        }
      ],
      "source": [
        "vader_sample_report.style.applymap(color_negative_red, subset=['Real_sentiments','vader_predicted_sentiments'])"
      ]
    },
    {
      "cell_type": "code",
      "execution_count": null,
      "metadata": {
        "id": "7YCznVqzeLYJ",
        "colab": {
          "base_uri": "https://localhost:8080/",
          "height": 315
        },
        "outputId": "40aaf903-3a9c-4192-d1a5-ced022fa701a"
      },
      "outputs": [
        {
          "output_type": "display_data",
          "data": {
            "text/plain": [
              "<Figure size 400x300 with 2 Axes>"
            ],
            "image/png": "[encoded data removed]"
          },
          "metadata": {}
        }
      ],
      "source": [
        "warnings.filterwarnings('ignore')\n",
        "\n",
        "plt.figure(figsize=(4,3))\n",
        "sns.heatmap(confusion_matrix(test_sentiments, predicted_sentiments),\n",
        "                annot=True,fmt = \"d\",linecolor=\"k\",linewidths=3)\n",
        "\n",
        "plt.title(\"Sentiment Analysis with VADER\",fontsize=14)\n",
        "plt.show()"
      ]
    },
    {
      "cell_type": "code",
      "execution_count": null,
      "metadata": {
        "id": "hrdW45yxeNa9",
        "colab": {
          "base_uri": "https://localhost:8080/"
        },
        "outputId": "c04c1b8c-9042-4cd3-df96-c58b27b926a0"
      },
      "outputs": [
        {
          "output_type": "stream",
          "name": "stdout",
          "text": [
            "0.6133\n"
          ]
        }
      ],
      "source": [
        "VADER_model = accuracy_score(test_sentiments, predicted_sentiments)\n",
        "print(VADER_model)"
      ]
    },
    {
      "cell_type": "markdown",
      "metadata": {
        "id": "YLxtXNb8fAcM"
      },
      "source": [
        "# Sentiment Analysis with Flair\n"
      ]
    },
    {
      "cell_type": "markdown",
      "metadata": {
        "id": "nb243P2ofGKM"
      },
      "source": [
        "Till now we have used Rule Based models\n",
        "Flair is an embedding based model\n",
        "\n",
        "Flair is a state-of-art NLP framework built on PyTorch. It incorporates recent researches and provides an easy way to combine different embeddings to various NLP tasks. The pre-trained sentiment model offers a tool for sentiment analysis without training a customized model.\n",
        "\n",
        "Unlike TextBlob and VADER that output a sentiment score between -1 and 1, flair sentiment output the predicted label with a confidence score. The confidence score ranges from 0 to 1, with 1 being very confident and 0 being very unconfident.\n",
        "\n",
        "Before predicting the sentiment of a text, the input text needs to be tokenized by Sentence(). After that, we can see the sample text was split into nine tokens."
      ]
    },
    {
      "cell_type": "code",
      "execution_count": null,
      "metadata": {
        "id": "6dMDcbZGG1sP",
        "colab": {
          "base_uri": "https://localhost:8080/"
        },
        "outputId": "befd416e-da63-41f8-fb77-ee6aa95dacbf"
      },
      "outputs": [
        {
          "output_type": "stream",
          "name": "stdout",
          "text": [
            "Warning: Binary output can mess up your terminal. Use \"--output -\" to tell \n",
            "Warning: curl to output it to your terminal anyway, or consider \"--output \n",
            "Warning: <FILE>\" to save to a file.\n"
          ]
        }
      ],
      "source": [
        "!curl https://nlp.informatik.hu-berlin.de/resources/models/sentiment-curated-distilbert/sentiment-en-mix-distillbert_4.pt"
      ]
    },
    {
      "cell_type": "code",
      "execution_count": null,
      "metadata": {
        "id": "8OvGRVn7f4Sv",
        "colab": {
          "base_uri": "https://localhost:8080/",
          "height": 218
        },
        "outputId": "97fc1bf5-c6ef-4e39-9bbf-c922be51926f"
      },
      "outputs": [
        {
          "output_type": "error",
          "ename": "ModuleNotFoundError",
          "evalue": "No module named 'flair'",
          "traceback": [
            "\u001b[0;31m---------------------------------------------------------------------------\u001b[0m",
            "\u001b[0;31mModuleNotFoundError\u001b[0m                       Traceback (most recent call last)",
            "\u001b[0;32m<ipython-input-77-6689355303c0>\u001b[0m in \u001b[0;36m<cell line: 1>\u001b[0;34m()\u001b[0m\n\u001b[0;32m----> 1\u001b[0;31m \u001b[0;32mfrom\u001b[0m \u001b[0mflair\u001b[0m\u001b[0;34m.\u001b[0m\u001b[0mmodels\u001b[0m \u001b[0;32mimport\u001b[0m \u001b[0mTextClassifier\u001b[0m\u001b[0;34m\u001b[0m\u001b[0;34m\u001b[0m\u001b[0m\n\u001b[0m\u001b[1;32m      2\u001b[0m \u001b[0;34m\u001b[0m\u001b[0m\n\u001b[1;32m      3\u001b[0m \u001b[0;34m\u001b[0m\u001b[0m\n\u001b[1;32m      4\u001b[0m \u001b[0;31m# Import flair Sentence to process input text\u001b[0m\u001b[0;34m\u001b[0m\u001b[0;34m\u001b[0m\u001b[0m\n\u001b[1;32m      5\u001b[0m \u001b[0;32mfrom\u001b[0m \u001b[0mflair\u001b[0m\u001b[0;34m.\u001b[0m\u001b[0mdata\u001b[0m \u001b[0;32mimport\u001b[0m \u001b[0mSentence\u001b[0m\u001b[0;34m\u001b[0m\u001b[0;34m\u001b[0m\u001b[0m\n",
            "\u001b[0;31mModuleNotFoundError\u001b[0m: No module named 'flair'"
          ]
        }
      ],
      "source": [
        "from flair.models import TextClassifier\n",
        "\n",
        "\n",
        "# Import flair Sentence to process input text\n",
        "from flair.data import Sentence"
      ]
    },
    {
      "cell_type": "code",
      "execution_count": null,
      "metadata": {
        "id": "e3MU6SQbKTNS"
      },
      "outputs": [],
      "source": [
        "!ls flair/models/"
      ]
    },
    {
      "cell_type": "code",
      "execution_count": null,
      "metadata": {
        "id": "WmwMJarwKVr6"
      },
      "outputs": [],
      "source": [
        "classifier = TextClassifier.load('resources/taggers/question-classification-with-transformer/final-model.pt')"
      ]
    },
    {
      "cell_type": "code",
      "execution_count": null,
      "metadata": {
        "id": "v1ATXrsOI0Ph"
      },
      "outputs": [],
      "source": [
        "model_path = 'flair/models/text_classification_model.pt'\n",
        "classifier = TextClassifier.load(model_path)"
      ]
    },
    {
      "cell_type": "code",
      "execution_count": null,
      "metadata": {
        "id": "IpQcRb3Mq9fo"
      },
      "outputs": [],
      "source": [
        "# Define a function to get Flair sentiment prediction score\n",
        "def score_flair(text):\n",
        "  sentence = Sentence(text)\n",
        "  classifier.predict(sentence)\n",
        "  score = sentence.labels[0].score\n",
        "  value = sentence.labels[0].value\n",
        "  return score, value"
      ]
    },
    {
      "cell_type": "markdown",
      "metadata": {
        "id": "rFHpHLlBfrYw"
      },
      "source": []
    },
    {
      "cell_type": "code",
      "execution_count": null,
      "metadata": {
        "id": "p37V9AXzePrz"
      },
      "outputs": [],
      "source": [
        "import plotly.graph_objects as go\n",
        "\n",
        "x = ['TextBlob', 'AFINN', 'SentiWordNet','VADER']\n",
        "y = [TextBlob_model, AFINN_model, sentiwordnet_model, VADER_model]\n",
        "\n",
        "# Use the hovertext kw argument for hover text\n",
        "fig = go.Figure(data=[go.Bar(x=x, y=y,)])\n",
        "# Customize aspect\n",
        "fig.update_layout(title_text='Sentiment Analysis - Unsupervised Lexical')\n",
        "fig.show()"
      ]
    },
    {
      "cell_type": "markdown",
      "metadata": {
        "id": "kIem2FPCOaCy"
      },
      "source": [
        "# Using Max() rule to get the final sentiment scores of four models\n"
      ]
    },
    {
      "cell_type": "markdown",
      "metadata": {
        "id": "ToKk1XdHbZ-4"
      },
      "source": [
        "and if any row is"
      ]
    },
    {
      "cell_type": "code",
      "execution_count": null,
      "metadata": {
        "id": "pdplZU6yRpsA"
      },
      "outputs": [],
      "source": [
        "from collections import Counter\n",
        "\n",
        "# Define functions to calculate sentiment scores using each method\n",
        "\n",
        "def get_textblob_sentiment(text):\n",
        "    return 'positive' if textblob.TextBlob(text).sentiment.polarity >= 0.1 else 'negative'\n",
        "\n",
        "def get_afinn_sentiment(text):\n",
        "    return 'positive' if afn.score(text) >= 1.0 else 'negative'\n",
        "\n",
        "def get_sentiwordnet_sentiment(text):\n",
        "    sentiment = analyze_sentiment_sentiwordnet_lexicon(text, verbose=False)\n",
        "    return sentiment\n",
        "\n",
        "def get_vader_sentiment(text):\n",
        "    sentiment = analyze_sentiment_vader_lexicon(text, threshold=0.4, verbose=False)\n",
        "    return sentiment\n",
        "\n",
        "# Calculate sentiment scores for each row using all methods\n",
        "all_sentiments = []\n",
        "for text in test_comments_df:\n",
        "    textblob_sentiment = get_textblob_sentiment(text)\n",
        "    afinn_sentiment = get_afinn_sentiment(text)\n",
        "    sentiwordnet_sentiment = get_sentiwordnet_sentiment(text)\n",
        "    vader_sentiment = get_vader_sentiment(text)\n",
        "\n",
        "    all_sentiments.append((textblob_sentiment, afinn_sentiment, sentiwordnet_sentiment, vader_sentiment))\n",
        "\n",
        "# Determine final sentiment for each row\n",
        "final_sentiments = []\n",
        "for sentiments in all_sentiments:\n",
        "    sentiment_counts = Counter(sentiments)\n",
        "    if sentiment_counts['positive'] == sentiment_counts['negative']:  # If equal positive and negative sentiments\n",
        "        # Prioritize SentiWordNet sentiment\n",
        "        final_sentiment = get_sentiwordnet_sentiment(text)  # Calculate SentiWordNet sentiment for the current row\n",
        "    else:\n",
        "        final_sentiment = max(sentiment_counts, key=sentiment_counts.get)  # Choose the sentiment with maximum count\n",
        "    final_sentiments.append(final_sentiment)\n",
        "\n",
        "# Calculate accuracy\n",
        "#correct_predictions = sum(final_sentiments[i] == ground_truth_sentiments[i] for i in range(len(final_sentiments)))\n",
        "#accuracy = correct_predictions / len(final_sentiments)\n",
        "#print(\"Accuracy:\", accuracy)\n"
      ]
    },
    {
      "cell_type": "code",
      "execution_count": null,
      "metadata": {
        "id": "WCET6nadOXzc"
      },
      "outputs": [],
      "source": [
        "labels = ['negative', 'positive']\n",
        "print(classification_report(test_sentiments, final_sentiments))\n",
        "pd.DataFrame(confusion_matrix(test_sentiments, final_sentiments), index=labels, columns=labels)"
      ]
    },
    {
      "cell_type": "code",
      "execution_count": null,
      "metadata": {
        "id": "19VywCumZoJS"
      },
      "outputs": [],
      "source": [
        "all_final_sentiments = final_sentiments[2], final_sentiments[555], final_sentiments[17626], final_sentiments[153533], final_sentiments[120043], final_sentiments[79859], final_sentiments[119010], final_sentiments[159997]"
      ]
    },
    {
      "cell_type": "code",
      "execution_count": null,
      "metadata": {
        "id": "Zqj6fSLPaHP4"
      },
      "outputs": [],
      "source": [
        "all_sample_report = pd.DataFrame({\n",
        "    'Text': Text,\n",
        "    'Real_sentiments': Real_sentiments,\n",
        "    'all_final_sentiments': all_final_sentiments\n",
        "})"
      ]
    },
    {
      "cell_type": "code",
      "execution_count": null,
      "metadata": {
        "id": "RG3kbpnUaP30"
      },
      "outputs": [],
      "source": [
        "all_sample_report.style.applymap(color_negative_red, subset=['Real_sentiments','all_final_sentiments'])"
      ]
    },
    {
      "cell_type": "code",
      "execution_count": null,
      "metadata": {
        "id": "cq8FgmZMagKi"
      },
      "outputs": [],
      "source": [
        "warnings.filterwarnings('ignore')\n",
        "\n",
        "plt.figure(figsize=(4,3))\n",
        "sns.heatmap(confusion_matrix(test_sentiments, final_sentiments),\n",
        "                annot=True,fmt = \"d\",linecolor=\"k\",linewidths=3)\n",
        "\n",
        "plt.title(\"Sentiment Analysis with all of them\",fontsize=14)\n",
        "plt.show()"
      ]
    },
    {
      "cell_type": "code",
      "execution_count": null,
      "metadata": {
        "id": "5qXD7LFOalLO"
      },
      "outputs": [],
      "source": [
        "ALL_model = accuracy_score(test_sentiments, final_sentiments)\n",
        "print(ALL_model)"
      ]
    },
    {
      "cell_type": "code",
      "execution_count": null,
      "metadata": {
        "id": "3J83J1u72cyv"
      },
      "outputs": [],
      "source": [
        "import plotly.graph_objects as go\n",
        "\n",
        "x = ['TextBlob', 'AFINN', 'SentiWordNet', 'VADER', 'ALLinOne']\n",
        "y = [TextBlob_model, AFINN_model, sentiwordnet_model, VADER_model, ALL_model]\n",
        "\n",
        "# Use the hovertext kw argument for hover text\n",
        "fig = go.Figure(data=[go.Bar(x=x, y=y,)])\n",
        "# Customize aspect\n",
        "fig.update_layout(title_text='Sentiment Analysis - Unsupervised Lexical')\n",
        "fig.show()"
      ]
    },
    {
      "cell_type": "markdown",
      "metadata": {
        "id": "YNbozZT042cE"
      },
      "source": [
        "# Negation Extraction"
      ]
    },
    {
      "cell_type": "code",
      "execution_count": null,
      "metadata": {
        "id": "JCc3JJjo47Pk"
      },
      "outputs": [],
      "source": [
        "import pandas as pd\n",
        "import numpy as np\n",
        "import ast\n",
        "\n",
        "import warnings\n",
        "warnings.filterwarnings('ignore')\n",
        "\n",
        "import nltk\n",
        "import re\n",
        "import sys\n",
        "import os\n",
        "from itertools import dropwhile\n",
        "#import postagger\n",
        "from nltk.corpus import wordnet\n",
        "from nltk.corpus import stopwords\n",
        "from nltk import word_tokenize\n",
        "from nltk.corpus import stopwords\n",
        "from nltk.tokenize import RegexpTokenizer\n",
        "import spacy\n",
        "from spacy import displacy"
      ]
    },
    {
      "cell_type": "code",
      "execution_count": null,
      "metadata": {
        "id": "JIiw4epc48SL"
      },
      "outputs": [],
      "source": [
        "nlp1 = spacy.load('en')"
      ]
    },
    {
      "cell_type": "code",
      "execution_count": null,
      "metadata": {
        "id": "I0_6xxXn4-lb"
      },
      "outputs": [],
      "source": [
        "def parse_dependency_new(x):\n",
        "\n",
        "    def existence_checking(p):\n",
        "        try:\n",
        "            temp[p]\n",
        "            y = True\n",
        "        except:\n",
        "            y = False\n",
        "        return y\n",
        "\n",
        "    def check(p1,p2):\n",
        "        try:\n",
        "            graph[p2][p1]\n",
        "            y = True\n",
        "        except:\n",
        "            y = False\n",
        "        return y\n",
        "\n",
        "    doc = nlp(x)\n",
        "    temp = {}\n",
        "    for token in doc:\n",
        "        if not existence_checking(token.text):\n",
        "            temp[token.idx] = token.head.idx\n",
        "        else:\n",
        "            temp[token.idx] = token.head.idx\n",
        "\n",
        "    root_dic = {}\n",
        "    for token in doc:\n",
        "        if token.dep_ == 'ROOT':\n",
        "            root_dic[token.idx] = {}\n",
        "\n",
        "    reverse_dic = {}\n",
        "    keys = list(set([k for k,v in temp.items()]))\n",
        "    values = list(set([v for k,v in temp.items()]))\n",
        "\n",
        "    graph = {}\n",
        "    for k in values:\n",
        "        temp_ = {}\n",
        "        for v in keys:\n",
        "            if v != k:\n",
        "                if temp[v] == k:\n",
        "                    temp_[v] = {}\n",
        "        graph[k] = temp_\n",
        "\n",
        "    for k,v in graph.items():\n",
        "        for k1, v1 in graph.items():\n",
        "            if check(k,k1):\n",
        "                graph[k1][k] = graph[k]\n",
        "\n",
        "    graph_ = {}\n",
        "    for k in root_dic.keys():\n",
        "        graph_[k] = graph[k]\n",
        "\n",
        "    return graph_"
      ]
    },
    {
      "cell_type": "code",
      "execution_count": null,
      "metadata": {
        "id": "LllS_FN-5D2a"
      },
      "outputs": [],
      "source": [
        "def findKeys(data, key,result):\n",
        "    if key in list(data.keys()):\n",
        "        #print(key,\"====\",data)\n",
        "        result.append(data[key])\n",
        "    else:\n",
        "        for i in list(data.keys()):\n",
        "            if type(data[i]) == dict:\n",
        "                #print(i,data[i])\n",
        "                findKeys(data[i],key,result)\n",
        "    return result"
      ]
    },
    {
      "cell_type": "code",
      "execution_count": null,
      "metadata": {
        "id": "l2XYwxUI5GcO"
      },
      "outputs": [],
      "source": [
        "def findKeys_K(data,key_,word_id_dic):\n",
        "    key_id_lis = []\n",
        "    for k,v in word_id_dic.items():\n",
        "        if v == key_:\n",
        "            key_id_lis.append(k)\n",
        "    result_all = []\n",
        "    for key in key_id_lis:\n",
        "        result = []\n",
        "        result_all.append(findKeys(data,key,result))\n",
        "    return result_all"
      ]
    },
    {
      "cell_type": "code",
      "execution_count": null,
      "metadata": {
        "id": "hlhpjB325JZz"
      },
      "outputs": [],
      "source": [
        "def negation_existence(x, key_w):\n",
        "    x = x.lower()\n",
        "    x = x.replace('~','')\n",
        "    x = x.replace('$','')\n",
        "    doc = nlp(x)\n",
        "\n",
        "    word_id_dic = {}\n",
        "    for token in doc:\n",
        "        word_id_dic[token.idx] = token.text\n",
        "\n",
        "    output_lis = []\n",
        "\n",
        "    for token in doc:\n",
        "        if token.text in ['no','not',\"n't\",\"wouldn't\",'never','nobody','nothing','neither','nowhere','noone',\n",
        "                         'no-one','hardly','scarcely','barely']:\n",
        "            try:\n",
        "                if token.dep_ == 'det':\n",
        "                    if token.head.text == key_w:\n",
        "                        y = 1\n",
        "                    else:\n",
        "                        y = 0\n",
        "                else:\n",
        "                    try:\n",
        "                        if token.dep_ == 'neg' or token.head.pos_ == 'VERB':\n",
        "\n",
        "                            g = parse_dependency_new(x)\n",
        "                            g1 = findKeys_K(g,token.head.text,word_id_dic)\n",
        "\n",
        "                            if len(g1) != 0:\n",
        "                                len_lis = []\n",
        "                                for j in range(len(g1)):\n",
        "                                    g2 = findKeys_K(g1[j][0],key_w, word_id_dic)\n",
        "                                    len_lis.append(len(g2[0]))\n",
        "\n",
        "                                if any(len_lis) !=0:\n",
        "                                    y = 1\n",
        "                                else:\n",
        "                                    y = 0\n",
        "                            else:\n",
        "                                y = 0\n",
        "                        else:\n",
        "                            y = 0\n",
        "                    except:\n",
        "                        pass\n",
        "                output_lis.append(y)\n",
        "            except:\n",
        "                pass\n",
        "        else:\n",
        "            pass\n",
        "    if any(output_lis) == 1:\n",
        "        out = 1\n",
        "    else:\n",
        "        out = 0\n",
        "    return out"
      ]
    },
    {
      "cell_type": "code",
      "execution_count": null,
      "metadata": {
        "id": "Nw-XHAy25Oua"
      },
      "outputs": [],
      "source": [
        "negation_existence(\"I like tea, but I don't drink coffee\",'tea')"
      ]
    },
    {
      "cell_type": "code",
      "execution_count": null,
      "metadata": {
        "id": "G_nJh1E75Rv6"
      },
      "outputs": [],
      "source": [
        "negation_existence(\"I like tea, but I don't drink coffee\",'coffee')"
      ]
    },
    {
      "cell_type": "code",
      "execution_count": null,
      "metadata": {
        "id": "h23sf0ve5Tfe"
      },
      "outputs": [],
      "source": [
        "doc = nlp(\"I like tea, but I don't drink coffee\")"
      ]
    },
    {
      "cell_type": "code",
      "execution_count": null,
      "metadata": {
        "id": "AO27PNXN5VST"
      },
      "outputs": [],
      "source": [
        "displacy.render(doc,style='dep',jupyter=True)"
      ]
    },
    {
      "cell_type": "code",
      "execution_count": null,
      "metadata": {
        "id": "Xfc6CkRtBrlW"
      },
      "outputs": [],
      "source": [
        "import textblob\n",
        "import spacy_stanza\n",
        "from negspacy.negation import Negex\n",
        "from negspacy.termsets import termset\n",
        "from afinn import Afinn\n",
        "from nltk.corpus import sentiwordnet as swn\n",
        "from vaderSentiment.vaderSentiment import SentimentIntensityAnalyzer\n",
        "\n",
        "# Load SpaCy pipeline with Stanza\n",
        "nlp_model = spacy_stanza.load_pipeline('en')\n",
        "\n",
        "# Add negation detection component\n",
        "negex = Negex(nlp_model, ent_types=[\"PERSON\", \"ORG\", \"CARDINAL\", \"DATE\", \"EVENT\", \"LANGUAGE\", \"PRODUCT\", \"QUANTITY\", \"TIME\", \"WORK_OF_ART\"])\n",
        "nlp_model.add_pipe(negex)\n",
        "\n",
        "# Define functions to detect negation and adjust sentiment score\n",
        "\n",
        "def detect_negation(text):\n",
        "    negation_words = {'not', 'no', 'never', 'none', 'nobody', 'nothing', 'nowhere', 'neither', 'nor'}\n",
        "    doc = nlp_model(text)\n",
        "    negation_detected = any(token.text.lower() in negation_words for token in doc)\n",
        "    return negation_detected\n",
        "\n",
        "def adjust_sentiment_with_negation(score, text):\n",
        "    if detect_negation(text):\n",
        "        return -score\n",
        "    return score\n",
        "\n",
        "# Sentiment analysis using TextBlob with negation detection\n",
        "def get_textblob_sentiment_with_negation(text):\n",
        "    sentiment_score = textblob.TextBlob(text).sentiment.polarity\n",
        "    adjusted_score = adjust_sentiment_with_negation(sentiment_score, text)\n",
        "    return 'positive' if adjusted_score >= 0.1 else 'negative'\n",
        "\n",
        "# Sentiment analysis using AFINN with negation detection\n",
        "afinn = Afinn()\n",
        "def get_afinn_sentiment_with_negation(text):\n",
        "    sentiment_score = afinn.score(text)\n",
        "    adjusted_score = adjust_sentiment_with_negation(sentiment_score, text)\n",
        "    return 'positive' if adjusted_score >= 1.0 else 'negative'\n",
        "\n",
        "# Sentiment analysis using SentiWordNet with negation detection\n",
        "def get_sentiwordnet_sentiment_with_negation(text):\n",
        "    sentiment_score = 0.0\n",
        "    tokens = nlp_model(text)\n",
        "    for token in tokens:\n",
        "        synsets = list(swn.senti_synsets(token.text))\n",
        "        if synsets:\n",
        "            synset = synsets[0]\n",
        "            sentiment_score += synset.pos_score() - synset.neg_score()\n",
        "    adjusted_score = adjust_sentiment_with_negation(sentiment_score, text)\n",
        "    return 'positive' if adjusted_score >= 0.1 else 'negative'\n",
        "\n",
        "# Sentiment analysis using VADER with negation detection\n",
        "vader_analyzer = SentimentIntensityAnalyzer()\n",
        "def get_vader_sentiment_with_negation(text):\n",
        "    sentiment_score = vader_analyzer.polarity_scores(text)['compound']\n",
        "    adjusted_score = adjust_sentiment_with_negation(sentiment_score, text)\n",
        "    return 'positive' if adjusted_score >= 0.1 else 'negative'\n",
        "\n",
        "# Test with sample text\n",
        "sample_text = 'He does not like Adolf Hitler but likes German products.'\n",
        "\n",
        "print(\"TextBlob with negation detection:\", get_textblob_sentiment_with_negation(sample_text))\n",
        "print(\"AFINN with negation detection:\", get_afinn_sentiment_with_negation(sample_text))\n",
        "print(\"SentiWordNet with negation detection:\", get_sentiwordnet_sentiment_with_negation(sample_text))\n",
        "print(\"VADER with negation detection:\", get_vader_sentiment_with_negation(sample_text))\n"
      ]
    },
    {
      "cell_type": "code",
      "execution_count": null,
      "metadata": {
        "id": "A9cQFp1EBx-H"
      },
      "outputs": [],
      "source": [
        "import spacy\n",
        "import stanza\n",
        "import spacy_stanza\n",
        "from negspacy.negation import Negex\n",
        "from negspacy.termsets import termset\n",
        "import textblob\n",
        "import afn\n",
        "import nltk\n",
        "from nltk.corpus import sentiwordnet as swn\n",
        "from nltk.corpus import wordnet as wn\n",
        "from nltk.tokenize import word_tokenize\n",
        "from nltk.sentiment import SentimentIntensityAnalyzer\n",
        "from vaderSentiment.vaderSentiment import SentimentIntensityAnalyzer as VADER_SentimentIntensityAnalyzer\n",
        "\n",
        "# Load SpaCy with Stanza\n",
        "nlp_model = spacy_stanza.load_pipeline('en')\n",
        "\n",
        "# Add negation detection component\n",
        "negex = Negex(nlp_model, ent_types=[\"PERSON\", \"ORG\", \"CARDINAL\", \"DATE\", \"EVENT\", \"LANGUAGE\", \"PRODUCT\", \"QUANTITY\", \"TIME\", \"WORK_OF_ART\"])\n",
        "nlp_model.add_pipe(negex)\n",
        "\n",
        "# Initialize sentiment analyzers\n",
        "sid = SentimentIntensityAnalyzer()\n",
        "vader_analyzer = VADER_SentimentIntensityAnalyzer()\n",
        "\n",
        "# Define function to detect negations\n",
        "def detect_negations(text):\n",
        "    negation_words = set(termset['Negation'])\n",
        "    negations = []\n",
        "    tokens = word_tokenize(text)\n",
        "    for i, token in enumerate(tokens):\n",
        "        if token.lower() in negation_words:\n",
        "            negations.append((i, token))\n",
        "    return negations\n",
        "\n",
        "# TextBlob with negation detection\n",
        "def get_textblob_sentiment(text):\n",
        "    negations = detect_negations(text)\n",
        "    blob = textblob.TextBlob(text)\n",
        "    polarity = blob.sentiment.polarity\n",
        "    if negations:\n",
        "        polarity *= -1  # Reverse polarity if negation is detected\n",
        "    return 'positive' if polarity >= 0.1 else 'negative'\n",
        "\n",
        "# AFINN with negation detection\n",
        "def get_afinn_sentiment(text):\n",
        "    negations = detect_negations(text)\n",
        "    score = afn.score(text)\n",
        "    if negations:\n",
        "        score *= -1  # Reverse score if negation is detected\n",
        "    return 'positive' if score >= 1.0 else 'negative'\n",
        "\n",
        "# SentiWordNet\n",
        "def get_sentiwordnet_sentiment(text):\n",
        "    sentiment_score = 0.0\n",
        "    tokens = word_tokenize(text)\n",
        "    for token in tokens:\n",
        "        synsets = wn.synsets(token)\n",
        "        if synsets:\n",
        "            synset = synsets[0]  # Consider only the first synset\n",
        "            senti_synset = swn.senti_synset(synset.name())\n",
        "            sentiment_score += senti_synset.pos_score() - senti_synset.neg_score()\n",
        "    return 'positive' if sentiment_score >= 0.0 else 'negative'\n",
        "\n",
        "# VADER with negation detection\n",
        "def get_vader_sentiment(text):\n",
        "    negations = detect_negations(text)\n",
        "    scores = vader_analyzer.polarity_scores(text)\n",
        "    compound_score = scores['compound']\n",
        "    if negations:\n",
        "        compound_score *= -1  # Reverse score if negation is detected\n",
        "    return 'positive' if compound_score >= 0.0 else 'negative'\n",
        "\n",
        "# Test sentences\n",
        "sentences = [\n",
        "    'There is no English language option.',\n",
        "    'He does not like Adolf Hitler but likes German products.'\n",
        "]\n",
        "\n",
        "# Perform sentiment analysis with each method\n",
        "for text in sentences:\n",
        "    print(\"Text:\", text)\n",
        "    print(\"TextBlob Sentiment:\", get_textblob_sentiment(text))\n",
        "    print(\"AFINN Sentiment:\", get_afinn_sentiment(text))\n",
        "    print(\"SentiWordNet Sentiment:\", get_sentiwordnet_sentiment(text))\n",
        "    print(\"VADER Sentiment:\", get_vader_sentiment(text))\n",
        "    print()\n"
      ]
    },
    {
      "cell_type": "code",
      "execution_count": null,
      "metadata": {
        "id": "xZa17kouzaK8"
      },
      "outputs": [],
      "source": [
        "import tkinter as tk\n",
        "from tkinter import messagebox\n",
        "\n"
      ]
    }
  ],
  "metadata": {
    "accelerator": "GPU",
    "colab": {
      "gpuType": "T4",
      "provenance": [],
      "toc_visible": true,
      "include_colab_link": true
    },
    "kernelspec": {
      "display_name": "Python 3",
      "name": "python3"
    },
    "language_info": {
      "name": "python"
    }
  },
  "nbformat": 4,
  "nbformat_minor": 0
}